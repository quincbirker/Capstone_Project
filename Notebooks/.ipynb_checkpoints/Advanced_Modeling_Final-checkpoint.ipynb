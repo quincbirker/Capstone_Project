{
 "cells": [
  {
   "cell_type": "markdown",
   "id": "1e7e479e",
   "metadata": {},
   "source": [
    "<a id = 'title'></a>\n",
    "# Advanced Modeling\n",
    "\n",
    "##### Author: Quinci Birker"
   ]
  },
  {
   "cell_type": "markdown",
   "id": "d57bf934",
   "metadata": {},
   "source": [
    "## Table of Contents\n",
    "\n",
    "---------------------------------------\n",
    "1. [Import Dataset and Libraries](#import)\n",
    "2. [Baseline Modeling - Logistic Regression](#base)\n",
    "3. [Random Forest Classifier](#RFC)\n",
    "4. [XGBoost](#XGB)\n",
    "5. [Summary & Insights](#summary)\n",
    "---------------------------------------"
   ]
  },
  {
   "cell_type": "markdown",
   "id": "387b78ad",
   "metadata": {},
   "source": [
    "<a id = 'import'></a>\n",
    "## Import Dataset and Libraries"
   ]
  },
  {
   "cell_type": "code",
   "execution_count": 1,
   "id": "2a161100",
   "metadata": {},
   "outputs": [],
   "source": [
    "# Import libraries:\n",
    "import pandas as pd\n",
    "import numpy as np\n",
    "import matplotlib.pyplot as plt\n",
    "import seaborn as sns\n",
    "import plotly.express as px\n",
    "\n",
    "from sklearn.preprocessing import StandardScaler\n",
    "from sklearn.linear_model import LogisticRegression\n",
    "from sklearn.metrics import confusion_matrix, classification_report\n",
    "from sklearn.tree import DecisionTreeClassifier\n",
    "from sklearn.ensemble import RandomForestClassifier\n",
    "from sklearn.model_selection import RandomizedSearchCV\n",
    "from scipy.stats import randint\n",
    "from sklearn.model_selection import GridSearchCV\n",
    "from xgboost import XGBClassifier\n",
    "from sklearn.metrics import accuracy_score"
   ]
  },
  {
   "cell_type": "code",
   "execution_count": 4,
   "id": "e0eb9eef",
   "metadata": {},
   "outputs": [],
   "source": [
    "# Read in the training dataset\n",
    "X_train = pd.read_csv('data/X_train_2.csv', index_col=0)\n",
    "y_train = pd.read_csv('data/y_train_2.csv', index_col=0)\n",
    "\n",
    "# Read in the testing dataset\n",
    "X_test = pd.read_csv('data/X_test_2.csv', index_col=0)\n",
    "y_test = pd.read_csv('data/y_test_2.csv', index_col=0)"
   ]
  },
  {
   "cell_type": "markdown",
   "id": "f73cbfaf",
   "metadata": {},
   "source": [
    "##### Sanity check training dataset"
   ]
  },
  {
   "cell_type": "code",
   "execution_count": 5,
   "id": "77fbc3c2",
   "metadata": {
    "scrolled": false
   },
   "outputs": [
    {
     "data": {
      "text/html": [
       "<div>\n",
       "<style scoped>\n",
       "    .dataframe tbody tr th:only-of-type {\n",
       "        vertical-align: middle;\n",
       "    }\n",
       "\n",
       "    .dataframe tbody tr th {\n",
       "        vertical-align: top;\n",
       "    }\n",
       "\n",
       "    .dataframe thead th {\n",
       "        text-align: right;\n",
       "    }\n",
       "</style>\n",
       "<table border=\"1\" class=\"dataframe\">\n",
       "  <thead>\n",
       "    <tr style=\"text-align: right;\">\n",
       "      <th></th>\n",
       "      <th>pages</th>\n",
       "      <th>numRatings</th>\n",
       "      <th>bbeScore</th>\n",
       "      <th>year</th>\n",
       "      <th>month</th>\n",
       "      <th>series_bool</th>\n",
       "      <th>genre_count</th>\n",
       "      <th>publisher_unknown</th>\n",
       "      <th>publisher_Vintage</th>\n",
       "      <th>publisher_HarperCollins</th>\n",
       "      <th>...</th>\n",
       "      <th>desc_would</th>\n",
       "      <th>desc_write</th>\n",
       "      <th>desc_writer</th>\n",
       "      <th>desc_written</th>\n",
       "      <th>desc_wrong</th>\n",
       "      <th>desc_year</th>\n",
       "      <th>desc_yet</th>\n",
       "      <th>desc_york</th>\n",
       "      <th>desc_young</th>\n",
       "      <th>desc_–</th>\n",
       "    </tr>\n",
       "  </thead>\n",
       "  <tbody>\n",
       "    <tr>\n",
       "      <th>0</th>\n",
       "      <td>22.0</td>\n",
       "      <td>666</td>\n",
       "      <td>89</td>\n",
       "      <td>1974</td>\n",
       "      <td>1</td>\n",
       "      <td>0</td>\n",
       "      <td>52</td>\n",
       "      <td>0</td>\n",
       "      <td>0</td>\n",
       "      <td>0</td>\n",
       "      <td>...</td>\n",
       "      <td>0.0</td>\n",
       "      <td>0.0</td>\n",
       "      <td>0.0</td>\n",
       "      <td>0.0</td>\n",
       "      <td>0.0</td>\n",
       "      <td>0.000000</td>\n",
       "      <td>0.0</td>\n",
       "      <td>0.0</td>\n",
       "      <td>0.0</td>\n",
       "      <td>0.0</td>\n",
       "    </tr>\n",
       "    <tr>\n",
       "      <th>1</th>\n",
       "      <td>176.0</td>\n",
       "      <td>161</td>\n",
       "      <td>83</td>\n",
       "      <td>1983</td>\n",
       "      <td>1</td>\n",
       "      <td>0</td>\n",
       "      <td>95</td>\n",
       "      <td>0</td>\n",
       "      <td>0</td>\n",
       "      <td>0</td>\n",
       "      <td>...</td>\n",
       "      <td>0.0</td>\n",
       "      <td>0.0</td>\n",
       "      <td>0.0</td>\n",
       "      <td>0.0</td>\n",
       "      <td>0.0</td>\n",
       "      <td>0.000000</td>\n",
       "      <td>0.0</td>\n",
       "      <td>0.0</td>\n",
       "      <td>0.0</td>\n",
       "      <td>0.0</td>\n",
       "    </tr>\n",
       "    <tr>\n",
       "      <th>2</th>\n",
       "      <td>339.0</td>\n",
       "      <td>2535</td>\n",
       "      <td>24</td>\n",
       "      <td>2014</td>\n",
       "      <td>5</td>\n",
       "      <td>1</td>\n",
       "      <td>171</td>\n",
       "      <td>0</td>\n",
       "      <td>0</td>\n",
       "      <td>0</td>\n",
       "      <td>...</td>\n",
       "      <td>0.0</td>\n",
       "      <td>0.0</td>\n",
       "      <td>0.0</td>\n",
       "      <td>0.0</td>\n",
       "      <td>0.0</td>\n",
       "      <td>0.105272</td>\n",
       "      <td>0.0</td>\n",
       "      <td>0.0</td>\n",
       "      <td>0.0</td>\n",
       "      <td>0.0</td>\n",
       "    </tr>\n",
       "    <tr>\n",
       "      <th>3</th>\n",
       "      <td>201.0</td>\n",
       "      <td>17367</td>\n",
       "      <td>370</td>\n",
       "      <td>2009</td>\n",
       "      <td>7</td>\n",
       "      <td>0</td>\n",
       "      <td>139</td>\n",
       "      <td>0</td>\n",
       "      <td>0</td>\n",
       "      <td>0</td>\n",
       "      <td>...</td>\n",
       "      <td>0.0</td>\n",
       "      <td>0.0</td>\n",
       "      <td>0.0</td>\n",
       "      <td>0.0</td>\n",
       "      <td>0.0</td>\n",
       "      <td>0.000000</td>\n",
       "      <td>0.0</td>\n",
       "      <td>0.0</td>\n",
       "      <td>0.0</td>\n",
       "      <td>0.0</td>\n",
       "    </tr>\n",
       "    <tr>\n",
       "      <th>4</th>\n",
       "      <td>224.0</td>\n",
       "      <td>94434</td>\n",
       "      <td>389</td>\n",
       "      <td>2016</td>\n",
       "      <td>11</td>\n",
       "      <td>0</td>\n",
       "      <td>125</td>\n",
       "      <td>0</td>\n",
       "      <td>0</td>\n",
       "      <td>0</td>\n",
       "      <td>...</td>\n",
       "      <td>0.0</td>\n",
       "      <td>0.0</td>\n",
       "      <td>0.0</td>\n",
       "      <td>0.0</td>\n",
       "      <td>0.0</td>\n",
       "      <td>0.208217</td>\n",
       "      <td>0.0</td>\n",
       "      <td>0.0</td>\n",
       "      <td>0.0</td>\n",
       "      <td>0.0</td>\n",
       "    </tr>\n",
       "  </tbody>\n",
       "</table>\n",
       "<p>5 rows × 458 columns</p>\n",
       "</div>"
      ],
      "text/plain": [
       "   pages  numRatings  bbeScore  year  month  series_bool  genre_count  \\\n",
       "0   22.0         666        89  1974      1            0           52   \n",
       "1  176.0         161        83  1983      1            0           95   \n",
       "2  339.0        2535        24  2014      5            1          171   \n",
       "3  201.0       17367       370  2009      7            0          139   \n",
       "4  224.0       94434       389  2016     11            0          125   \n",
       "\n",
       "   publisher_unknown  publisher_Vintage  publisher_HarperCollins  ...  \\\n",
       "0                  0                  0                        0  ...   \n",
       "1                  0                  0                        0  ...   \n",
       "2                  0                  0                        0  ...   \n",
       "3                  0                  0                        0  ...   \n",
       "4                  0                  0                        0  ...   \n",
       "\n",
       "   desc_would  desc_write  desc_writer  desc_written  desc_wrong  desc_year  \\\n",
       "0         0.0         0.0          0.0           0.0         0.0   0.000000   \n",
       "1         0.0         0.0          0.0           0.0         0.0   0.000000   \n",
       "2         0.0         0.0          0.0           0.0         0.0   0.105272   \n",
       "3         0.0         0.0          0.0           0.0         0.0   0.000000   \n",
       "4         0.0         0.0          0.0           0.0         0.0   0.208217   \n",
       "\n",
       "   desc_yet  desc_york  desc_young  desc_–  \n",
       "0       0.0        0.0         0.0     0.0  \n",
       "1       0.0        0.0         0.0     0.0  \n",
       "2       0.0        0.0         0.0     0.0  \n",
       "3       0.0        0.0         0.0     0.0  \n",
       "4       0.0        0.0         0.0     0.0  \n",
       "\n",
       "[5 rows x 458 columns]"
      ]
     },
     "execution_count": 5,
     "metadata": {},
     "output_type": "execute_result"
    }
   ],
   "source": [
    "X_train.head()"
   ]
  },
  {
   "cell_type": "code",
   "execution_count": 6,
   "id": "f74a36d7",
   "metadata": {
    "scrolled": false
   },
   "outputs": [
    {
     "data": {
      "text/plain": [
       "(33041, 458)"
      ]
     },
     "execution_count": 6,
     "metadata": {},
     "output_type": "execute_result"
    }
   ],
   "source": [
    "X_train.shape"
   ]
  },
  {
   "cell_type": "code",
   "execution_count": 7,
   "id": "b4929cfa",
   "metadata": {},
   "outputs": [
    {
     "data": {
      "text/html": [
       "<div>\n",
       "<style scoped>\n",
       "    .dataframe tbody tr th:only-of-type {\n",
       "        vertical-align: middle;\n",
       "    }\n",
       "\n",
       "    .dataframe tbody tr th {\n",
       "        vertical-align: top;\n",
       "    }\n",
       "\n",
       "    .dataframe thead th {\n",
       "        text-align: right;\n",
       "    }\n",
       "</style>\n",
       "<table border=\"1\" class=\"dataframe\">\n",
       "  <thead>\n",
       "    <tr style=\"text-align: right;\">\n",
       "      <th></th>\n",
       "      <th>rating</th>\n",
       "    </tr>\n",
       "  </thead>\n",
       "  <tbody>\n",
       "    <tr>\n",
       "      <th>35783</th>\n",
       "      <td>1</td>\n",
       "    </tr>\n",
       "    <tr>\n",
       "      <th>39773</th>\n",
       "      <td>0</td>\n",
       "    </tr>\n",
       "    <tr>\n",
       "      <th>51074</th>\n",
       "      <td>0</td>\n",
       "    </tr>\n",
       "    <tr>\n",
       "      <th>7233</th>\n",
       "      <td>1</td>\n",
       "    </tr>\n",
       "    <tr>\n",
       "      <th>6868</th>\n",
       "      <td>0</td>\n",
       "    </tr>\n",
       "  </tbody>\n",
       "</table>\n",
       "</div>"
      ],
      "text/plain": [
       "       rating\n",
       "35783       1\n",
       "39773       0\n",
       "51074       0\n",
       "7233        1\n",
       "6868        0"
      ]
     },
     "execution_count": 7,
     "metadata": {},
     "output_type": "execute_result"
    }
   ],
   "source": [
    "y_train.head()"
   ]
  },
  {
   "cell_type": "code",
   "execution_count": 8,
   "id": "eb53a79d",
   "metadata": {
    "scrolled": false
   },
   "outputs": [
    {
     "data": {
      "text/plain": [
       "(33041, 1)"
      ]
     },
     "execution_count": 8,
     "metadata": {},
     "output_type": "execute_result"
    }
   ],
   "source": [
    "y_train.shape"
   ]
  },
  {
   "cell_type": "markdown",
   "id": "64ae700a",
   "metadata": {},
   "source": [
    "Scikit-Learn models generally expect the target variable to be a 1D array, so this will need to be reshaped"
   ]
  },
  {
   "cell_type": "code",
   "execution_count": 9,
   "id": "d39face7",
   "metadata": {},
   "outputs": [
    {
     "data": {
      "text/plain": [
       "(33041,)"
      ]
     },
     "execution_count": 9,
     "metadata": {},
     "output_type": "execute_result"
    }
   ],
   "source": [
    "# Reshape y_train\n",
    "y_train = y_train.values.ravel()\n",
    "y_train.shape"
   ]
  },
  {
   "cell_type": "markdown",
   "id": "631243db",
   "metadata": {},
   "source": [
    "##### Sanity check testing dataset"
   ]
  },
  {
   "cell_type": "code",
   "execution_count": 10,
   "id": "4ffe9a9e",
   "metadata": {},
   "outputs": [
    {
     "data": {
      "text/html": [
       "<div>\n",
       "<style scoped>\n",
       "    .dataframe tbody tr th:only-of-type {\n",
       "        vertical-align: middle;\n",
       "    }\n",
       "\n",
       "    .dataframe tbody tr th {\n",
       "        vertical-align: top;\n",
       "    }\n",
       "\n",
       "    .dataframe thead th {\n",
       "        text-align: right;\n",
       "    }\n",
       "</style>\n",
       "<table border=\"1\" class=\"dataframe\">\n",
       "  <thead>\n",
       "    <tr style=\"text-align: right;\">\n",
       "      <th></th>\n",
       "      <th>pages</th>\n",
       "      <th>numRatings</th>\n",
       "      <th>bbeScore</th>\n",
       "      <th>year</th>\n",
       "      <th>month</th>\n",
       "      <th>series_bool</th>\n",
       "      <th>genre_count</th>\n",
       "      <th>publisher_unknown</th>\n",
       "      <th>publisher_Vintage</th>\n",
       "      <th>publisher_HarperCollins</th>\n",
       "      <th>...</th>\n",
       "      <th>desc_would</th>\n",
       "      <th>desc_write</th>\n",
       "      <th>desc_writer</th>\n",
       "      <th>desc_written</th>\n",
       "      <th>desc_wrong</th>\n",
       "      <th>desc_year</th>\n",
       "      <th>desc_yet</th>\n",
       "      <th>desc_york</th>\n",
       "      <th>desc_young</th>\n",
       "      <th>desc_–</th>\n",
       "    </tr>\n",
       "  </thead>\n",
       "  <tbody>\n",
       "    <tr>\n",
       "      <th>0</th>\n",
       "      <td>346.0</td>\n",
       "      <td>1864</td>\n",
       "      <td>92</td>\n",
       "      <td>2015</td>\n",
       "      <td>9</td>\n",
       "      <td>1</td>\n",
       "      <td>147</td>\n",
       "      <td>0</td>\n",
       "      <td>0</td>\n",
       "      <td>0</td>\n",
       "      <td>...</td>\n",
       "      <td>0.0</td>\n",
       "      <td>0.000000</td>\n",
       "      <td>0.0</td>\n",
       "      <td>0.0</td>\n",
       "      <td>0.0</td>\n",
       "      <td>0.000000</td>\n",
       "      <td>0.00000</td>\n",
       "      <td>0.0</td>\n",
       "      <td>0.0</td>\n",
       "      <td>0.0</td>\n",
       "    </tr>\n",
       "    <tr>\n",
       "      <th>1</th>\n",
       "      <td>160.0</td>\n",
       "      <td>12646</td>\n",
       "      <td>194</td>\n",
       "      <td>2002</td>\n",
       "      <td>1</td>\n",
       "      <td>1</td>\n",
       "      <td>140</td>\n",
       "      <td>0</td>\n",
       "      <td>0</td>\n",
       "      <td>0</td>\n",
       "      <td>...</td>\n",
       "      <td>0.0</td>\n",
       "      <td>0.000000</td>\n",
       "      <td>0.0</td>\n",
       "      <td>0.0</td>\n",
       "      <td>0.0</td>\n",
       "      <td>0.000000</td>\n",
       "      <td>0.00000</td>\n",
       "      <td>0.0</td>\n",
       "      <td>0.0</td>\n",
       "      <td>0.0</td>\n",
       "    </tr>\n",
       "    <tr>\n",
       "      <th>2</th>\n",
       "      <td>513.0</td>\n",
       "      <td>62049</td>\n",
       "      <td>289</td>\n",
       "      <td>2019</td>\n",
       "      <td>9</td>\n",
       "      <td>1</td>\n",
       "      <td>131</td>\n",
       "      <td>0</td>\n",
       "      <td>0</td>\n",
       "      <td>0</td>\n",
       "      <td>...</td>\n",
       "      <td>0.0</td>\n",
       "      <td>0.000000</td>\n",
       "      <td>0.0</td>\n",
       "      <td>0.0</td>\n",
       "      <td>0.0</td>\n",
       "      <td>0.112830</td>\n",
       "      <td>0.15885</td>\n",
       "      <td>0.0</td>\n",
       "      <td>0.0</td>\n",
       "      <td>0.0</td>\n",
       "    </tr>\n",
       "    <tr>\n",
       "      <th>3</th>\n",
       "      <td>432.0</td>\n",
       "      <td>3347</td>\n",
       "      <td>88</td>\n",
       "      <td>2012</td>\n",
       "      <td>3</td>\n",
       "      <td>0</td>\n",
       "      <td>127</td>\n",
       "      <td>0</td>\n",
       "      <td>0</td>\n",
       "      <td>0</td>\n",
       "      <td>...</td>\n",
       "      <td>0.0</td>\n",
       "      <td>0.106363</td>\n",
       "      <td>0.0</td>\n",
       "      <td>0.0</td>\n",
       "      <td>0.0</td>\n",
       "      <td>0.000000</td>\n",
       "      <td>0.00000</td>\n",
       "      <td>0.0</td>\n",
       "      <td>0.0</td>\n",
       "      <td>0.0</td>\n",
       "    </tr>\n",
       "    <tr>\n",
       "      <th>4</th>\n",
       "      <td>345.0</td>\n",
       "      <td>115</td>\n",
       "      <td>190</td>\n",
       "      <td>2014</td>\n",
       "      <td>6</td>\n",
       "      <td>1</td>\n",
       "      <td>65</td>\n",
       "      <td>0</td>\n",
       "      <td>0</td>\n",
       "      <td>0</td>\n",
       "      <td>...</td>\n",
       "      <td>0.0</td>\n",
       "      <td>0.000000</td>\n",
       "      <td>0.0</td>\n",
       "      <td>0.0</td>\n",
       "      <td>0.0</td>\n",
       "      <td>0.181669</td>\n",
       "      <td>0.00000</td>\n",
       "      <td>0.0</td>\n",
       "      <td>0.0</td>\n",
       "      <td>0.0</td>\n",
       "    </tr>\n",
       "  </tbody>\n",
       "</table>\n",
       "<p>5 rows × 458 columns</p>\n",
       "</div>"
      ],
      "text/plain": [
       "   pages  numRatings  bbeScore  year  month  series_bool  genre_count  \\\n",
       "0  346.0        1864        92  2015      9            1          147   \n",
       "1  160.0       12646       194  2002      1            1          140   \n",
       "2  513.0       62049       289  2019      9            1          131   \n",
       "3  432.0        3347        88  2012      3            0          127   \n",
       "4  345.0         115       190  2014      6            1           65   \n",
       "\n",
       "   publisher_unknown  publisher_Vintage  publisher_HarperCollins  ...  \\\n",
       "0                  0                  0                        0  ...   \n",
       "1                  0                  0                        0  ...   \n",
       "2                  0                  0                        0  ...   \n",
       "3                  0                  0                        0  ...   \n",
       "4                  0                  0                        0  ...   \n",
       "\n",
       "   desc_would  desc_write  desc_writer  desc_written  desc_wrong  desc_year  \\\n",
       "0         0.0    0.000000          0.0           0.0         0.0   0.000000   \n",
       "1         0.0    0.000000          0.0           0.0         0.0   0.000000   \n",
       "2         0.0    0.000000          0.0           0.0         0.0   0.112830   \n",
       "3         0.0    0.106363          0.0           0.0         0.0   0.000000   \n",
       "4         0.0    0.000000          0.0           0.0         0.0   0.181669   \n",
       "\n",
       "   desc_yet  desc_york  desc_young  desc_–  \n",
       "0   0.00000        0.0         0.0     0.0  \n",
       "1   0.00000        0.0         0.0     0.0  \n",
       "2   0.15885        0.0         0.0     0.0  \n",
       "3   0.00000        0.0         0.0     0.0  \n",
       "4   0.00000        0.0         0.0     0.0  \n",
       "\n",
       "[5 rows x 458 columns]"
      ]
     },
     "execution_count": 10,
     "metadata": {},
     "output_type": "execute_result"
    }
   ],
   "source": [
    "X_test.head()"
   ]
  },
  {
   "cell_type": "code",
   "execution_count": 11,
   "id": "0a66a101",
   "metadata": {},
   "outputs": [
    {
     "data": {
      "text/plain": [
       "(8261, 458)"
      ]
     },
     "execution_count": 11,
     "metadata": {},
     "output_type": "execute_result"
    }
   ],
   "source": [
    "X_test.shape"
   ]
  },
  {
   "cell_type": "code",
   "execution_count": 12,
   "id": "86d5dedf",
   "metadata": {},
   "outputs": [
    {
     "data": {
      "text/html": [
       "<div>\n",
       "<style scoped>\n",
       "    .dataframe tbody tr th:only-of-type {\n",
       "        vertical-align: middle;\n",
       "    }\n",
       "\n",
       "    .dataframe tbody tr th {\n",
       "        vertical-align: top;\n",
       "    }\n",
       "\n",
       "    .dataframe thead th {\n",
       "        text-align: right;\n",
       "    }\n",
       "</style>\n",
       "<table border=\"1\" class=\"dataframe\">\n",
       "  <thead>\n",
       "    <tr style=\"text-align: right;\">\n",
       "      <th></th>\n",
       "      <th>rating</th>\n",
       "    </tr>\n",
       "  </thead>\n",
       "  <tbody>\n",
       "    <tr>\n",
       "      <th>33489</th>\n",
       "      <td>1</td>\n",
       "    </tr>\n",
       "    <tr>\n",
       "      <th>12086</th>\n",
       "      <td>0</td>\n",
       "    </tr>\n",
       "    <tr>\n",
       "      <th>8714</th>\n",
       "      <td>1</td>\n",
       "    </tr>\n",
       "    <tr>\n",
       "      <th>36527</th>\n",
       "      <td>1</td>\n",
       "    </tr>\n",
       "    <tr>\n",
       "      <th>12745</th>\n",
       "      <td>0</td>\n",
       "    </tr>\n",
       "  </tbody>\n",
       "</table>\n",
       "</div>"
      ],
      "text/plain": [
       "       rating\n",
       "33489       1\n",
       "12086       0\n",
       "8714        1\n",
       "36527       1\n",
       "12745       0"
      ]
     },
     "execution_count": 12,
     "metadata": {},
     "output_type": "execute_result"
    }
   ],
   "source": [
    "y_test.head()"
   ]
  },
  {
   "cell_type": "code",
   "execution_count": 13,
   "id": "78e97167",
   "metadata": {
    "scrolled": false
   },
   "outputs": [
    {
     "data": {
      "text/plain": [
       "(8261, 1)"
      ]
     },
     "execution_count": 13,
     "metadata": {},
     "output_type": "execute_result"
    }
   ],
   "source": [
    "y_test.shape"
   ]
  },
  {
   "cell_type": "code",
   "execution_count": 14,
   "id": "1ba756ec",
   "metadata": {},
   "outputs": [
    {
     "data": {
      "text/plain": [
       "(8261,)"
      ]
     },
     "execution_count": 14,
     "metadata": {},
     "output_type": "execute_result"
    }
   ],
   "source": [
    "# Reshape the y_test\n",
    "y_test = y_test.values.ravel()\n",
    "y_test.shape"
   ]
  },
  {
   "cell_type": "markdown",
   "id": "a2c4be3a",
   "metadata": {},
   "source": [
    "<a id = 'base'></a>\n",
    "## Baseline Modeling\n",
    "\n",
    "The baseline will be a logistic regression model. This will be used for future testing in how other models perform.\n",
    "\n",
    "The model will predict whether a book has a good rating (1) or a bad rating (0).<a id = 'base_model'></a>\n"
   ]
  },
  {
   "cell_type": "markdown",
   "id": "dadaf485",
   "metadata": {},
   "source": [
    "##### Scale the data\n",
    "\n",
    "Since the majority of columns are binary, only the non-binary columns will be scaled. \n",
    "First, seperate the binary from non-binary columns and then apply the standard scaler to only the non-binary columns. "
   ]
  },
  {
   "cell_type": "code",
   "execution_count": 15,
   "id": "7ae1e8fc",
   "metadata": {
    "scrolled": true
   },
   "outputs": [],
   "source": [
    "# Identify non-binary columns\n",
    "# non_binary_cols = [col for col in X_train_df_final.columns if len(X_train_df_final[col].unique()) > 2]\n",
    "non_binary_cols = ['pages', 'numRatings', 'bbeScore', 'year', 'month']\n",
    "\n",
    "# Initialize the StandardScaler\n",
    "scaler = StandardScaler()\n",
    "\n",
    "# Scale only non-binary columns\n",
    "X_train_scaled = X_train.copy()\n",
    "X_test_scaled = X_test.copy()\n",
    "\n",
    "X_train_scaled[non_binary_cols] = scaler.fit_transform(X_train[non_binary_cols])\n",
    "X_test_scaled[non_binary_cols] = scaler.transform(X_test[non_binary_cols])"
   ]
  },
  {
   "cell_type": "code",
   "execution_count": 16,
   "id": "2750853b",
   "metadata": {
    "scrolled": true
   },
   "outputs": [
    {
     "name": "stdout",
     "output_type": "stream",
     "text": [
      "Train score: 0.6499803274719288\n",
      "Test score: 0.5202759956421741\n"
     ]
    },
    {
     "name": "stderr",
     "output_type": "stream",
     "text": [
      "/Users/quincibirker/anaconda3/lib/python3.11/site-packages/sklearn/linear_model/_logistic.py:460: ConvergenceWarning: lbfgs failed to converge (status=1):\n",
      "STOP: TOTAL NO. of ITERATIONS REACHED LIMIT.\n",
      "\n",
      "Increase the number of iterations (max_iter) or scale the data as shown in:\n",
      "    https://scikit-learn.org/stable/modules/preprocessing.html\n",
      "Please also refer to the documentation for alternative solver options:\n",
      "    https://scikit-learn.org/stable/modules/linear_model.html#logistic-regression\n",
      "  n_iter_i = _check_optimize_result(\n"
     ]
    }
   ],
   "source": [
    "# Instantiate and fit logisitc regression\n",
    "logreg = LogisticRegression()\n",
    "logreg.fit(X_train_scaled, y_train)\n",
    "\n",
    "# Train and test scores\n",
    "print(f'Train score: {logreg.score(X_train_scaled, y_train)}')\n",
    "print(f'Test score: {logreg.score(X_test_scaled, y_test)}')"
   ]
  },
  {
   "cell_type": "code",
   "execution_count": 17,
   "id": "4db38bfd",
   "metadata": {},
   "outputs": [],
   "source": [
    "# Make predictions on the test data\n",
    "y_pred_logreg = logreg.predict(X_test_scaled)"
   ]
  },
  {
   "cell_type": "markdown",
   "id": "e0ef2d6d",
   "metadata": {},
   "source": [
    "The baseline logisitc regression has a train score of 64 percent and a test score of 52 percent. There seems to be overfitting and the overall test accuracy is not strong. This will still be used as a baseline and hopefully testing out different models will improve the prediction accuracy for the test set."
   ]
  },
  {
   "cell_type": "code",
   "execution_count": 18,
   "id": "cb65d235",
   "metadata": {},
   "outputs": [
    {
     "data": {
      "text/html": [
       "<div>\n",
       "<style scoped>\n",
       "    .dataframe tbody tr th:only-of-type {\n",
       "        vertical-align: middle;\n",
       "    }\n",
       "\n",
       "    .dataframe tbody tr th {\n",
       "        vertical-align: top;\n",
       "    }\n",
       "\n",
       "    .dataframe thead th {\n",
       "        text-align: right;\n",
       "    }\n",
       "</style>\n",
       "<table border=\"1\" class=\"dataframe\">\n",
       "  <thead>\n",
       "    <tr style=\"text-align: right;\">\n",
       "      <th></th>\n",
       "      <th>Feature</th>\n",
       "      <th>Coefficient</th>\n",
       "      <th>Odds_ratio</th>\n",
       "    </tr>\n",
       "  </thead>\n",
       "  <tbody>\n",
       "    <tr>\n",
       "      <th>5</th>\n",
       "      <td>series_bool</td>\n",
       "      <td>0.801422</td>\n",
       "      <td>2.228709</td>\n",
       "    </tr>\n",
       "    <tr>\n",
       "      <th>0</th>\n",
       "      <td>pages</td>\n",
       "      <td>0.495778</td>\n",
       "      <td>1.641775</td>\n",
       "    </tr>\n",
       "    <tr>\n",
       "      <th>31</th>\n",
       "      <td>genre_Childrens</td>\n",
       "      <td>0.461944</td>\n",
       "      <td>1.587157</td>\n",
       "    </tr>\n",
       "    <tr>\n",
       "      <th>32</th>\n",
       "      <td>genre_Classics</td>\n",
       "      <td>0.387424</td>\n",
       "      <td>1.473181</td>\n",
       "    </tr>\n",
       "    <tr>\n",
       "      <th>34</th>\n",
       "      <td>genre_Contemporary Romance</td>\n",
       "      <td>0.283771</td>\n",
       "      <td>1.328129</td>\n",
       "    </tr>\n",
       "    <tr>\n",
       "      <th>...</th>\n",
       "      <td>...</td>\n",
       "      <td>...</td>\n",
       "      <td>...</td>\n",
       "    </tr>\n",
       "    <tr>\n",
       "      <th>55</th>\n",
       "      <td>genre_Thriller</td>\n",
       "      <td>-0.405328</td>\n",
       "      <td>0.666758</td>\n",
       "    </tr>\n",
       "    <tr>\n",
       "      <th>51</th>\n",
       "      <td>genre_Science Fiction</td>\n",
       "      <td>-0.513951</td>\n",
       "      <td>0.598128</td>\n",
       "    </tr>\n",
       "    <tr>\n",
       "      <th>47</th>\n",
       "      <td>genre_Novels</td>\n",
       "      <td>-0.544186</td>\n",
       "      <td>0.580314</td>\n",
       "    </tr>\n",
       "    <tr>\n",
       "      <th>45</th>\n",
       "      <td>genre_Mystery</td>\n",
       "      <td>-0.623852</td>\n",
       "      <td>0.535876</td>\n",
       "    </tr>\n",
       "    <tr>\n",
       "      <th>30</th>\n",
       "      <td>genre_Chick Lit</td>\n",
       "      <td>-0.743357</td>\n",
       "      <td>0.475515</td>\n",
       "    </tr>\n",
       "  </tbody>\n",
       "</table>\n",
       "<p>458 rows × 3 columns</p>\n",
       "</div>"
      ],
      "text/plain": [
       "                       Feature  Coefficient  Odds_ratio\n",
       "5                  series_bool     0.801422    2.228709\n",
       "0                        pages     0.495778    1.641775\n",
       "31             genre_Childrens     0.461944    1.587157\n",
       "32              genre_Classics     0.387424    1.473181\n",
       "34  genre_Contemporary Romance     0.283771    1.328129\n",
       "..                         ...          ...         ...\n",
       "55              genre_Thriller    -0.405328    0.666758\n",
       "51       genre_Science Fiction    -0.513951    0.598128\n",
       "47                genre_Novels    -0.544186    0.580314\n",
       "45               genre_Mystery    -0.623852    0.535876\n",
       "30             genre_Chick Lit    -0.743357    0.475515\n",
       "\n",
       "[458 rows x 3 columns]"
      ]
     },
     "execution_count": 18,
     "metadata": {},
     "output_type": "execute_result"
    }
   ],
   "source": [
    "# Extract the coefficients\n",
    "coefficients = logreg.coef_[0]\n",
    "\n",
    "# Calculate the odds ratios\n",
    "odds_ratio = np.exp(coefficients)\n",
    "\n",
    "# Get the feature names\n",
    "feature_names = X_train.columns\n",
    "\n",
    "# Create a DataFrame with feature names and their corresponding coefficients and odds ratios\n",
    "feature_coefficients = pd.DataFrame({\n",
    "    'Feature': feature_names,\n",
    "    'Coefficient': coefficients,\n",
    "    'Odds_ratio': odds_ratio\n",
    "})\n",
    "\n",
    "# Sort the coefficients from highest to lowest\n",
    "feature_coefficients = feature_coefficients.sort_values(by='Coefficient', ascending=False)\n",
    "\n",
    "# Display \n",
    "feature_coefficients"
   ]
  },
  {
   "cell_type": "markdown",
   "id": "010cf3ca",
   "metadata": {},
   "source": [
    "Highest odds ratio:\n",
    "- \n",
    "\n",
    "Lowest odds ratio:\n",
    "- \n",
    "\n",
    "Notes:\n",
    "- "
   ]
  },
  {
   "cell_type": "markdown",
   "id": "ef2c5e60",
   "metadata": {},
   "source": [
    "##### Confusion Matrix"
   ]
  },
  {
   "cell_type": "code",
   "execution_count": 19,
   "id": "3f92d271",
   "metadata": {},
   "outputs": [
    {
     "name": "stdout",
     "output_type": "stream",
     "text": [
      "Classification Report for Logistic Regression:\n",
      "              precision    recall  f1-score   support\n",
      "\n",
      "           0       0.52      0.02      0.04      3968\n",
      "           1       0.52      0.98      0.68      4293\n",
      "\n",
      "    accuracy                           0.52      8261\n",
      "   macro avg       0.52      0.50      0.36      8261\n",
      "weighted avg       0.52      0.52      0.37      8261\n",
      "\n"
     ]
    },
    {
     "data": {
      "image/png": "[encoded data removed]",
      "text/plain": [
       "<Figure size 1000x500 with 2 Axes>"
      ]
     },
     "metadata": {},
     "output_type": "display_data"
    }
   ],
   "source": [
    "# Classification report\n",
    "print(\"Classification Report for Logistic Regression:\")\n",
    "print(classification_report(y_test, y_pred_logreg))\n",
    "\n",
    "# Generate the confusion matrix\n",
    "conf_matrix_logreg = confusion_matrix(y_test, y_pred_logreg)\n",
    "\n",
    "# Confusion matrix heatmap\n",
    "plt.figure(figsize=(10, 5))\n",
    "sns.heatmap(conf_matrix_logreg, annot=True, fmt='g', cmap='Blues')\n",
    "plt.title('Confusion Matrix for Logistic Regression')\n",
    "plt.xlabel('Predicted')\n",
    "plt.ylabel('Actual')\n",
    "plt.show()"
   ]
  },
  {
   "cell_type": "markdown",
   "id": "9674e0d2",
   "metadata": {},
   "source": [
    "##### Model Summary\n",
    "\n",
    "|    | Model Type          | Train Accuracy | Test Accuracy | Precision | Recall | Notes                  |\n",
    "|----|---------------------|----------------|---------------|-----------|--------|------------------------|\n",
    "| 1. | Logistic Regression | 62%            | 52%           | 52%       | 97%    | Baseline/No parameters |"
   ]
  },
  {
   "cell_type": "markdown",
   "id": "5cdbc4f0",
   "metadata": {},
   "source": [
    "<a id = 'RFC'></a>\n",
    "## Random Forest Classifier"
   ]
  },
  {
   "cell_type": "markdown",
   "id": "4222de29",
   "metadata": {},
   "source": [
    "##### Random Search\n",
    "\n",
    "To efficiently tune hyperparameters, I'll start with a random search to quickly explore a wide range of options. Then, using the insights gained, I'll conduct a more targeted grid search in a narrowed range. This approach combines the speed of random search with the thoroughness of grid search for better results."
   ]
  },
  {
   "cell_type": "code",
   "execution_count": 29,
   "id": "0514f89d",
   "metadata": {},
   "outputs": [
    {
     "name": "stdout",
     "output_type": "stream",
     "text": [
      "Fitting 5 folds for each of 50 candidates, totalling 250 fits\n",
      "[CV] END criterion=entropy, max_depth=80, max_features=1, min_samples_leaf=2, min_samples_split=4, n_estimators=260; total time=   3.6s\n",
      "[CV] END criterion=entropy, max_depth=80, max_features=1, min_samples_leaf=2, min_samples_split=4, n_estimators=260; total time=   3.4s\n",
      "[CV] END criterion=entropy, max_depth=80, max_features=1, min_samples_leaf=2, min_samples_split=4, n_estimators=260; total time=   3.4s\n",
      "[CV] END criterion=entropy, max_depth=80, max_features=1, min_samples_leaf=2, min_samples_split=4, n_estimators=260; total time=   3.5s\n",
      "[CV] END criterion=entropy, max_depth=80, max_features=1, min_samples_leaf=2, min_samples_split=4, n_estimators=260; total time=   3.5s\n",
      "[CV] END criterion=entropy, max_depth=60, max_features=4, min_samples_leaf=2, min_samples_split=6, n_estimators=10; total time=   0.3s\n",
      "[CV] END criterion=entropy, max_depth=60, max_features=4, min_samples_leaf=2, min_samples_split=6, n_estimators=10; total time=   0.3s\n",
      "[CV] END criterion=entropy, max_depth=60, max_features=4, min_samples_leaf=2, min_samples_split=6, n_estimators=10; total time=   0.3s\n",
      "[CV] END criterion=entropy, max_depth=60, max_features=4, min_samples_leaf=2, min_samples_split=6, n_estimators=10; total time=   0.3s\n",
      "[CV] END criterion=entropy, max_depth=60, max_features=4, min_samples_leaf=2, min_samples_split=6, n_estimators=10; total time=   0.3s\n",
      "[CV] END criterion=entropy, max_depth=90, max_features=2, min_samples_leaf=2, min_samples_split=8, n_estimators=410; total time=   8.7s\n",
      "[CV] END criterion=entropy, max_depth=90, max_features=2, min_samples_leaf=2, min_samples_split=8, n_estimators=410; total time=   8.7s\n",
      "[CV] END criterion=entropy, max_depth=90, max_features=2, min_samples_leaf=2, min_samples_split=8, n_estimators=410; total time=   8.7s\n",
      "[CV] END criterion=entropy, max_depth=90, max_features=2, min_samples_leaf=2, min_samples_split=8, n_estimators=410; total time=   8.7s\n",
      "[CV] END criterion=entropy, max_depth=90, max_features=2, min_samples_leaf=2, min_samples_split=8, n_estimators=410; total time=   8.7s\n",
      "[CV] END criterion=entropy, max_depth=80, max_features=6, min_samples_leaf=1, min_samples_split=8, n_estimators=110; total time=   5.0s\n",
      "[CV] END criterion=entropy, max_depth=80, max_features=6, min_samples_leaf=1, min_samples_split=8, n_estimators=110; total time=   5.0s\n",
      "[CV] END criterion=entropy, max_depth=80, max_features=6, min_samples_leaf=1, min_samples_split=8, n_estimators=110; total time=   5.1s\n",
      "[CV] END criterion=entropy, max_depth=80, max_features=6, min_samples_leaf=1, min_samples_split=8, n_estimators=110; total time=   5.2s\n",
      "[CV] END criterion=entropy, max_depth=80, max_features=6, min_samples_leaf=1, min_samples_split=8, n_estimators=110; total time=   5.1s\n",
      "[CV] END criterion=entropy, max_depth=90, max_features=1, min_samples_leaf=3, min_samples_split=2, n_estimators=460; total time=   5.6s\n",
      "[CV] END criterion=entropy, max_depth=90, max_features=1, min_samples_leaf=3, min_samples_split=2, n_estimators=460; total time=   5.6s\n",
      "[CV] END criterion=entropy, max_depth=90, max_features=1, min_samples_leaf=3, min_samples_split=2, n_estimators=460; total time=   5.6s\n",
      "[CV] END criterion=entropy, max_depth=90, max_features=1, min_samples_leaf=3, min_samples_split=2, n_estimators=460; total time=   5.6s\n",
      "[CV] END criterion=entropy, max_depth=90, max_features=1, min_samples_leaf=3, min_samples_split=2, n_estimators=460; total time=   5.6s\n",
      "[CV] END criterion=gini, max_depth=90, max_features=5, min_samples_leaf=2, min_samples_split=2, n_estimators=260; total time=   8.6s\n",
      "[CV] END criterion=gini, max_depth=90, max_features=5, min_samples_leaf=2, min_samples_split=2, n_estimators=260; total time=   8.5s\n",
      "[CV] END criterion=gini, max_depth=90, max_features=5, min_samples_leaf=2, min_samples_split=2, n_estimators=260; total time=   8.6s\n",
      "[CV] END criterion=gini, max_depth=90, max_features=5, min_samples_leaf=2, min_samples_split=2, n_estimators=260; total time=   8.5s\n",
      "[CV] END criterion=gini, max_depth=90, max_features=5, min_samples_leaf=2, min_samples_split=2, n_estimators=260; total time=   8.7s\n",
      "[CV] END criterion=entropy, max_depth=50, max_features=2, min_samples_leaf=3, min_samples_split=4, n_estimators=60; total time=   1.2s\n",
      "[CV] END criterion=entropy, max_depth=50, max_features=2, min_samples_leaf=3, min_samples_split=4, n_estimators=60; total time=   1.0s\n",
      "[CV] END criterion=entropy, max_depth=50, max_features=2, min_samples_leaf=3, min_samples_split=4, n_estimators=60; total time=   1.0s\n",
      "[CV] END criterion=entropy, max_depth=50, max_features=2, min_samples_leaf=3, min_samples_split=4, n_estimators=60; total time=   1.0s\n",
      "[CV] END criterion=entropy, max_depth=50, max_features=2, min_samples_leaf=3, min_samples_split=4, n_estimators=60; total time=   1.0s\n",
      "[CV] END criterion=entropy, max_depth=90, max_features=3, min_samples_leaf=1, min_samples_split=4, n_estimators=360; total time=  12.1s\n",
      "[CV] END criterion=entropy, max_depth=90, max_features=3, min_samples_leaf=1, min_samples_split=4, n_estimators=360; total time=  12.4s\n",
      "[CV] END criterion=entropy, max_depth=90, max_features=3, min_samples_leaf=1, min_samples_split=4, n_estimators=360; total time=  12.0s\n",
      "[CV] END criterion=entropy, max_depth=90, max_features=3, min_samples_leaf=1, min_samples_split=4, n_estimators=360; total time=  11.8s\n",
      "[CV] END criterion=entropy, max_depth=90, max_features=3, min_samples_leaf=1, min_samples_split=4, n_estimators=360; total time=  11.7s\n",
      "[CV] END criterion=entropy, max_depth=30, max_features=1, min_samples_leaf=2, min_samples_split=6, n_estimators=10; total time=   0.1s\n",
      "[CV] END criterion=entropy, max_depth=30, max_features=1, min_samples_leaf=2, min_samples_split=6, n_estimators=10; total time=   0.1s\n",
      "[CV] END criterion=entropy, max_depth=30, max_features=1, min_samples_leaf=2, min_samples_split=6, n_estimators=10; total time=   0.1s\n",
      "[CV] END criterion=entropy, max_depth=30, max_features=1, min_samples_leaf=2, min_samples_split=6, n_estimators=10; total time=   0.1s\n",
      "[CV] END criterion=entropy, max_depth=30, max_features=1, min_samples_leaf=2, min_samples_split=6, n_estimators=10; total time=   0.1s\n",
      "[CV] END criterion=entropy, max_depth=60, max_features=5, min_samples_leaf=3, min_samples_split=6, n_estimators=160; total time=   5.3s\n",
      "[CV] END criterion=entropy, max_depth=60, max_features=5, min_samples_leaf=3, min_samples_split=6, n_estimators=160; total time=   5.3s\n",
      "[CV] END criterion=entropy, max_depth=60, max_features=5, min_samples_leaf=3, min_samples_split=6, n_estimators=160; total time=   5.3s\n",
      "[CV] END criterion=entropy, max_depth=60, max_features=5, min_samples_leaf=3, min_samples_split=6, n_estimators=160; total time=   5.4s\n",
      "[CV] END criterion=entropy, max_depth=60, max_features=5, min_samples_leaf=3, min_samples_split=6, n_estimators=160; total time=   5.5s\n",
      "[CV] END criterion=gini, max_depth=80, max_features=3, min_samples_leaf=2, min_samples_split=8, n_estimators=260; total time=   6.1s\n",
      "[CV] END criterion=gini, max_depth=80, max_features=3, min_samples_leaf=2, min_samples_split=8, n_estimators=260; total time=   6.1s\n",
      "[CV] END criterion=gini, max_depth=80, max_features=3, min_samples_leaf=2, min_samples_split=8, n_estimators=260; total time=   6.1s\n",
      "[CV] END criterion=gini, max_depth=80, max_features=3, min_samples_leaf=2, min_samples_split=8, n_estimators=260; total time=   6.0s\n",
      "[CV] END criterion=gini, max_depth=80, max_features=3, min_samples_leaf=2, min_samples_split=8, n_estimators=260; total time=   6.1s\n",
      "[CV] END criterion=gini, max_depth=40, max_features=3, min_samples_leaf=2, min_samples_split=6, n_estimators=410; total time=   7.8s\n",
      "[CV] END criterion=gini, max_depth=40, max_features=3, min_samples_leaf=2, min_samples_split=6, n_estimators=410; total time=   7.6s\n",
      "[CV] END criterion=gini, max_depth=40, max_features=3, min_samples_leaf=2, min_samples_split=6, n_estimators=410; total time=   7.7s\n",
      "[CV] END criterion=gini, max_depth=40, max_features=3, min_samples_leaf=2, min_samples_split=6, n_estimators=410; total time=   7.8s\n",
      "[CV] END criterion=gini, max_depth=40, max_features=3, min_samples_leaf=2, min_samples_split=6, n_estimators=410; total time=   7.7s\n",
      "[CV] END criterion=gini, max_depth=40, max_features=4, min_samples_leaf=3, min_samples_split=8, n_estimators=60; total time=   1.3s\n"
     ]
    },
    {
     "name": "stdout",
     "output_type": "stream",
     "text": [
      "[CV] END criterion=gini, max_depth=40, max_features=4, min_samples_leaf=3, min_samples_split=8, n_estimators=60; total time=   1.4s\n",
      "[CV] END criterion=gini, max_depth=40, max_features=4, min_samples_leaf=3, min_samples_split=8, n_estimators=60; total time=   1.4s\n",
      "[CV] END criterion=gini, max_depth=40, max_features=4, min_samples_leaf=3, min_samples_split=8, n_estimators=60; total time=   1.3s\n",
      "[CV] END criterion=gini, max_depth=40, max_features=4, min_samples_leaf=3, min_samples_split=8, n_estimators=60; total time=   1.5s\n",
      "[CV] END criterion=gini, max_depth=30, max_features=1, min_samples_leaf=2, min_samples_split=2, n_estimators=160; total time=   1.4s\n",
      "[CV] END criterion=gini, max_depth=30, max_features=1, min_samples_leaf=2, min_samples_split=2, n_estimators=160; total time=   1.3s\n",
      "[CV] END criterion=gini, max_depth=30, max_features=1, min_samples_leaf=2, min_samples_split=2, n_estimators=160; total time=   1.3s\n",
      "[CV] END criterion=gini, max_depth=30, max_features=1, min_samples_leaf=2, min_samples_split=2, n_estimators=160; total time=   1.3s\n",
      "[CV] END criterion=gini, max_depth=30, max_features=1, min_samples_leaf=2, min_samples_split=2, n_estimators=160; total time=   1.4s\n",
      "[CV] END criterion=entropy, max_depth=50, max_features=6, min_samples_leaf=3, min_samples_split=2, n_estimators=410; total time=  14.9s\n",
      "[CV] END criterion=entropy, max_depth=50, max_features=6, min_samples_leaf=3, min_samples_split=2, n_estimators=410; total time=  14.8s\n",
      "[CV] END criterion=entropy, max_depth=50, max_features=6, min_samples_leaf=3, min_samples_split=2, n_estimators=410; total time=  14.9s\n",
      "[CV] END criterion=entropy, max_depth=50, max_features=6, min_samples_leaf=3, min_samples_split=2, n_estimators=410; total time=  14.8s\n",
      "[CV] END criterion=entropy, max_depth=50, max_features=6, min_samples_leaf=3, min_samples_split=2, n_estimators=410; total time=  14.7s\n",
      "[CV] END criterion=entropy, max_depth=10, max_features=1, min_samples_leaf=3, min_samples_split=6, n_estimators=460; total time=   1.9s\n",
      "[CV] END criterion=entropy, max_depth=10, max_features=1, min_samples_leaf=3, min_samples_split=6, n_estimators=460; total time=   1.9s\n",
      "[CV] END criterion=entropy, max_depth=10, max_features=1, min_samples_leaf=3, min_samples_split=6, n_estimators=460; total time=   1.9s\n",
      "[CV] END criterion=entropy, max_depth=10, max_features=1, min_samples_leaf=3, min_samples_split=6, n_estimators=460; total time=   1.9s\n",
      "[CV] END criterion=entropy, max_depth=10, max_features=1, min_samples_leaf=3, min_samples_split=6, n_estimators=460; total time=   1.9s\n",
      "[CV] END criterion=gini, max_depth=70, max_features=2, min_samples_leaf=3, min_samples_split=4, n_estimators=160; total time=   2.7s\n",
      "[CV] END criterion=gini, max_depth=70, max_features=2, min_samples_leaf=3, min_samples_split=4, n_estimators=160; total time=   2.7s\n",
      "[CV] END criterion=gini, max_depth=70, max_features=2, min_samples_leaf=3, min_samples_split=4, n_estimators=160; total time=   2.7s\n",
      "[CV] END criterion=gini, max_depth=70, max_features=2, min_samples_leaf=3, min_samples_split=4, n_estimators=160; total time=   2.7s\n",
      "[CV] END criterion=gini, max_depth=70, max_features=2, min_samples_leaf=3, min_samples_split=4, n_estimators=160; total time=   2.7s\n",
      "[CV] END criterion=entropy, max_depth=20, max_features=6, min_samples_leaf=2, min_samples_split=8, n_estimators=460; total time=   9.7s\n",
      "[CV] END criterion=entropy, max_depth=20, max_features=6, min_samples_leaf=2, min_samples_split=8, n_estimators=460; total time=   9.7s\n",
      "[CV] END criterion=entropy, max_depth=20, max_features=6, min_samples_leaf=2, min_samples_split=8, n_estimators=460; total time=   9.6s\n",
      "[CV] END criterion=entropy, max_depth=20, max_features=6, min_samples_leaf=2, min_samples_split=8, n_estimators=460; total time=   9.6s\n",
      "[CV] END criterion=entropy, max_depth=20, max_features=6, min_samples_leaf=2, min_samples_split=8, n_estimators=460; total time=   9.6s\n",
      "[CV] END criterion=entropy, max_depth=70, max_features=3, min_samples_leaf=3, min_samples_split=6, n_estimators=10; total time=   0.3s\n",
      "[CV] END criterion=entropy, max_depth=70, max_features=3, min_samples_leaf=3, min_samples_split=6, n_estimators=10; total time=   0.3s\n",
      "[CV] END criterion=entropy, max_depth=70, max_features=3, min_samples_leaf=3, min_samples_split=6, n_estimators=10; total time=   0.3s\n",
      "[CV] END criterion=entropy, max_depth=70, max_features=3, min_samples_leaf=3, min_samples_split=6, n_estimators=10; total time=   0.3s\n",
      "[CV] END criterion=entropy, max_depth=70, max_features=3, min_samples_leaf=3, min_samples_split=6, n_estimators=10; total time=   0.3s\n",
      "[CV] END criterion=entropy, max_depth=90, max_features=2, min_samples_leaf=3, min_samples_split=6, n_estimators=460; total time=   8.9s\n",
      "[CV] END criterion=entropy, max_depth=90, max_features=2, min_samples_leaf=3, min_samples_split=6, n_estimators=460; total time=   8.8s\n",
      "[CV] END criterion=entropy, max_depth=90, max_features=2, min_samples_leaf=3, min_samples_split=6, n_estimators=460; total time=   8.9s\n",
      "[CV] END criterion=entropy, max_depth=90, max_features=2, min_samples_leaf=3, min_samples_split=6, n_estimators=460; total time=   8.9s\n",
      "[CV] END criterion=entropy, max_depth=90, max_features=2, min_samples_leaf=3, min_samples_split=6, n_estimators=460; total time=   8.9s\n",
      "[CV] END criterion=entropy, max_depth=10, max_features=2, min_samples_leaf=2, min_samples_split=8, n_estimators=360; total time=   2.0s\n",
      "[CV] END criterion=entropy, max_depth=10, max_features=2, min_samples_leaf=2, min_samples_split=8, n_estimators=360; total time=   2.0s\n",
      "[CV] END criterion=entropy, max_depth=10, max_features=2, min_samples_leaf=2, min_samples_split=8, n_estimators=360; total time=   2.0s\n",
      "[CV] END criterion=entropy, max_depth=10, max_features=2, min_samples_leaf=2, min_samples_split=8, n_estimators=360; total time=   2.0s\n",
      "[CV] END criterion=entropy, max_depth=10, max_features=2, min_samples_leaf=2, min_samples_split=8, n_estimators=360; total time=   2.0s\n",
      "[CV] END criterion=entropy, max_depth=30, max_features=6, min_samples_leaf=1, min_samples_split=6, n_estimators=360; total time=  10.7s\n",
      "[CV] END criterion=entropy, max_depth=30, max_features=6, min_samples_leaf=1, min_samples_split=6, n_estimators=360; total time=  10.7s\n",
      "[CV] END criterion=entropy, max_depth=30, max_features=6, min_samples_leaf=1, min_samples_split=6, n_estimators=360; total time=  10.8s\n",
      "[CV] END criterion=entropy, max_depth=30, max_features=6, min_samples_leaf=1, min_samples_split=6, n_estimators=360; total time=  10.8s\n",
      "[CV] END criterion=entropy, max_depth=30, max_features=6, min_samples_leaf=1, min_samples_split=6, n_estimators=360; total time=  10.8s\n",
      "[CV] END criterion=gini, max_depth=50, max_features=4, min_samples_leaf=3, min_samples_split=6, n_estimators=210; total time=   5.0s\n",
      "[CV] END criterion=gini, max_depth=50, max_features=4, min_samples_leaf=3, min_samples_split=6, n_estimators=210; total time=   5.3s\n",
      "[CV] END criterion=gini, max_depth=50, max_features=4, min_samples_leaf=3, min_samples_split=6, n_estimators=210; total time=   5.0s\n",
      "[CV] END criterion=gini, max_depth=50, max_features=4, min_samples_leaf=3, min_samples_split=6, n_estimators=210; total time=   5.5s\n",
      "[CV] END criterion=gini, max_depth=50, max_features=4, min_samples_leaf=3, min_samples_split=6, n_estimators=210; total time=   5.1s\n",
      "[CV] END criterion=gini, max_depth=70, max_features=4, min_samples_leaf=3, min_samples_split=2, n_estimators=110; total time=   2.9s\n",
      "[CV] END criterion=gini, max_depth=70, max_features=4, min_samples_leaf=3, min_samples_split=2, n_estimators=110; total time=   3.0s\n",
      "[CV] END criterion=gini, max_depth=70, max_features=4, min_samples_leaf=3, min_samples_split=2, n_estimators=110; total time=   3.1s\n",
      "[CV] END criterion=gini, max_depth=70, max_features=4, min_samples_leaf=3, min_samples_split=2, n_estimators=110; total time=   3.2s\n",
      "[CV] END criterion=gini, max_depth=70, max_features=4, min_samples_leaf=3, min_samples_split=2, n_estimators=110; total time=   3.0s\n",
      "[CV] END criterion=entropy, max_depth=50, max_features=3, min_samples_leaf=1, min_samples_split=2, n_estimators=10; total time=   0.3s\n",
      "[CV] END criterion=entropy, max_depth=50, max_features=3, min_samples_leaf=1, min_samples_split=2, n_estimators=10; total time=   0.3s\n"
     ]
    },
    {
     "name": "stdout",
     "output_type": "stream",
     "text": [
      "[CV] END criterion=entropy, max_depth=50, max_features=3, min_samples_leaf=1, min_samples_split=2, n_estimators=10; total time=   0.3s\n",
      "[CV] END criterion=entropy, max_depth=50, max_features=3, min_samples_leaf=1, min_samples_split=2, n_estimators=10; total time=   0.3s\n",
      "[CV] END criterion=entropy, max_depth=50, max_features=3, min_samples_leaf=1, min_samples_split=2, n_estimators=10; total time=   0.3s\n",
      "[CV] END criterion=entropy, max_depth=80, max_features=5, min_samples_leaf=1, min_samples_split=4, n_estimators=310; total time=  13.1s\n",
      "[CV] END criterion=entropy, max_depth=80, max_features=5, min_samples_leaf=1, min_samples_split=4, n_estimators=310; total time=  13.2s\n",
      "[CV] END criterion=entropy, max_depth=80, max_features=5, min_samples_leaf=1, min_samples_split=4, n_estimators=310; total time=  13.0s\n",
      "[CV] END criterion=entropy, max_depth=80, max_features=5, min_samples_leaf=1, min_samples_split=4, n_estimators=310; total time=  13.0s\n",
      "[CV] END criterion=entropy, max_depth=80, max_features=5, min_samples_leaf=1, min_samples_split=4, n_estimators=310; total time=  13.3s\n",
      "[CV] END criterion=entropy, max_depth=50, max_features=2, min_samples_leaf=1, min_samples_split=4, n_estimators=360; total time=   7.5s\n",
      "[CV] END criterion=entropy, max_depth=50, max_features=2, min_samples_leaf=1, min_samples_split=4, n_estimators=360; total time=   7.5s\n",
      "[CV] END criterion=entropy, max_depth=50, max_features=2, min_samples_leaf=1, min_samples_split=4, n_estimators=360; total time=   8.3s\n",
      "[CV] END criterion=entropy, max_depth=50, max_features=2, min_samples_leaf=1, min_samples_split=4, n_estimators=360; total time=   8.0s\n",
      "[CV] END criterion=entropy, max_depth=50, max_features=2, min_samples_leaf=1, min_samples_split=4, n_estimators=360; total time=   7.8s\n",
      "[CV] END criterion=gini, max_depth=50, max_features=1, min_samples_leaf=1, min_samples_split=2, n_estimators=60; total time=   1.0s\n",
      "[CV] END criterion=gini, max_depth=50, max_features=1, min_samples_leaf=1, min_samples_split=2, n_estimators=60; total time=   0.9s\n",
      "[CV] END criterion=gini, max_depth=50, max_features=1, min_samples_leaf=1, min_samples_split=2, n_estimators=60; total time=   1.1s\n",
      "[CV] END criterion=gini, max_depth=50, max_features=1, min_samples_leaf=1, min_samples_split=2, n_estimators=60; total time=   1.4s\n",
      "[CV] END criterion=gini, max_depth=50, max_features=1, min_samples_leaf=1, min_samples_split=2, n_estimators=60; total time=   1.0s\n",
      "[CV] END criterion=entropy, max_depth=None, max_features=3, min_samples_leaf=1, min_samples_split=8, n_estimators=60; total time=   2.2s\n",
      "[CV] END criterion=entropy, max_depth=None, max_features=3, min_samples_leaf=1, min_samples_split=8, n_estimators=60; total time=   2.1s\n",
      "[CV] END criterion=entropy, max_depth=None, max_features=3, min_samples_leaf=1, min_samples_split=8, n_estimators=60; total time=   2.0s\n",
      "[CV] END criterion=entropy, max_depth=None, max_features=3, min_samples_leaf=1, min_samples_split=8, n_estimators=60; total time=   2.0s\n",
      "[CV] END criterion=entropy, max_depth=None, max_features=3, min_samples_leaf=1, min_samples_split=8, n_estimators=60; total time=   2.0s\n",
      "[CV] END criterion=gini, max_depth=80, max_features=1, min_samples_leaf=2, min_samples_split=8, n_estimators=10; total time=   0.2s\n",
      "[CV] END criterion=gini, max_depth=80, max_features=1, min_samples_leaf=2, min_samples_split=8, n_estimators=10; total time=   0.2s\n",
      "[CV] END criterion=gini, max_depth=80, max_features=1, min_samples_leaf=2, min_samples_split=8, n_estimators=10; total time=   0.1s\n",
      "[CV] END criterion=gini, max_depth=80, max_features=1, min_samples_leaf=2, min_samples_split=8, n_estimators=10; total time=   0.2s\n",
      "[CV] END criterion=gini, max_depth=80, max_features=1, min_samples_leaf=2, min_samples_split=8, n_estimators=10; total time=   0.2s\n",
      "[CV] END criterion=gini, max_depth=None, max_features=4, min_samples_leaf=3, min_samples_split=8, n_estimators=410; total time=  11.1s\n",
      "[CV] END criterion=gini, max_depth=None, max_features=4, min_samples_leaf=3, min_samples_split=8, n_estimators=410; total time=  11.4s\n",
      "[CV] END criterion=gini, max_depth=None, max_features=4, min_samples_leaf=3, min_samples_split=8, n_estimators=410; total time=  11.0s\n",
      "[CV] END criterion=gini, max_depth=None, max_features=4, min_samples_leaf=3, min_samples_split=8, n_estimators=410; total time=  11.3s\n",
      "[CV] END criterion=gini, max_depth=None, max_features=4, min_samples_leaf=3, min_samples_split=8, n_estimators=410; total time=  11.7s\n",
      "[CV] END criterion=gini, max_depth=30, max_features=1, min_samples_leaf=3, min_samples_split=8, n_estimators=60; total time=   0.6s\n",
      "[CV] END criterion=gini, max_depth=30, max_features=1, min_samples_leaf=3, min_samples_split=8, n_estimators=60; total time=   0.5s\n",
      "[CV] END criterion=gini, max_depth=30, max_features=1, min_samples_leaf=3, min_samples_split=8, n_estimators=60; total time=   0.5s\n",
      "[CV] END criterion=gini, max_depth=30, max_features=1, min_samples_leaf=3, min_samples_split=8, n_estimators=60; total time=   0.5s\n",
      "[CV] END criterion=gini, max_depth=30, max_features=1, min_samples_leaf=3, min_samples_split=8, n_estimators=60; total time=   0.5s\n",
      "[CV] END criterion=gini, max_depth=20, max_features=5, min_samples_leaf=1, min_samples_split=8, n_estimators=210; total time=   3.8s\n",
      "[CV] END criterion=gini, max_depth=20, max_features=5, min_samples_leaf=1, min_samples_split=8, n_estimators=210; total time=   3.7s\n",
      "[CV] END criterion=gini, max_depth=20, max_features=5, min_samples_leaf=1, min_samples_split=8, n_estimators=210; total time=   3.7s\n",
      "[CV] END criterion=gini, max_depth=20, max_features=5, min_samples_leaf=1, min_samples_split=8, n_estimators=210; total time=   3.7s\n",
      "[CV] END criterion=gini, max_depth=20, max_features=5, min_samples_leaf=1, min_samples_split=8, n_estimators=210; total time=   3.7s\n",
      "[CV] END criterion=gini, max_depth=60, max_features=2, min_samples_leaf=2, min_samples_split=8, n_estimators=110; total time=   1.9s\n",
      "[CV] END criterion=gini, max_depth=60, max_features=2, min_samples_leaf=2, min_samples_split=8, n_estimators=110; total time=   2.0s\n",
      "[CV] END criterion=gini, max_depth=60, max_features=2, min_samples_leaf=2, min_samples_split=8, n_estimators=110; total time=   2.0s\n",
      "[CV] END criterion=gini, max_depth=60, max_features=2, min_samples_leaf=2, min_samples_split=8, n_estimators=110; total time=   1.9s\n",
      "[CV] END criterion=gini, max_depth=60, max_features=2, min_samples_leaf=2, min_samples_split=8, n_estimators=110; total time=   1.9s\n",
      "[CV] END criterion=gini, max_depth=60, max_features=2, min_samples_leaf=2, min_samples_split=2, n_estimators=410; total time=   7.5s\n",
      "[CV] END criterion=gini, max_depth=60, max_features=2, min_samples_leaf=2, min_samples_split=2, n_estimators=410; total time=   7.5s\n",
      "[CV] END criterion=gini, max_depth=60, max_features=2, min_samples_leaf=2, min_samples_split=2, n_estimators=410; total time=   7.3s\n",
      "[CV] END criterion=gini, max_depth=60, max_features=2, min_samples_leaf=2, min_samples_split=2, n_estimators=410; total time=   7.3s\n",
      "[CV] END criterion=gini, max_depth=60, max_features=2, min_samples_leaf=2, min_samples_split=2, n_estimators=410; total time=   7.3s\n",
      "[CV] END criterion=gini, max_depth=30, max_features=1, min_samples_leaf=1, min_samples_split=2, n_estimators=60; total time=   0.6s\n",
      "[CV] END criterion=gini, max_depth=30, max_features=1, min_samples_leaf=1, min_samples_split=2, n_estimators=60; total time=   0.6s\n",
      "[CV] END criterion=gini, max_depth=30, max_features=1, min_samples_leaf=1, min_samples_split=2, n_estimators=60; total time=   0.6s\n",
      "[CV] END criterion=gini, max_depth=30, max_features=1, min_samples_leaf=1, min_samples_split=2, n_estimators=60; total time=   0.6s\n",
      "[CV] END criterion=gini, max_depth=30, max_features=1, min_samples_leaf=1, min_samples_split=2, n_estimators=60; total time=   0.6s\n",
      "[CV] END criterion=gini, max_depth=80, max_features=3, min_samples_leaf=3, min_samples_split=4, n_estimators=110; total time=   2.4s\n",
      "[CV] END criterion=gini, max_depth=80, max_features=3, min_samples_leaf=3, min_samples_split=4, n_estimators=110; total time=   2.4s\n",
      "[CV] END criterion=gini, max_depth=80, max_features=3, min_samples_leaf=3, min_samples_split=4, n_estimators=110; total time=   2.5s\n",
      "[CV] END criterion=gini, max_depth=80, max_features=3, min_samples_leaf=3, min_samples_split=4, n_estimators=110; total time=   2.6s\n"
     ]
    },
    {
     "name": "stdout",
     "output_type": "stream",
     "text": [
      "[CV] END criterion=gini, max_depth=80, max_features=3, min_samples_leaf=3, min_samples_split=4, n_estimators=110; total time=   2.6s\n",
      "[CV] END criterion=gini, max_depth=50, max_features=6, min_samples_leaf=3, min_samples_split=4, n_estimators=60; total time=   2.1s\n",
      "[CV] END criterion=gini, max_depth=50, max_features=6, min_samples_leaf=3, min_samples_split=4, n_estimators=60; total time=   2.0s\n",
      "[CV] END criterion=gini, max_depth=50, max_features=6, min_samples_leaf=3, min_samples_split=4, n_estimators=60; total time=   2.0s\n",
      "[CV] END criterion=gini, max_depth=50, max_features=6, min_samples_leaf=3, min_samples_split=4, n_estimators=60; total time=   2.0s\n",
      "[CV] END criterion=gini, max_depth=50, max_features=6, min_samples_leaf=3, min_samples_split=4, n_estimators=60; total time=   2.0s\n",
      "[CV] END criterion=entropy, max_depth=30, max_features=3, min_samples_leaf=1, min_samples_split=6, n_estimators=160; total time=   2.9s\n",
      "[CV] END criterion=entropy, max_depth=30, max_features=3, min_samples_leaf=1, min_samples_split=6, n_estimators=160; total time=   2.9s\n",
      "[CV] END criterion=entropy, max_depth=30, max_features=3, min_samples_leaf=1, min_samples_split=6, n_estimators=160; total time=   3.0s\n",
      "[CV] END criterion=entropy, max_depth=30, max_features=3, min_samples_leaf=1, min_samples_split=6, n_estimators=160; total time=   3.0s\n",
      "[CV] END criterion=entropy, max_depth=30, max_features=3, min_samples_leaf=1, min_samples_split=6, n_estimators=160; total time=   2.9s\n",
      "[CV] END criterion=gini, max_depth=30, max_features=6, min_samples_leaf=1, min_samples_split=2, n_estimators=310; total time=   8.7s\n",
      "[CV] END criterion=gini, max_depth=30, max_features=6, min_samples_leaf=1, min_samples_split=2, n_estimators=310; total time=   8.8s\n",
      "[CV] END criterion=gini, max_depth=30, max_features=6, min_samples_leaf=1, min_samples_split=2, n_estimators=310; total time=   8.7s\n",
      "[CV] END criterion=gini, max_depth=30, max_features=6, min_samples_leaf=1, min_samples_split=2, n_estimators=310; total time=   8.7s\n",
      "[CV] END criterion=gini, max_depth=30, max_features=6, min_samples_leaf=1, min_samples_split=2, n_estimators=310; total time=   8.8s\n",
      "[CV] END criterion=entropy, max_depth=60, max_features=5, min_samples_leaf=3, min_samples_split=2, n_estimators=10; total time=   0.4s\n",
      "[CV] END criterion=entropy, max_depth=60, max_features=5, min_samples_leaf=3, min_samples_split=2, n_estimators=10; total time=   0.4s\n",
      "[CV] END criterion=entropy, max_depth=60, max_features=5, min_samples_leaf=3, min_samples_split=2, n_estimators=10; total time=   0.4s\n",
      "[CV] END criterion=entropy, max_depth=60, max_features=5, min_samples_leaf=3, min_samples_split=2, n_estimators=10; total time=   0.4s\n",
      "[CV] END criterion=entropy, max_depth=60, max_features=5, min_samples_leaf=3, min_samples_split=2, n_estimators=10; total time=   0.4s\n",
      "[CV] END criterion=entropy, max_depth=50, max_features=2, min_samples_leaf=1, min_samples_split=2, n_estimators=260; total time=   5.6s\n",
      "[CV] END criterion=entropy, max_depth=50, max_features=2, min_samples_leaf=1, min_samples_split=2, n_estimators=260; total time=   5.7s\n",
      "[CV] END criterion=entropy, max_depth=50, max_features=2, min_samples_leaf=1, min_samples_split=2, n_estimators=260; total time=   5.6s\n",
      "[CV] END criterion=entropy, max_depth=50, max_features=2, min_samples_leaf=1, min_samples_split=2, n_estimators=260; total time=   5.7s\n",
      "[CV] END criterion=entropy, max_depth=50, max_features=2, min_samples_leaf=1, min_samples_split=2, n_estimators=260; total time=   5.6s\n",
      "[CV] END criterion=gini, max_depth=None, max_features=1, min_samples_leaf=1, min_samples_split=6, n_estimators=160; total time=   3.3s\n",
      "[CV] END criterion=gini, max_depth=None, max_features=1, min_samples_leaf=1, min_samples_split=6, n_estimators=160; total time=   3.5s\n",
      "[CV] END criterion=gini, max_depth=None, max_features=1, min_samples_leaf=1, min_samples_split=6, n_estimators=160; total time=   3.3s\n",
      "[CV] END criterion=gini, max_depth=None, max_features=1, min_samples_leaf=1, min_samples_split=6, n_estimators=160; total time=   3.3s\n",
      "[CV] END criterion=gini, max_depth=None, max_features=1, min_samples_leaf=1, min_samples_split=6, n_estimators=160; total time=   3.3s\n",
      "[CV] END criterion=gini, max_depth=60, max_features=3, min_samples_leaf=2, min_samples_split=2, n_estimators=310; total time=   7.2s\n",
      "[CV] END criterion=gini, max_depth=60, max_features=3, min_samples_leaf=2, min_samples_split=2, n_estimators=310; total time=   7.2s\n",
      "[CV] END criterion=gini, max_depth=60, max_features=3, min_samples_leaf=2, min_samples_split=2, n_estimators=310; total time=   7.0s\n",
      "[CV] END criterion=gini, max_depth=60, max_features=3, min_samples_leaf=2, min_samples_split=2, n_estimators=310; total time=   7.0s\n",
      "[CV] END criterion=gini, max_depth=60, max_features=3, min_samples_leaf=2, min_samples_split=2, n_estimators=310; total time=   7.2s\n",
      "[CV] END criterion=gini, max_depth=10, max_features=3, min_samples_leaf=3, min_samples_split=2, n_estimators=60; total time=   0.4s\n",
      "[CV] END criterion=gini, max_depth=10, max_features=3, min_samples_leaf=3, min_samples_split=2, n_estimators=60; total time=   0.4s\n",
      "[CV] END criterion=gini, max_depth=10, max_features=3, min_samples_leaf=3, min_samples_split=2, n_estimators=60; total time=   0.4s\n",
      "[CV] END criterion=gini, max_depth=10, max_features=3, min_samples_leaf=3, min_samples_split=2, n_estimators=60; total time=   0.4s\n",
      "[CV] END criterion=gini, max_depth=10, max_features=3, min_samples_leaf=3, min_samples_split=2, n_estimators=60; total time=   0.5s\n",
      "[CV] END criterion=gini, max_depth=90, max_features=1, min_samples_leaf=1, min_samples_split=8, n_estimators=260; total time=   4.9s\n",
      "[CV] END criterion=gini, max_depth=90, max_features=1, min_samples_leaf=1, min_samples_split=8, n_estimators=260; total time=   4.7s\n",
      "[CV] END criterion=gini, max_depth=90, max_features=1, min_samples_leaf=1, min_samples_split=8, n_estimators=260; total time=   4.7s\n",
      "[CV] END criterion=gini, max_depth=90, max_features=1, min_samples_leaf=1, min_samples_split=8, n_estimators=260; total time=   4.7s\n",
      "[CV] END criterion=gini, max_depth=90, max_features=1, min_samples_leaf=1, min_samples_split=8, n_estimators=260; total time=   4.7s\n",
      "[CV] END criterion=gini, max_depth=30, max_features=3, min_samples_leaf=3, min_samples_split=8, n_estimators=60; total time=   0.9s\n",
      "[CV] END criterion=gini, max_depth=30, max_features=3, min_samples_leaf=3, min_samples_split=8, n_estimators=60; total time=   1.0s\n",
      "[CV] END criterion=gini, max_depth=30, max_features=3, min_samples_leaf=3, min_samples_split=8, n_estimators=60; total time=   1.0s\n",
      "[CV] END criterion=gini, max_depth=30, max_features=3, min_samples_leaf=3, min_samples_split=8, n_estimators=60; total time=   1.1s\n",
      "[CV] END criterion=gini, max_depth=30, max_features=3, min_samples_leaf=3, min_samples_split=8, n_estimators=60; total time=   0.9s\n",
      "[CV] END criterion=gini, max_depth=70, max_features=1, min_samples_leaf=3, min_samples_split=6, n_estimators=60; total time=   0.7s\n",
      "[CV] END criterion=gini, max_depth=70, max_features=1, min_samples_leaf=3, min_samples_split=6, n_estimators=60; total time=   0.7s\n",
      "[CV] END criterion=gini, max_depth=70, max_features=1, min_samples_leaf=3, min_samples_split=6, n_estimators=60; total time=   0.7s\n",
      "[CV] END criterion=gini, max_depth=70, max_features=1, min_samples_leaf=3, min_samples_split=6, n_estimators=60; total time=   0.7s\n",
      "[CV] END criterion=gini, max_depth=70, max_features=1, min_samples_leaf=3, min_samples_split=6, n_estimators=60; total time=   0.7s\n",
      "[CV] END criterion=gini, max_depth=40, max_features=1, min_samples_leaf=3, min_samples_split=8, n_estimators=310; total time=   2.9s\n",
      "[CV] END criterion=gini, max_depth=40, max_features=1, min_samples_leaf=3, min_samples_split=8, n_estimators=310; total time=   2.9s\n",
      "[CV] END criterion=gini, max_depth=40, max_features=1, min_samples_leaf=3, min_samples_split=8, n_estimators=310; total time=   2.8s\n",
      "[CV] END criterion=gini, max_depth=40, max_features=1, min_samples_leaf=3, min_samples_split=8, n_estimators=310; total time=   2.8s\n",
      "[CV] END criterion=gini, max_depth=40, max_features=1, min_samples_leaf=3, min_samples_split=8, n_estimators=310; total time=   2.9s\n",
      "[CV] END criterion=entropy, max_depth=80, max_features=5, min_samples_leaf=1, min_samples_split=4, n_estimators=310; total time=  13.3s\n"
     ]
    },
    {
     "name": "stdout",
     "output_type": "stream",
     "text": [
      "[CV] END criterion=entropy, max_depth=80, max_features=5, min_samples_leaf=1, min_samples_split=4, n_estimators=310; total time=  13.3s\n",
      "[CV] END criterion=entropy, max_depth=80, max_features=5, min_samples_leaf=1, min_samples_split=4, n_estimators=310; total time=  13.9s\n",
      "[CV] END criterion=entropy, max_depth=80, max_features=5, min_samples_leaf=1, min_samples_split=4, n_estimators=310; total time=  14.0s\n",
      "[CV] END criterion=entropy, max_depth=80, max_features=5, min_samples_leaf=1, min_samples_split=4, n_estimators=310; total time=  13.7s\n",
      "Best parameters found:  {'criterion': 'entropy', 'max_depth': 80, 'max_features': 5, 'min_samples_leaf': 1, 'min_samples_split': 4, 'n_estimators': 310}\n"
     ]
    }
   ],
   "source": [
    "# Initialize the classifier\n",
    "rf = RandomForestClassifier(random_state=55)\n",
    "\n",
    "# Define the parameter space\n",
    "param_distributions = {\n",
    "    'max_depth':list(np.arange(10, 100, step=10)) + [None],\n",
    "    'n_estimators':np.arange(10, 500, step=50),\n",
    "    'max_features':randint(1,7),\n",
    "    'criterion':['gini','entropy'],\n",
    "    'min_samples_leaf':randint(1,4),\n",
    "    'min_samples_split':np.arange(2, 10, step=2)\n",
    "}\n",
    "\n",
    "# Set up the random search with cross-validation\n",
    "random_search = RandomizedSearchCV(rf, param_distributions=param_distributions, \n",
    "                                   n_iter=50, cv=5, verbose=2, random_state=55)\n",
    "\n",
    "# Fit the random search model\n",
    "random_search.fit(X_train, y_train)\n",
    "\n",
    "# Best parameters\n",
    "print(\"Best parameters found: \", random_search.best_params_)\n",
    "\n",
    "# Use the best estimator to make predictions\n",
    "best_rf = random_search.best_estimator_\n",
    "y_pred_RFC = best_rf.predict(X_test)"
   ]
  },
  {
   "cell_type": "markdown",
   "id": "48bfa8cc",
   "metadata": {},
   "source": [
    "Best parameters found: Best parameters found:  {'criterion': 'entropy', 'max_depth': 80, 'max_features': 5, 'min_samples_leaf': 1, 'min_samples_split': 4, 'n_estimators': 310}"
   ]
  },
  {
   "cell_type": "markdown",
   "id": "ebb383ad",
   "metadata": {},
   "source": [
    "##### Check model accuracy with the best parameters"
   ]
  },
  {
   "cell_type": "code",
   "execution_count": 31,
   "id": "154e8c24",
   "metadata": {},
   "outputs": [
    {
     "name": "stdout",
     "output_type": "stream",
     "text": [
      "Accuracy: 0.5988379130855829\n"
     ]
    }
   ],
   "source": [
    "accuracy = best_rf.score(X_test, y_test)\n",
    "print(f\"Accuracy: {accuracy}\")"
   ]
  },
  {
   "cell_type": "markdown",
   "id": "75a02ff8",
   "metadata": {},
   "source": [
    "##### Perform a grid search"
   ]
  },
  {
   "cell_type": "code",
   "execution_count": 30,
   "id": "0806e11c",
   "metadata": {
    "scrolled": true
   },
   "outputs": [
    {
     "name": "stdout",
     "output_type": "stream",
     "text": [
      "Best parameters found:  {'criterion': 'entropy', 'max_depth': 70, 'max_features': 6, 'min_samples_split': 4, 'n_estimators': 310}\n",
      "Best score is: 0.6878120194891624\n"
     ]
    }
   ],
   "source": [
    "# Initialize the classifier\n",
    "rf = RandomForestClassifier(random_state=55)\n",
    "\n",
    "# Define the parameter grid\n",
    "param_grid = {\n",
    "    'criterion': ['entropy'],  # No change needed as it's categorical\n",
    "    'max_depth': [60, 70, 80],\n",
    "    'max_features': [4, 5, 6],\n",
    "    'min_samples_split': [2, 3, 4],\n",
    "    'n_estimators': [280, 290, 310]\n",
    "}\n",
    "\n",
    "# Set up the grid search\n",
    "grid_search = GridSearchCV(estimator=rf, param_grid=param_grid, cv=5, scoring='accuracy')\n",
    "\n",
    "# Fit the grid search to the data\n",
    "grid_search.fit(X_train, y_train)\n",
    "\n",
    "# Best parameters and score\n",
    "print(\"Best parameters found: \", grid_search.best_params_)\n",
    "print(\"Best score is: \"+str(grid_search.best_score_))\n",
    "\n",
    "# Use the best estimator to make predictions\n",
    "best_rf = grid_search.best_estimator_\n",
    "y_pred_RFC = best_rf.predict(X_test)"
   ]
  },
  {
   "cell_type": "markdown",
   "id": "68f3fb33",
   "metadata": {},
   "source": [
    "Best parameters found:  \n",
    "- 'criterion': 'entropy'\n",
    "- 'max_depth': 70\n",
    "- 'max_features': 6\n",
    "- 'min_samples_split': 4\n",
    "- 'n_estimators': 310"
   ]
  },
  {
   "cell_type": "markdown",
   "id": "369e890b",
   "metadata": {},
   "source": [
    "##### Random Forest Model with new parameters"
   ]
  },
  {
   "cell_type": "code",
   "execution_count": 32,
   "id": "7a7bfad6",
   "metadata": {
    "scrolled": false
   },
   "outputs": [
    {
     "name": "stdout",
     "output_type": "stream",
     "text": [
      "Train score: 0.995248327835114\n",
      "Test score: 0.5988379130855829\n"
     ]
    }
   ],
   "source": [
    "params = {\n",
    "    'criterion': 'entropy',\n",
    "    'max_depth': 70,  \n",
    "    'max_features': 6,  \n",
    "    'min_samples_split': 4,  \n",
    "    'n_estimators': 310  \n",
    "}\n",
    "\n",
    "# Initialize the RandomForestClassifier with these parameters\n",
    "rf_model = RandomForestClassifier(**params, random_state=55)\n",
    "\n",
    "# Fit the model to your training data (assuming you have X_train and y_train)\n",
    "rf_model.fit(X_train, y_train)\n",
    "\n",
    "# Use rf_model to make predictions \n",
    "y_pred_RFC = rf_model.predict(X_test)\n",
    "\n",
    "print(f'Train score: {rf_model.score(X_train, y_train)}')\n",
    "print(f'Test score: {rf_model.score(X_test, y_test)}')"
   ]
  },
  {
   "cell_type": "markdown",
   "id": "11e07ef1",
   "metadata": {},
   "source": [
    "##### Classification Report & Confusion Matrix"
   ]
  },
  {
   "cell_type": "code",
   "execution_count": 33,
   "id": "6a614843",
   "metadata": {
    "scrolled": true
   },
   "outputs": [
    {
     "name": "stdout",
     "output_type": "stream",
     "text": [
      "              precision    recall  f1-score   support\n",
      "\n",
      "           0       0.76      0.24      0.37      3968\n",
      "           1       0.57      0.93      0.71      4293\n",
      "\n",
      "    accuracy                           0.60      8261\n",
      "   macro avg       0.67      0.59      0.54      8261\n",
      "weighted avg       0.66      0.60      0.54      8261\n",
      "\n"
     ]
    },
    {
     "data": {
      "image/png": "[encoded data removed]",
      "text/plain": [
       "<Figure size 1000x500 with 2 Axes>"
      ]
     },
     "metadata": {},
     "output_type": "display_data"
    }
   ],
   "source": [
    "# Classification report\n",
    "print(classification_report(y_test, y_pred_RFC))\n",
    "\n",
    "# Generate the confusion matrix\n",
    "conf_matrix = confusion_matrix(y_test, y_pred_RFC)\n",
    "\n",
    "# Confusion matrix heatmap\n",
    "plt.figure(figsize=(10, 5))\n",
    "sns.heatmap(conf_matrix, annot=True, fmt='g', cmap='Blues') \n",
    "plt.title('Confusion Matrix')\n",
    "plt.xlabel('Predicted')\n",
    "plt.ylabel('Actual')\n",
    "plt.show()"
   ]
  },
  {
   "cell_type": "markdown",
   "id": "6db978ae",
   "metadata": {},
   "source": [
    "##### Feature importance"
   ]
  },
  {
   "cell_type": "code",
   "execution_count": 34,
   "id": "d3b85150",
   "metadata": {},
   "outputs": [],
   "source": [
    "feature_importances = rf_model.feature_importances_"
   ]
  },
  {
   "cell_type": "code",
   "execution_count": 35,
   "id": "ee396fe2",
   "metadata": {
    "scrolled": true
   },
   "outputs": [
    {
     "data": {
      "image/png": "[encoded data removed]",
      "text/plain": [
       "<Figure size 1000x600 with 1 Axes>"
      ]
     },
     "metadata": {},
     "output_type": "display_data"
    }
   ],
   "source": [
    "feature_names = X_train.columns if hasattr(X_train, 'columns') else np.arange(X_train.shape[1])\n",
    "\n",
    "# Sorting the features with their importance\n",
    "sorted_idx = np.argsort(feature_importances)[-20:]  # Get indices of top 20 features\n",
    "sorted_importances = feature_importances[sorted_idx]\n",
    "sorted_features = [feature_names[i] for i in sorted_idx]\n",
    "\n",
    "# Creating the plot\n",
    "plt.figure(figsize=(10, 6))\n",
    "plt.barh(sorted_features, sorted_importances)\n",
    "plt.xlabel(\"Feature Importance\")\n",
    "plt.ylabel(\"Feature\")\n",
    "plt.title(\"Top 20 Features in RandomForest Model\")\n",
    "plt.show()"
   ]
  },
  {
   "cell_type": "markdown",
   "id": "d9bd4598",
   "metadata": {},
   "source": [
    "##### Model Summary\n",
    "\n",
    "|    | Model Type               | Train Accuracy | Test Accuracy | Precision | Recall | Notes                  |\n",
    "|----|--------------------------|----------------|---------------|-----------|--------|------------------------|\n",
    "| 1. | Logistic Regression      | 62%            | 52%           | 52%       | 97%    | Baseline/No parameters |\n",
    "| 2. | Random Forest Classifier | 100%           | 52%           | 52%       | 100%   | With grid search       |"
   ]
  },
  {
   "cell_type": "markdown",
   "id": "47483923",
   "metadata": {},
   "source": [
    "<a id = 'XGB'></a>\n",
    "## XGBoost Model"
   ]
  },
  {
   "cell_type": "code",
   "execution_count": 36,
   "id": "c174ea34",
   "metadata": {},
   "outputs": [
    {
     "data": {
      "text/html": [
       "<style>#sk-container-id-2 {color: black;}#sk-container-id-2 pre{padding: 0;}#sk-container-id-2 div.sk-toggleable {background-color: white;}#sk-container-id-2 label.sk-toggleable__label {cursor: pointer;display: block;width: 100%;margin-bottom: 0;padding: 0.3em;box-sizing: border-box;text-align: center;}#sk-container-id-2 label.sk-toggleable__label-arrow:before {content: \"▸\";float: left;margin-right: 0.25em;color: #696969;}#sk-container-id-2 label.sk-toggleable__label-arrow:hover:before {color: black;}#sk-container-id-2 div.sk-estimator:hover label.sk-toggleable__label-arrow:before {color: black;}#sk-container-id-2 div.sk-toggleable__content {max-height: 0;max-width: 0;overflow: hidden;text-align: left;background-color: #f0f8ff;}#sk-container-id-2 div.sk-toggleable__content pre {margin: 0.2em;color: black;border-radius: 0.25em;background-color: #f0f8ff;}#sk-container-id-2 input.sk-toggleable__control:checked~div.sk-toggleable__content {max-height: 200px;max-width: 100%;overflow: auto;}#sk-container-id-2 input.sk-toggleable__control:checked~label.sk-toggleable__label-arrow:before {content: \"▾\";}#sk-container-id-2 div.sk-estimator input.sk-toggleable__control:checked~label.sk-toggleable__label {background-color: #d4ebff;}#sk-container-id-2 div.sk-label input.sk-toggleable__control:checked~label.sk-toggleable__label {background-color: #d4ebff;}#sk-container-id-2 input.sk-hidden--visually {border: 0;clip: rect(1px 1px 1px 1px);clip: rect(1px, 1px, 1px, 1px);height: 1px;margin: -1px;overflow: hidden;padding: 0;position: absolute;width: 1px;}#sk-container-id-2 div.sk-estimator {font-family: monospace;background-color: #f0f8ff;border: 1px dotted black;border-radius: 0.25em;box-sizing: border-box;margin-bottom: 0.5em;}#sk-container-id-2 div.sk-estimator:hover {background-color: #d4ebff;}#sk-container-id-2 div.sk-parallel-item::after {content: \"\";width: 100%;border-bottom: 1px solid gray;flex-grow: 1;}#sk-container-id-2 div.sk-label:hover label.sk-toggleable__label {background-color: #d4ebff;}#sk-container-id-2 div.sk-serial::before {content: \"\";position: absolute;border-left: 1px solid gray;box-sizing: border-box;top: 0;bottom: 0;left: 50%;z-index: 0;}#sk-container-id-2 div.sk-serial {display: flex;flex-direction: column;align-items: center;background-color: white;padding-right: 0.2em;padding-left: 0.2em;position: relative;}#sk-container-id-2 div.sk-item {position: relative;z-index: 1;}#sk-container-id-2 div.sk-parallel {display: flex;align-items: stretch;justify-content: center;background-color: white;position: relative;}#sk-container-id-2 div.sk-item::before, #sk-container-id-2 div.sk-parallel-item::before {content: \"\";position: absolute;border-left: 1px solid gray;box-sizing: border-box;top: 0;bottom: 0;left: 50%;z-index: -1;}#sk-container-id-2 div.sk-parallel-item {display: flex;flex-direction: column;z-index: 1;position: relative;background-color: white;}#sk-container-id-2 div.sk-parallel-item:first-child::after {align-self: flex-end;width: 50%;}#sk-container-id-2 div.sk-parallel-item:last-child::after {align-self: flex-start;width: 50%;}#sk-container-id-2 div.sk-parallel-item:only-child::after {width: 0;}#sk-container-id-2 div.sk-dashed-wrapped {border: 1px dashed gray;margin: 0 0.4em 0.5em 0.4em;box-sizing: border-box;padding-bottom: 0.4em;background-color: white;}#sk-container-id-2 div.sk-label label {font-family: monospace;font-weight: bold;display: inline-block;line-height: 1.2em;}#sk-container-id-2 div.sk-label-container {text-align: center;}#sk-container-id-2 div.sk-container {/* jupyter's `normalize.less` sets `[hidden] { display: none; }` but bootstrap.min.css set `[hidden] { display: none !important; }` so we also need the `!important` here to be able to override the default hidden behavior on the sphinx rendered scikit-learn.org. See: https://github.com/scikit-learn/scikit-learn/issues/21755 */display: inline-block !important;position: relative;}#sk-container-id-2 div.sk-text-repr-fallback {display: none;}</style><div id=\"sk-container-id-2\" class=\"sk-top-container\"><div class=\"sk-text-repr-fallback\"><pre>XGBClassifier(base_score=None, booster=None, callbacks=None,\n",
       "              colsample_bylevel=None, colsample_bynode=None,\n",
       "              colsample_bytree=None, device=None, early_stopping_rounds=None,\n",
       "              enable_categorical=False, eval_metric=None, feature_types=None,\n",
       "              gamma=None, grow_policy=None, importance_type=None,\n",
       "              interaction_constraints=None, learning_rate=None, max_bin=None,\n",
       "              max_cat_threshold=None, max_cat_to_onehot=None,\n",
       "              max_delta_step=None, max_depth=None, max_leaves=None,\n",
       "              min_child_weight=None, missing=nan, monotone_constraints=None,\n",
       "              multi_strategy=None, n_estimators=None, n_jobs=None,\n",
       "              num_parallel_tree=None, random_state=None, ...)</pre><b>In a Jupyter environment, please rerun this cell to show the HTML representation or trust the notebook. <br />On GitHub, the HTML representation is unable to render, please try loading this page with nbviewer.org.</b></div><div class=\"sk-container\" hidden><div class=\"sk-item\"><div class=\"sk-estimator sk-toggleable\"><input class=\"sk-toggleable__control sk-hidden--visually\" id=\"sk-estimator-id-2\" type=\"checkbox\" checked><label for=\"sk-estimator-id-2\" class=\"sk-toggleable__label sk-toggleable__label-arrow\">XGBClassifier</label><div class=\"sk-toggleable__content\"><pre>XGBClassifier(base_score=None, booster=None, callbacks=None,\n",
       "              colsample_bylevel=None, colsample_bynode=None,\n",
       "              colsample_bytree=None, device=None, early_stopping_rounds=None,\n",
       "              enable_categorical=False, eval_metric=None, feature_types=None,\n",
       "              gamma=None, grow_policy=None, importance_type=None,\n",
       "              interaction_constraints=None, learning_rate=None, max_bin=None,\n",
       "              max_cat_threshold=None, max_cat_to_onehot=None,\n",
       "              max_delta_step=None, max_depth=None, max_leaves=None,\n",
       "              min_child_weight=None, missing=nan, monotone_constraints=None,\n",
       "              multi_strategy=None, n_estimators=None, n_jobs=None,\n",
       "              num_parallel_tree=None, random_state=None, ...)</pre></div></div></div></div></div>"
      ],
      "text/plain": [
       "XGBClassifier(base_score=None, booster=None, callbacks=None,\n",
       "              colsample_bylevel=None, colsample_bynode=None,\n",
       "              colsample_bytree=None, device=None, early_stopping_rounds=None,\n",
       "              enable_categorical=False, eval_metric=None, feature_types=None,\n",
       "              gamma=None, grow_policy=None, importance_type=None,\n",
       "              interaction_constraints=None, learning_rate=None, max_bin=None,\n",
       "              max_cat_threshold=None, max_cat_to_onehot=None,\n",
       "              max_delta_step=None, max_depth=None, max_leaves=None,\n",
       "              min_child_weight=None, missing=nan, monotone_constraints=None,\n",
       "              multi_strategy=None, n_estimators=None, n_jobs=None,\n",
       "              num_parallel_tree=None, random_state=None, ...)"
      ]
     },
     "execution_count": 36,
     "metadata": {},
     "output_type": "execute_result"
    }
   ],
   "source": [
    "# Fit the model on training data\n",
    "xgb_model = XGBClassifier()\n",
    "xgb_model.fit(X_train, y_train)"
   ]
  },
  {
   "cell_type": "code",
   "execution_count": 37,
   "id": "3d2e5aba",
   "metadata": {
    "scrolled": true
   },
   "outputs": [
    {
     "name": "stdout",
     "output_type": "stream",
     "text": [
      "Train Accuracy: 84.80%\n",
      "Test Accuracy: 58.23%\n"
     ]
    }
   ],
   "source": [
    "# Fit the model on training data\n",
    "xgb_model = XGBClassifier()\n",
    "xgb_model.fit(X_train, y_train)\n",
    "\n",
    "# Make predictions for the training data\n",
    "y_pred_train = xgb_model.predict(X_train)\n",
    "predictions_train = [round(value) for value in y_pred_train]\n",
    "\n",
    "# Make predictions for the test data\n",
    "y_pred_test = xgb_model.predict(X_test)\n",
    "predictions_test = [round(value) for value in y_pred_test]\n",
    "\n",
    "# Evaluate predictions\n",
    "train_accuracy = accuracy_score(y_train, predictions_train)\n",
    "test_accuracy = accuracy_score(y_test, predictions_test)\n",
    "\n",
    "print(\"Train Accuracy: %.2f%%\" % (train_accuracy * 100.0))\n",
    "print(\"Test Accuracy: %.2f%%\" % (test_accuracy * 100.0))"
   ]
  },
  {
   "cell_type": "markdown",
   "id": "3e33eaf7",
   "metadata": {},
   "source": [
    "##### Classification Report & Confusion Matrix"
   ]
  },
  {
   "cell_type": "code",
   "execution_count": 38,
   "id": "3d53e2e3",
   "metadata": {
    "scrolled": true
   },
   "outputs": [
    {
     "name": "stdout",
     "output_type": "stream",
     "text": [
      "              precision    recall  f1-score   support\n",
      "\n",
      "           0       0.72      0.22      0.33      3968\n",
      "           1       0.56      0.92      0.70      4293\n",
      "\n",
      "    accuracy                           0.58      8261\n",
      "   macro avg       0.64      0.57      0.51      8261\n",
      "weighted avg       0.63      0.58      0.52      8261\n",
      "\n"
     ]
    },
    {
     "data": {
      "image/png": "[encoded data removed]",
      "text/plain": [
       "<Figure size 1000x500 with 2 Axes>"
      ]
     },
     "metadata": {},
     "output_type": "display_data"
    }
   ],
   "source": [
    "# Classification report\n",
    "print(classification_report(y_test, predictions_test))\n",
    "\n",
    "# Generate the confusion matrix\n",
    "conf_matrix = confusion_matrix(y_test, predictions_test)\n",
    "\n",
    "# Confusion matrix heatmap\n",
    "plt.figure(figsize=(10, 5))\n",
    "sns.heatmap(conf_matrix, annot=True, fmt='g', cmap='Blues') \n",
    "plt.title('Confusion Matrix')\n",
    "plt.xlabel('Predicted')\n",
    "plt.ylabel('Actual')\n",
    "plt.show()"
   ]
  },
  {
   "cell_type": "markdown",
   "id": "29b3a652",
   "metadata": {},
   "source": [
    "##### Model Summary\n",
    "\n",
    "|     | Model Type               | Train Accuracy | Test Accuracy | Precision | Recall | Notes                    |\n",
    "|-----|--------------------------|----------------|---------------|-----------|--------|--------------------------|\n",
    "| 1.  | Logistic Regression      | 62%            | 52%           | 52%       | 97%    | Baseline/No parameters   |\n",
    "| 2.  | Random Forest Classifier | 100%           | 52%           | 52%       | 100%   | Grid search performed    |\n",
    "| 3.  | XGBoost                  | 81%            | 53%           | 53%       | 98%    | No grid search performed |"
   ]
  },
  {
   "cell_type": "markdown",
   "id": "db5f4701",
   "metadata": {},
   "source": [
    "<a id = 'summary'></a>\n",
    "## Summary & Insights\n"
   ]
  },
  {
   "cell_type": "markdown",
   "id": "febb903f",
   "metadata": {},
   "source": [
    "[Back to the top](#title)"
   ]
  }
 ],
 "metadata": {
  "kernelspec": {
   "display_name": "Python 3 (ipykernel)",
   "language": "python",
   "name": "python3"
  },
  "language_info": {
   "codemirror_mode": {
    "name": "ipython",
    "version": 3
   },
   "file_extension": ".py",
   "mimetype": "text/x-python",
   "name": "python",
   "nbconvert_exporter": "python",
   "pygments_lexer": "ipython3",
   "version": "3.11.5"
  }
 },
 "nbformat": 4,
 "nbformat_minor": 5
}
