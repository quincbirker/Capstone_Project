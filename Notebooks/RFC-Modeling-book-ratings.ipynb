{
 "cells": [
  {
   "cell_type": "markdown",
   "id": "1e7e479e",
   "metadata": {},
   "source": [
    "<a id = 'title'></a>\n",
    "# Random Forest Classifier Modeling\n",
    "\n",
    "##### Author: Quinci Birker"
   ]
  },
  {
   "cell_type": "markdown",
   "id": "d57bf934",
   "metadata": {},
   "source": [
    "## Table of Contents\n",
    "\n",
    "---------------------------------------\n",
    "1. [Import Dataset and Libraries](#import)\n",
    "2. [Baseline Modeling - Logistic Regression](#base)\n",
    "3. [Baseline Modeling - Decision Tree](#DTC)\n",
    "4. [Random Forest Classifier](#RFC)\n",
    "5. [Summary & Insights](#summary)\n",
    "---------------------------------------"
   ]
  },
  {
   "cell_type": "markdown",
   "id": "387b78ad",
   "metadata": {},
   "source": [
    "<a id = 'import'></a>\n",
    "## Import Dataset and Libraries"
   ]
  },
  {
   "cell_type": "code",
   "execution_count": 17,
   "id": "2a161100",
   "metadata": {},
   "outputs": [],
   "source": [
    "# Import libraries:\n",
    "import pandas as pd\n",
    "import numpy as np\n",
    "import matplotlib.pyplot as plt\n",
    "import seaborn as sns\n",
    "import plotly.express as px\n",
    "\n",
    "from sklearn.preprocessing import StandardScaler\n",
    "from sklearn.linear_model import LogisticRegression\n",
    "from sklearn.metrics import confusion_matrix, classification_report\n",
    "from sklearn.tree import DecisionTreeClassifier\n",
    "from sklearn.ensemble import RandomForestClassifier\n",
    "from sklearn.model_selection import RandomizedSearchCV\n",
    "from scipy.stats import randint\n",
    "from sklearn.model_selection import GridSearchCV"
   ]
  },
  {
   "cell_type": "code",
   "execution_count": 18,
   "id": "e0eb9eef",
   "metadata": {},
   "outputs": [],
   "source": [
    "# Read in the training dataset\n",
    "X_train = pd.read_csv('data/X_train_df_final.csv', index_col=0)\n",
    "y_train = pd.read_csv('data/y_train.csv', index_col=0)\n",
    "\n",
    "# Read in the testing dataset\n",
    "X_test = pd.read_csv('data/X_test_df_final.csv', index_col=0)\n",
    "y_test = pd.read_csv('data/y_test.csv', index_col=0)"
   ]
  },
  {
   "cell_type": "markdown",
   "id": "f73cbfaf",
   "metadata": {},
   "source": [
    "##### Sanity check training dataset"
   ]
  },
  {
   "cell_type": "code",
   "execution_count": 19,
   "id": "77fbc3c2",
   "metadata": {
    "scrolled": false
   },
   "outputs": [
    {
     "data": {
      "text/html": [
       "<div>\n",
       "<style scoped>\n",
       "    .dataframe tbody tr th:only-of-type {\n",
       "        vertical-align: middle;\n",
       "    }\n",
       "\n",
       "    .dataframe tbody tr th {\n",
       "        vertical-align: top;\n",
       "    }\n",
       "\n",
       "    .dataframe thead th {\n",
       "        text-align: right;\n",
       "    }\n",
       "</style>\n",
       "<table border=\"1\" class=\"dataframe\">\n",
       "  <thead>\n",
       "    <tr style=\"text-align: right;\">\n",
       "      <th></th>\n",
       "      <th>pages</th>\n",
       "      <th>numRatings</th>\n",
       "      <th>bbeScore</th>\n",
       "      <th>year</th>\n",
       "      <th>month</th>\n",
       "      <th>series_bool</th>\n",
       "      <th>genre_count</th>\n",
       "      <th>Adult</th>\n",
       "      <th>Adventure</th>\n",
       "      <th>Audiobook</th>\n",
       "      <th>...</th>\n",
       "      <th>Other</th>\n",
       "      <th>Paranormal</th>\n",
       "      <th>Romance</th>\n",
       "      <th>Science Fiction</th>\n",
       "      <th>Science Fiction Fantasy</th>\n",
       "      <th>Supernatural</th>\n",
       "      <th>Suspense</th>\n",
       "      <th>Thriller</th>\n",
       "      <th>Urban Fantasy</th>\n",
       "      <th>Young Adult</th>\n",
       "    </tr>\n",
       "  </thead>\n",
       "  <tbody>\n",
       "    <tr>\n",
       "      <th>35783</th>\n",
       "      <td>22.0</td>\n",
       "      <td>666</td>\n",
       "      <td>89</td>\n",
       "      <td>1974</td>\n",
       "      <td>1</td>\n",
       "      <td>0</td>\n",
       "      <td>52</td>\n",
       "      <td>0</td>\n",
       "      <td>0</td>\n",
       "      <td>0</td>\n",
       "      <td>...</td>\n",
       "      <td>1</td>\n",
       "      <td>0</td>\n",
       "      <td>0</td>\n",
       "      <td>0</td>\n",
       "      <td>0</td>\n",
       "      <td>0</td>\n",
       "      <td>0</td>\n",
       "      <td>0</td>\n",
       "      <td>0</td>\n",
       "      <td>0</td>\n",
       "    </tr>\n",
       "    <tr>\n",
       "      <th>39773</th>\n",
       "      <td>176.0</td>\n",
       "      <td>161</td>\n",
       "      <td>83</td>\n",
       "      <td>1983</td>\n",
       "      <td>1</td>\n",
       "      <td>0</td>\n",
       "      <td>95</td>\n",
       "      <td>0</td>\n",
       "      <td>0</td>\n",
       "      <td>0</td>\n",
       "      <td>...</td>\n",
       "      <td>1</td>\n",
       "      <td>0</td>\n",
       "      <td>0</td>\n",
       "      <td>0</td>\n",
       "      <td>0</td>\n",
       "      <td>0</td>\n",
       "      <td>0</td>\n",
       "      <td>0</td>\n",
       "      <td>0</td>\n",
       "      <td>0</td>\n",
       "    </tr>\n",
       "    <tr>\n",
       "      <th>51074</th>\n",
       "      <td>339.0</td>\n",
       "      <td>2535</td>\n",
       "      <td>24</td>\n",
       "      <td>2014</td>\n",
       "      <td>5</td>\n",
       "      <td>1</td>\n",
       "      <td>171</td>\n",
       "      <td>0</td>\n",
       "      <td>0</td>\n",
       "      <td>0</td>\n",
       "      <td>...</td>\n",
       "      <td>1</td>\n",
       "      <td>0</td>\n",
       "      <td>1</td>\n",
       "      <td>0</td>\n",
       "      <td>0</td>\n",
       "      <td>0</td>\n",
       "      <td>0</td>\n",
       "      <td>0</td>\n",
       "      <td>0</td>\n",
       "      <td>1</td>\n",
       "    </tr>\n",
       "    <tr>\n",
       "      <th>7233</th>\n",
       "      <td>201.0</td>\n",
       "      <td>17367</td>\n",
       "      <td>370</td>\n",
       "      <td>2009</td>\n",
       "      <td>7</td>\n",
       "      <td>0</td>\n",
       "      <td>139</td>\n",
       "      <td>0</td>\n",
       "      <td>0</td>\n",
       "      <td>0</td>\n",
       "      <td>...</td>\n",
       "      <td>1</td>\n",
       "      <td>0</td>\n",
       "      <td>0</td>\n",
       "      <td>1</td>\n",
       "      <td>0</td>\n",
       "      <td>0</td>\n",
       "      <td>0</td>\n",
       "      <td>0</td>\n",
       "      <td>0</td>\n",
       "      <td>0</td>\n",
       "    </tr>\n",
       "    <tr>\n",
       "      <th>6868</th>\n",
       "      <td>224.0</td>\n",
       "      <td>94434</td>\n",
       "      <td>389</td>\n",
       "      <td>2016</td>\n",
       "      <td>11</td>\n",
       "      <td>0</td>\n",
       "      <td>125</td>\n",
       "      <td>1</td>\n",
       "      <td>0</td>\n",
       "      <td>1</td>\n",
       "      <td>...</td>\n",
       "      <td>1</td>\n",
       "      <td>0</td>\n",
       "      <td>0</td>\n",
       "      <td>0</td>\n",
       "      <td>0</td>\n",
       "      <td>0</td>\n",
       "      <td>0</td>\n",
       "      <td>0</td>\n",
       "      <td>0</td>\n",
       "      <td>0</td>\n",
       "    </tr>\n",
       "  </tbody>\n",
       "</table>\n",
       "<p>5 rows × 38 columns</p>\n",
       "</div>"
      ],
      "text/plain": [
       "       pages  numRatings  bbeScore  year  month  series_bool  genre_count  \\\n",
       "35783   22.0         666        89  1974      1            0           52   \n",
       "39773  176.0         161        83  1983      1            0           95   \n",
       "51074  339.0        2535        24  2014      5            1          171   \n",
       "7233   201.0       17367       370  2009      7            0          139   \n",
       "6868   224.0       94434       389  2016     11            0          125   \n",
       "\n",
       "       Adult  Adventure  Audiobook  ...  Other  Paranormal  Romance  \\\n",
       "35783      0          0          0  ...      1           0        0   \n",
       "39773      0          0          0  ...      1           0        0   \n",
       "51074      0          0          0  ...      1           0        1   \n",
       "7233       0          0          0  ...      1           0        0   \n",
       "6868       1          0          1  ...      1           0        0   \n",
       "\n",
       "       Science Fiction  Science Fiction Fantasy  Supernatural  Suspense  \\\n",
       "35783                0                        0             0         0   \n",
       "39773                0                        0             0         0   \n",
       "51074                0                        0             0         0   \n",
       "7233                 1                        0             0         0   \n",
       "6868                 0                        0             0         0   \n",
       "\n",
       "       Thriller  Urban Fantasy  Young Adult  \n",
       "35783         0              0            0  \n",
       "39773         0              0            0  \n",
       "51074         0              0            1  \n",
       "7233          0              0            0  \n",
       "6868          0              0            0  \n",
       "\n",
       "[5 rows x 38 columns]"
      ]
     },
     "execution_count": 19,
     "metadata": {},
     "output_type": "execute_result"
    }
   ],
   "source": [
    "X_train.head()"
   ]
  },
  {
   "cell_type": "code",
   "execution_count": 20,
   "id": "f74a36d7",
   "metadata": {
    "scrolled": false
   },
   "outputs": [
    {
     "data": {
      "text/plain": [
       "(33041, 38)"
      ]
     },
     "execution_count": 20,
     "metadata": {},
     "output_type": "execute_result"
    }
   ],
   "source": [
    "X_train.shape"
   ]
  },
  {
   "cell_type": "code",
   "execution_count": 21,
   "id": "b4929cfa",
   "metadata": {},
   "outputs": [
    {
     "data": {
      "text/html": [
       "<div>\n",
       "<style scoped>\n",
       "    .dataframe tbody tr th:only-of-type {\n",
       "        vertical-align: middle;\n",
       "    }\n",
       "\n",
       "    .dataframe tbody tr th {\n",
       "        vertical-align: top;\n",
       "    }\n",
       "\n",
       "    .dataframe thead th {\n",
       "        text-align: right;\n",
       "    }\n",
       "</style>\n",
       "<table border=\"1\" class=\"dataframe\">\n",
       "  <thead>\n",
       "    <tr style=\"text-align: right;\">\n",
       "      <th></th>\n",
       "      <th>rating</th>\n",
       "    </tr>\n",
       "  </thead>\n",
       "  <tbody>\n",
       "    <tr>\n",
       "      <th>35783</th>\n",
       "      <td>1</td>\n",
       "    </tr>\n",
       "    <tr>\n",
       "      <th>39773</th>\n",
       "      <td>0</td>\n",
       "    </tr>\n",
       "    <tr>\n",
       "      <th>51074</th>\n",
       "      <td>0</td>\n",
       "    </tr>\n",
       "    <tr>\n",
       "      <th>7233</th>\n",
       "      <td>1</td>\n",
       "    </tr>\n",
       "    <tr>\n",
       "      <th>6868</th>\n",
       "      <td>0</td>\n",
       "    </tr>\n",
       "  </tbody>\n",
       "</table>\n",
       "</div>"
      ],
      "text/plain": [
       "       rating\n",
       "35783       1\n",
       "39773       0\n",
       "51074       0\n",
       "7233        1\n",
       "6868        0"
      ]
     },
     "execution_count": 21,
     "metadata": {},
     "output_type": "execute_result"
    }
   ],
   "source": [
    "y_train.head()"
   ]
  },
  {
   "cell_type": "code",
   "execution_count": 22,
   "id": "eb53a79d",
   "metadata": {
    "scrolled": false
   },
   "outputs": [
    {
     "data": {
      "text/plain": [
       "(33041, 1)"
      ]
     },
     "execution_count": 22,
     "metadata": {},
     "output_type": "execute_result"
    }
   ],
   "source": [
    "y_train.shape"
   ]
  },
  {
   "cell_type": "markdown",
   "id": "64ae700a",
   "metadata": {},
   "source": [
    "Scikit-Learn models generally expect the target variable to be a 1D array, so this will need to be reshaped"
   ]
  },
  {
   "cell_type": "code",
   "execution_count": 23,
   "id": "d39face7",
   "metadata": {},
   "outputs": [
    {
     "data": {
      "text/plain": [
       "(33041,)"
      ]
     },
     "execution_count": 23,
     "metadata": {},
     "output_type": "execute_result"
    }
   ],
   "source": [
    "# Reshape y_train\n",
    "y_train = y_train.values.ravel()\n",
    "y_train.shape"
   ]
  },
  {
   "cell_type": "markdown",
   "id": "631243db",
   "metadata": {},
   "source": [
    "##### Sanity check testing dataset"
   ]
  },
  {
   "cell_type": "code",
   "execution_count": 24,
   "id": "4ffe9a9e",
   "metadata": {},
   "outputs": [
    {
     "data": {
      "text/html": [
       "<div>\n",
       "<style scoped>\n",
       "    .dataframe tbody tr th:only-of-type {\n",
       "        vertical-align: middle;\n",
       "    }\n",
       "\n",
       "    .dataframe tbody tr th {\n",
       "        vertical-align: top;\n",
       "    }\n",
       "\n",
       "    .dataframe thead th {\n",
       "        text-align: right;\n",
       "    }\n",
       "</style>\n",
       "<table border=\"1\" class=\"dataframe\">\n",
       "  <thead>\n",
       "    <tr style=\"text-align: right;\">\n",
       "      <th></th>\n",
       "      <th>pages</th>\n",
       "      <th>numRatings</th>\n",
       "      <th>bbeScore</th>\n",
       "      <th>year</th>\n",
       "      <th>month</th>\n",
       "      <th>series_bool</th>\n",
       "      <th>genre_count</th>\n",
       "      <th>Adult</th>\n",
       "      <th>Adventure</th>\n",
       "      <th>Audiobook</th>\n",
       "      <th>...</th>\n",
       "      <th>Other</th>\n",
       "      <th>Paranormal</th>\n",
       "      <th>Romance</th>\n",
       "      <th>Science Fiction</th>\n",
       "      <th>Science Fiction Fantasy</th>\n",
       "      <th>Supernatural</th>\n",
       "      <th>Suspense</th>\n",
       "      <th>Thriller</th>\n",
       "      <th>Urban Fantasy</th>\n",
       "      <th>Young Adult</th>\n",
       "    </tr>\n",
       "  </thead>\n",
       "  <tbody>\n",
       "    <tr>\n",
       "      <th>33489</th>\n",
       "      <td>346.0</td>\n",
       "      <td>1864</td>\n",
       "      <td>92</td>\n",
       "      <td>2015</td>\n",
       "      <td>9</td>\n",
       "      <td>1</td>\n",
       "      <td>147</td>\n",
       "      <td>0</td>\n",
       "      <td>0</td>\n",
       "      <td>0</td>\n",
       "      <td>...</td>\n",
       "      <td>1</td>\n",
       "      <td>0</td>\n",
       "      <td>0</td>\n",
       "      <td>0</td>\n",
       "      <td>0</td>\n",
       "      <td>0</td>\n",
       "      <td>0</td>\n",
       "      <td>0</td>\n",
       "      <td>0</td>\n",
       "      <td>0</td>\n",
       "    </tr>\n",
       "    <tr>\n",
       "      <th>12086</th>\n",
       "      <td>160.0</td>\n",
       "      <td>12646</td>\n",
       "      <td>194</td>\n",
       "      <td>2002</td>\n",
       "      <td>1</td>\n",
       "      <td>1</td>\n",
       "      <td>140</td>\n",
       "      <td>0</td>\n",
       "      <td>0</td>\n",
       "      <td>0</td>\n",
       "      <td>...</td>\n",
       "      <td>1</td>\n",
       "      <td>0</td>\n",
       "      <td>0</td>\n",
       "      <td>0</td>\n",
       "      <td>0</td>\n",
       "      <td>0</td>\n",
       "      <td>0</td>\n",
       "      <td>0</td>\n",
       "      <td>0</td>\n",
       "      <td>0</td>\n",
       "    </tr>\n",
       "    <tr>\n",
       "      <th>8714</th>\n",
       "      <td>513.0</td>\n",
       "      <td>62049</td>\n",
       "      <td>289</td>\n",
       "      <td>2019</td>\n",
       "      <td>9</td>\n",
       "      <td>1</td>\n",
       "      <td>131</td>\n",
       "      <td>0</td>\n",
       "      <td>0</td>\n",
       "      <td>0</td>\n",
       "      <td>...</td>\n",
       "      <td>1</td>\n",
       "      <td>0</td>\n",
       "      <td>0</td>\n",
       "      <td>0</td>\n",
       "      <td>0</td>\n",
       "      <td>0</td>\n",
       "      <td>0</td>\n",
       "      <td>0</td>\n",
       "      <td>0</td>\n",
       "      <td>0</td>\n",
       "    </tr>\n",
       "    <tr>\n",
       "      <th>36527</th>\n",
       "      <td>432.0</td>\n",
       "      <td>3347</td>\n",
       "      <td>88</td>\n",
       "      <td>2012</td>\n",
       "      <td>3</td>\n",
       "      <td>0</td>\n",
       "      <td>127</td>\n",
       "      <td>0</td>\n",
       "      <td>0</td>\n",
       "      <td>0</td>\n",
       "      <td>...</td>\n",
       "      <td>1</td>\n",
       "      <td>0</td>\n",
       "      <td>0</td>\n",
       "      <td>0</td>\n",
       "      <td>0</td>\n",
       "      <td>0</td>\n",
       "      <td>0</td>\n",
       "      <td>0</td>\n",
       "      <td>0</td>\n",
       "      <td>0</td>\n",
       "    </tr>\n",
       "    <tr>\n",
       "      <th>12745</th>\n",
       "      <td>345.0</td>\n",
       "      <td>115</td>\n",
       "      <td>190</td>\n",
       "      <td>2014</td>\n",
       "      <td>6</td>\n",
       "      <td>1</td>\n",
       "      <td>65</td>\n",
       "      <td>0</td>\n",
       "      <td>0</td>\n",
       "      <td>0</td>\n",
       "      <td>...</td>\n",
       "      <td>1</td>\n",
       "      <td>0</td>\n",
       "      <td>0</td>\n",
       "      <td>0</td>\n",
       "      <td>0</td>\n",
       "      <td>0</td>\n",
       "      <td>0</td>\n",
       "      <td>0</td>\n",
       "      <td>0</td>\n",
       "      <td>0</td>\n",
       "    </tr>\n",
       "  </tbody>\n",
       "</table>\n",
       "<p>5 rows × 38 columns</p>\n",
       "</div>"
      ],
      "text/plain": [
       "       pages  numRatings  bbeScore  year  month  series_bool  genre_count  \\\n",
       "33489  346.0        1864        92  2015      9            1          147   \n",
       "12086  160.0       12646       194  2002      1            1          140   \n",
       "8714   513.0       62049       289  2019      9            1          131   \n",
       "36527  432.0        3347        88  2012      3            0          127   \n",
       "12745  345.0         115       190  2014      6            1           65   \n",
       "\n",
       "       Adult  Adventure  Audiobook  ...  Other  Paranormal  Romance  \\\n",
       "33489      0          0          0  ...      1           0        0   \n",
       "12086      0          0          0  ...      1           0        0   \n",
       "8714       0          0          0  ...      1           0        0   \n",
       "36527      0          0          0  ...      1           0        0   \n",
       "12745      0          0          0  ...      1           0        0   \n",
       "\n",
       "       Science Fiction  Science Fiction Fantasy  Supernatural  Suspense  \\\n",
       "33489                0                        0             0         0   \n",
       "12086                0                        0             0         0   \n",
       "8714                 0                        0             0         0   \n",
       "36527                0                        0             0         0   \n",
       "12745                0                        0             0         0   \n",
       "\n",
       "       Thriller  Urban Fantasy  Young Adult  \n",
       "33489         0              0            0  \n",
       "12086         0              0            0  \n",
       "8714          0              0            0  \n",
       "36527         0              0            0  \n",
       "12745         0              0            0  \n",
       "\n",
       "[5 rows x 38 columns]"
      ]
     },
     "execution_count": 24,
     "metadata": {},
     "output_type": "execute_result"
    }
   ],
   "source": [
    "X_test.head()"
   ]
  },
  {
   "cell_type": "code",
   "execution_count": 25,
   "id": "0a66a101",
   "metadata": {},
   "outputs": [
    {
     "data": {
      "text/plain": [
       "(8261, 38)"
      ]
     },
     "execution_count": 25,
     "metadata": {},
     "output_type": "execute_result"
    }
   ],
   "source": [
    "X_test.shape"
   ]
  },
  {
   "cell_type": "code",
   "execution_count": 26,
   "id": "86d5dedf",
   "metadata": {},
   "outputs": [
    {
     "data": {
      "text/html": [
       "<div>\n",
       "<style scoped>\n",
       "    .dataframe tbody tr th:only-of-type {\n",
       "        vertical-align: middle;\n",
       "    }\n",
       "\n",
       "    .dataframe tbody tr th {\n",
       "        vertical-align: top;\n",
       "    }\n",
       "\n",
       "    .dataframe thead th {\n",
       "        text-align: right;\n",
       "    }\n",
       "</style>\n",
       "<table border=\"1\" class=\"dataframe\">\n",
       "  <thead>\n",
       "    <tr style=\"text-align: right;\">\n",
       "      <th></th>\n",
       "      <th>rating</th>\n",
       "    </tr>\n",
       "  </thead>\n",
       "  <tbody>\n",
       "    <tr>\n",
       "      <th>33489</th>\n",
       "      <td>1</td>\n",
       "    </tr>\n",
       "    <tr>\n",
       "      <th>12086</th>\n",
       "      <td>0</td>\n",
       "    </tr>\n",
       "    <tr>\n",
       "      <th>8714</th>\n",
       "      <td>1</td>\n",
       "    </tr>\n",
       "    <tr>\n",
       "      <th>36527</th>\n",
       "      <td>1</td>\n",
       "    </tr>\n",
       "    <tr>\n",
       "      <th>12745</th>\n",
       "      <td>0</td>\n",
       "    </tr>\n",
       "  </tbody>\n",
       "</table>\n",
       "</div>"
      ],
      "text/plain": [
       "       rating\n",
       "33489       1\n",
       "12086       0\n",
       "8714        1\n",
       "36527       1\n",
       "12745       0"
      ]
     },
     "execution_count": 26,
     "metadata": {},
     "output_type": "execute_result"
    }
   ],
   "source": [
    "y_test.head()"
   ]
  },
  {
   "cell_type": "code",
   "execution_count": 27,
   "id": "78e97167",
   "metadata": {
    "scrolled": false
   },
   "outputs": [
    {
     "data": {
      "text/plain": [
       "(8261, 1)"
      ]
     },
     "execution_count": 27,
     "metadata": {},
     "output_type": "execute_result"
    }
   ],
   "source": [
    "y_test.shape"
   ]
  },
  {
   "cell_type": "code",
   "execution_count": 28,
   "id": "1ba756ec",
   "metadata": {},
   "outputs": [
    {
     "data": {
      "text/plain": [
       "(8261,)"
      ]
     },
     "execution_count": 28,
     "metadata": {},
     "output_type": "execute_result"
    }
   ],
   "source": [
    "# Reshape the y_test\n",
    "y_test = y_test.values.ravel()\n",
    "y_test.shape"
   ]
  },
  {
   "cell_type": "markdown",
   "id": "a2c4be3a",
   "metadata": {},
   "source": [
    "<a id = 'base'></a>\n",
    "## Baseline Modeling\n",
    "\n",
    "The baseline will be a logistic regression model. This will be used for future testing in how other models perform.\n",
    "\n",
    "The model will predict whether a book has a good rating (1) or a bad rating (0).<a id = 'base_model'></a>\n"
   ]
  },
  {
   "cell_type": "markdown",
   "id": "dadaf485",
   "metadata": {},
   "source": [
    "##### Scale the data\n",
    "\n",
    "Since the majority of columns are binary, only the non-binary columns will be scaled. \n",
    "First, seperate the binary from non-binary columns and then apply the standard scaler to only the non-binary columns. "
   ]
  },
  {
   "cell_type": "code",
   "execution_count": 29,
   "id": "7ae1e8fc",
   "metadata": {
    "scrolled": true
   },
   "outputs": [],
   "source": [
    "# Identify non-binary columns\n",
    "# non_binary_cols = [col for col in X_train_df_final.columns if len(X_train_df_final[col].unique()) > 2]\n",
    "non_binary_cols = ['pages', 'numRatings', 'bbeScore', 'year', 'month']\n",
    "\n",
    "# Initialize the StandardScaler\n",
    "scaler = StandardScaler()\n",
    "\n",
    "# Scale only non-binary columns\n",
    "X_train_scaled = X_train.copy()\n",
    "X_test_scaled = X_test.copy()\n",
    "\n",
    "X_train_scaled[non_binary_cols] = scaler.fit_transform(X_train[non_binary_cols])\n",
    "X_test_scaled[non_binary_cols] = scaler.transform(X_test[non_binary_cols])"
   ]
  },
  {
   "cell_type": "code",
   "execution_count": 30,
   "id": "2750853b",
   "metadata": {
    "scrolled": true
   },
   "outputs": [
    {
     "name": "stdout",
     "output_type": "stream",
     "text": [
      "Train score: 0.6415665385430223\n",
      "Test score: 0.517491829076383\n"
     ]
    },
    {
     "name": "stderr",
     "output_type": "stream",
     "text": [
      "/Users/quincibirker/anaconda3/lib/python3.11/site-packages/sklearn/linear_model/_logistic.py:460: ConvergenceWarning: lbfgs failed to converge (status=1):\n",
      "STOP: TOTAL NO. of ITERATIONS REACHED LIMIT.\n",
      "\n",
      "Increase the number of iterations (max_iter) or scale the data as shown in:\n",
      "    https://scikit-learn.org/stable/modules/preprocessing.html\n",
      "Please also refer to the documentation for alternative solver options:\n",
      "    https://scikit-learn.org/stable/modules/linear_model.html#logistic-regression\n",
      "  n_iter_i = _check_optimize_result(\n"
     ]
    }
   ],
   "source": [
    "# Instantiate and fit logisitc regression\n",
    "logreg = LogisticRegression()\n",
    "logreg.fit(X_train_scaled, y_train)\n",
    "\n",
    "# Train and test scores\n",
    "print(f'Train score: {logreg.score(X_train_scaled, y_train)}')\n",
    "print(f'Test score: {logreg.score(X_test_scaled, y_test)}')"
   ]
  },
  {
   "cell_type": "code",
   "execution_count": 31,
   "id": "4db38bfd",
   "metadata": {},
   "outputs": [],
   "source": [
    "# Make predictions on the test data\n",
    "y_pred_logreg = logreg.predict(X_test_scaled)"
   ]
  },
  {
   "cell_type": "markdown",
   "id": "e0ef2d6d",
   "metadata": {},
   "source": [
    "The baseline logisitc regression has a train score of 64 percent and a test score of 52 percent. There seems to be overfitting and the overall test accuracy is not strong. This will still be used as a baseline and hopefully testing out different models will improve the prediction accuracy for the test set."
   ]
  },
  {
   "cell_type": "code",
   "execution_count": 32,
   "id": "cb65d235",
   "metadata": {},
   "outputs": [
    {
     "data": {
      "text/html": [
       "<div>\n",
       "<style scoped>\n",
       "    .dataframe tbody tr th:only-of-type {\n",
       "        vertical-align: middle;\n",
       "    }\n",
       "\n",
       "    .dataframe tbody tr th {\n",
       "        vertical-align: top;\n",
       "    }\n",
       "\n",
       "    .dataframe thead th {\n",
       "        text-align: right;\n",
       "    }\n",
       "</style>\n",
       "<table border=\"1\" class=\"dataframe\">\n",
       "  <thead>\n",
       "    <tr style=\"text-align: right;\">\n",
       "      <th></th>\n",
       "      <th>Feature</th>\n",
       "      <th>Coefficient</th>\n",
       "      <th>Odds_ratio</th>\n",
       "    </tr>\n",
       "  </thead>\n",
       "  <tbody>\n",
       "    <tr>\n",
       "      <th>5</th>\n",
       "      <td>series_bool</td>\n",
       "      <td>0.833176</td>\n",
       "      <td>2.300613</td>\n",
       "    </tr>\n",
       "    <tr>\n",
       "      <th>0</th>\n",
       "      <td>pages</td>\n",
       "      <td>0.489714</td>\n",
       "      <td>1.631849</td>\n",
       "    </tr>\n",
       "    <tr>\n",
       "      <th>11</th>\n",
       "      <td>Childrens</td>\n",
       "      <td>0.449391</td>\n",
       "      <td>1.567357</td>\n",
       "    </tr>\n",
       "    <tr>\n",
       "      <th>12</th>\n",
       "      <td>Classics</td>\n",
       "      <td>0.398184</td>\n",
       "      <td>1.489119</td>\n",
       "    </tr>\n",
       "    <tr>\n",
       "      <th>14</th>\n",
       "      <td>Contemporary Romance</td>\n",
       "      <td>0.301780</td>\n",
       "      <td>1.352264</td>\n",
       "    </tr>\n",
       "    <tr>\n",
       "      <th>34</th>\n",
       "      <td>Suspense</td>\n",
       "      <td>0.192391</td>\n",
       "      <td>1.212144</td>\n",
       "    </tr>\n",
       "    <tr>\n",
       "      <th>28</th>\n",
       "      <td>Other</td>\n",
       "      <td>0.185002</td>\n",
       "      <td>1.203220</td>\n",
       "    </tr>\n",
       "    <tr>\n",
       "      <th>1</th>\n",
       "      <td>numRatings</td>\n",
       "      <td>0.137388</td>\n",
       "      <td>1.147273</td>\n",
       "    </tr>\n",
       "    <tr>\n",
       "      <th>3</th>\n",
       "      <td>year</td>\n",
       "      <td>0.103011</td>\n",
       "      <td>1.108504</td>\n",
       "    </tr>\n",
       "    <tr>\n",
       "      <th>26</th>\n",
       "      <td>Nonfiction</td>\n",
       "      <td>0.057649</td>\n",
       "      <td>1.059343</td>\n",
       "    </tr>\n",
       "    <tr>\n",
       "      <th>4</th>\n",
       "      <td>month</td>\n",
       "      <td>0.024117</td>\n",
       "      <td>1.024410</td>\n",
       "    </tr>\n",
       "    <tr>\n",
       "      <th>8</th>\n",
       "      <td>Adventure</td>\n",
       "      <td>0.002983</td>\n",
       "      <td>1.002987</td>\n",
       "    </tr>\n",
       "    <tr>\n",
       "      <th>6</th>\n",
       "      <td>genre_count</td>\n",
       "      <td>-0.000268</td>\n",
       "      <td>0.999732</td>\n",
       "    </tr>\n",
       "    <tr>\n",
       "      <th>24</th>\n",
       "      <td>Middle Grade</td>\n",
       "      <td>-0.004176</td>\n",
       "      <td>0.995833</td>\n",
       "    </tr>\n",
       "    <tr>\n",
       "      <th>9</th>\n",
       "      <td>Audiobook</td>\n",
       "      <td>-0.032704</td>\n",
       "      <td>0.967825</td>\n",
       "    </tr>\n",
       "    <tr>\n",
       "      <th>2</th>\n",
       "      <td>bbeScore</td>\n",
       "      <td>-0.039091</td>\n",
       "      <td>0.961663</td>\n",
       "    </tr>\n",
       "    <tr>\n",
       "      <th>16</th>\n",
       "      <td>Fantasy</td>\n",
       "      <td>-0.048065</td>\n",
       "      <td>0.953072</td>\n",
       "    </tr>\n",
       "    <tr>\n",
       "      <th>20</th>\n",
       "      <td>History</td>\n",
       "      <td>-0.053992</td>\n",
       "      <td>0.947439</td>\n",
       "    </tr>\n",
       "    <tr>\n",
       "      <th>36</th>\n",
       "      <td>Urban Fantasy</td>\n",
       "      <td>-0.088320</td>\n",
       "      <td>0.915468</td>\n",
       "    </tr>\n",
       "    <tr>\n",
       "      <th>15</th>\n",
       "      <td>Crime</td>\n",
       "      <td>-0.104652</td>\n",
       "      <td>0.900638</td>\n",
       "    </tr>\n",
       "    <tr>\n",
       "      <th>23</th>\n",
       "      <td>Magic</td>\n",
       "      <td>-0.131183</td>\n",
       "      <td>0.877058</td>\n",
       "    </tr>\n",
       "    <tr>\n",
       "      <th>18</th>\n",
       "      <td>Historical</td>\n",
       "      <td>-0.144028</td>\n",
       "      <td>0.865864</td>\n",
       "    </tr>\n",
       "    <tr>\n",
       "      <th>30</th>\n",
       "      <td>Romance</td>\n",
       "      <td>-0.149821</td>\n",
       "      <td>0.860862</td>\n",
       "    </tr>\n",
       "    <tr>\n",
       "      <th>33</th>\n",
       "      <td>Supernatural</td>\n",
       "      <td>-0.159663</td>\n",
       "      <td>0.852431</td>\n",
       "    </tr>\n",
       "    <tr>\n",
       "      <th>21</th>\n",
       "      <td>Humor</td>\n",
       "      <td>-0.160885</td>\n",
       "      <td>0.851390</td>\n",
       "    </tr>\n",
       "    <tr>\n",
       "      <th>7</th>\n",
       "      <td>Adult</td>\n",
       "      <td>-0.180769</td>\n",
       "      <td>0.834628</td>\n",
       "    </tr>\n",
       "    <tr>\n",
       "      <th>29</th>\n",
       "      <td>Paranormal</td>\n",
       "      <td>-0.242949</td>\n",
       "      <td>0.784312</td>\n",
       "    </tr>\n",
       "    <tr>\n",
       "      <th>32</th>\n",
       "      <td>Science Fiction Fantasy</td>\n",
       "      <td>-0.255697</td>\n",
       "      <td>0.774377</td>\n",
       "    </tr>\n",
       "    <tr>\n",
       "      <th>17</th>\n",
       "      <td>Fiction</td>\n",
       "      <td>-0.292301</td>\n",
       "      <td>0.746544</td>\n",
       "    </tr>\n",
       "    <tr>\n",
       "      <th>19</th>\n",
       "      <td>Historical Fiction</td>\n",
       "      <td>-0.302840</td>\n",
       "      <td>0.738717</td>\n",
       "    </tr>\n",
       "    <tr>\n",
       "      <th>22</th>\n",
       "      <td>Literature</td>\n",
       "      <td>-0.314222</td>\n",
       "      <td>0.730357</td>\n",
       "    </tr>\n",
       "    <tr>\n",
       "      <th>13</th>\n",
       "      <td>Contemporary</td>\n",
       "      <td>-0.344241</td>\n",
       "      <td>0.708758</td>\n",
       "    </tr>\n",
       "    <tr>\n",
       "      <th>35</th>\n",
       "      <td>Thriller</td>\n",
       "      <td>-0.385717</td>\n",
       "      <td>0.679963</td>\n",
       "    </tr>\n",
       "    <tr>\n",
       "      <th>37</th>\n",
       "      <td>Young Adult</td>\n",
       "      <td>-0.404728</td>\n",
       "      <td>0.667158</td>\n",
       "    </tr>\n",
       "    <tr>\n",
       "      <th>31</th>\n",
       "      <td>Science Fiction</td>\n",
       "      <td>-0.485540</td>\n",
       "      <td>0.615365</td>\n",
       "    </tr>\n",
       "    <tr>\n",
       "      <th>27</th>\n",
       "      <td>Novels</td>\n",
       "      <td>-0.527145</td>\n",
       "      <td>0.590288</td>\n",
       "    </tr>\n",
       "    <tr>\n",
       "      <th>25</th>\n",
       "      <td>Mystery</td>\n",
       "      <td>-0.616354</td>\n",
       "      <td>0.539909</td>\n",
       "    </tr>\n",
       "    <tr>\n",
       "      <th>10</th>\n",
       "      <td>Chick Lit</td>\n",
       "      <td>-0.708878</td>\n",
       "      <td>0.492196</td>\n",
       "    </tr>\n",
       "  </tbody>\n",
       "</table>\n",
       "</div>"
      ],
      "text/plain": [
       "                    Feature  Coefficient  Odds_ratio\n",
       "5               series_bool     0.833176    2.300613\n",
       "0                     pages     0.489714    1.631849\n",
       "11                Childrens     0.449391    1.567357\n",
       "12                 Classics     0.398184    1.489119\n",
       "14     Contemporary Romance     0.301780    1.352264\n",
       "34                 Suspense     0.192391    1.212144\n",
       "28                    Other     0.185002    1.203220\n",
       "1                numRatings     0.137388    1.147273\n",
       "3                      year     0.103011    1.108504\n",
       "26               Nonfiction     0.057649    1.059343\n",
       "4                     month     0.024117    1.024410\n",
       "8                 Adventure     0.002983    1.002987\n",
       "6               genre_count    -0.000268    0.999732\n",
       "24             Middle Grade    -0.004176    0.995833\n",
       "9                 Audiobook    -0.032704    0.967825\n",
       "2                  bbeScore    -0.039091    0.961663\n",
       "16                  Fantasy    -0.048065    0.953072\n",
       "20                  History    -0.053992    0.947439\n",
       "36            Urban Fantasy    -0.088320    0.915468\n",
       "15                    Crime    -0.104652    0.900638\n",
       "23                    Magic    -0.131183    0.877058\n",
       "18               Historical    -0.144028    0.865864\n",
       "30                  Romance    -0.149821    0.860862\n",
       "33             Supernatural    -0.159663    0.852431\n",
       "21                    Humor    -0.160885    0.851390\n",
       "7                     Adult    -0.180769    0.834628\n",
       "29               Paranormal    -0.242949    0.784312\n",
       "32  Science Fiction Fantasy    -0.255697    0.774377\n",
       "17                  Fiction    -0.292301    0.746544\n",
       "19       Historical Fiction    -0.302840    0.738717\n",
       "22               Literature    -0.314222    0.730357\n",
       "13             Contemporary    -0.344241    0.708758\n",
       "35                 Thriller    -0.385717    0.679963\n",
       "37              Young Adult    -0.404728    0.667158\n",
       "31          Science Fiction    -0.485540    0.615365\n",
       "27                   Novels    -0.527145    0.590288\n",
       "25                  Mystery    -0.616354    0.539909\n",
       "10                Chick Lit    -0.708878    0.492196"
      ]
     },
     "execution_count": 32,
     "metadata": {},
     "output_type": "execute_result"
    }
   ],
   "source": [
    "# Extract the coefficients\n",
    "coefficients = logreg.coef_[0]\n",
    "\n",
    "# Calculate the odds ratios\n",
    "odds_ratio = np.exp(coefficients)\n",
    "\n",
    "# Get the feature names\n",
    "feature_names = X_train.columns\n",
    "\n",
    "# Create a DataFrame with feature names and their corresponding coefficients and odds ratios\n",
    "feature_coefficients = pd.DataFrame({\n",
    "    'Feature': feature_names,\n",
    "    'Coefficient': coefficients,\n",
    "    'Odds_ratio': odds_ratio\n",
    "})\n",
    "\n",
    "# Sort the coefficients from highest to lowest\n",
    "feature_coefficients = feature_coefficients.sort_values(by='Coefficient', ascending=False)\n",
    "\n",
    "# Display \n",
    "feature_coefficients"
   ]
  },
  {
   "cell_type": "markdown",
   "id": "010cf3ca",
   "metadata": {},
   "source": [
    "Highest odds ratio:\n",
    "- The series columns has the highest coefficient of around 0.83. If the book is in a series, it has 2.3 times better odds to have a good review than if it's not in a series.\n",
    "- From the genres columns, Childrens, Classocs and Contemporary Romance have the highest odds ratios.\n",
    "\n",
    "Lowest odds ratio:\n",
    "- From the genres columns, Chick Lit has the highest negative correlation of around -0.71 and Mystery being second with around -0.62\n",
    "\n",
    "Notes:\n",
    "- In future, the genres could be filtered through a bit more. For example, in the top 30 genres, there is Historical, Historical Fiction, and History. These could be put into a single category to allow for other genres."
   ]
  },
  {
   "cell_type": "markdown",
   "id": "ef2c5e60",
   "metadata": {},
   "source": [
    "##### Confusion Matrix"
   ]
  },
  {
   "cell_type": "code",
   "execution_count": 33,
   "id": "3f92d271",
   "metadata": {},
   "outputs": [
    {
     "name": "stdout",
     "output_type": "stream",
     "text": [
      "Classification Report for Logistic Regression:\n",
      "              precision    recall  f1-score   support\n",
      "\n",
      "           0       0.46      0.03      0.05      3968\n",
      "           1       0.52      0.97      0.68      4293\n",
      "\n",
      "    accuracy                           0.52      8261\n",
      "   macro avg       0.49      0.50      0.36      8261\n",
      "weighted avg       0.49      0.52      0.37      8261\n",
      "\n"
     ]
    },
    {
     "data": {
      "image/png": "[encoded data removed]",
      "text/plain": [
       "<Figure size 1000x500 with 2 Axes>"
      ]
     },
     "metadata": {},
     "output_type": "display_data"
    }
   ],
   "source": [
    "# Classification report\n",
    "print(\"Classification Report for Logistic Regression:\")\n",
    "print(classification_report(y_test, y_pred_logreg))\n",
    "\n",
    "# Generate the confusion matrix\n",
    "conf_matrix_logreg = confusion_matrix(y_test, y_pred_logreg)\n",
    "\n",
    "# Confusion matrix heatmap\n",
    "plt.figure(figsize=(10, 5))\n",
    "sns.heatmap(conf_matrix_logreg, annot=True, fmt='g', cmap='Blues')\n",
    "plt.title('Confusion Matrix for Logistic Regression')\n",
    "plt.xlabel('Predicted')\n",
    "plt.ylabel('Actual')\n",
    "plt.show()"
   ]
  },
  {
   "cell_type": "markdown",
   "id": "9674e0d2",
   "metadata": {},
   "source": [
    "##### Model Summary\n",
    "\n",
    "|    | Model Type          | Train Accuracy | Test Accuracy | Parameters | Notes    |\n",
    "|----|---------------------|----------------|---------------|------------|----------|\n",
    "| 1. | Logistic Regression | 62 %           | 52 %          | None       | Baseline |"
   ]
  },
  {
   "cell_type": "markdown",
   "id": "83c5dd50",
   "metadata": {},
   "source": [
    "<a id = 'DTC'></a>\n",
    "## Decision Tree Classifier"
   ]
  },
  {
   "cell_type": "markdown",
   "id": "b88b5a93",
   "metadata": {},
   "source": [
    "##### Baseline DTC Model"
   ]
  },
  {
   "cell_type": "code",
   "execution_count": 34,
   "id": "f2a9d0eb",
   "metadata": {},
   "outputs": [
    {
     "name": "stdout",
     "output_type": "stream",
     "text": [
      "Train score: 1.0\n",
      "Test score: 0.5298390025420652\n"
     ]
    }
   ],
   "source": [
    "dtc = DecisionTreeClassifier()\n",
    "dtc.fit(X_train, y_train)\n",
    "\n",
    "print(f'Train score: {dtc.score(X_train, y_train)}')\n",
    "print(f'Test score: {dtc.score(X_test, y_test)}')"
   ]
  },
  {
   "cell_type": "markdown",
   "id": "9e3f9aac",
   "metadata": {},
   "source": [
    "The baseline model is over fitting a lot, with a gap of almost 50 percent. The next step is to use hyper parameters to see if we can obtain a better test score."
   ]
  },
  {
   "cell_type": "markdown",
   "id": "4875d29b",
   "metadata": {},
   "source": [
    "##### Model Summary\n",
    "\n",
    "|    | Model Type               | Train Accuracy | Test Accuracy | Parameters | Notes    |\n",
    "|----|--------------------------|----------------|---------------|------------|----------|\n",
    "| 1. | Logistic Regression      | 62 %           | 52 %          | None       | Baseline |\n",
    "| 2. | Decision Tree Classifier | 100 %          | 53 %          | None       | Baseline |"
   ]
  },
  {
   "cell_type": "markdown",
   "id": "5cdbc4f0",
   "metadata": {},
   "source": [
    "<a id = 'RFC'></a>\n",
    "## Random Forest Classifier"
   ]
  },
  {
   "cell_type": "markdown",
   "id": "4222de29",
   "metadata": {},
   "source": [
    "##### Random Search\n",
    "\n",
    "To efficiently tune hyperparameters, I'll start with a random search to quickly explore a wide range of options. Then, using the insights gained, I'll conduct a more targeted grid search in a narrowed range. This approach combines the speed of random search with the thoroughness of grid search for better results."
   ]
  },
  {
   "cell_type": "code",
   "execution_count": 49,
   "id": "0514f89d",
   "metadata": {},
   "outputs": [
    {
     "name": "stdout",
     "output_type": "stream",
     "text": [
      "Fitting 5 folds for each of 50 candidates, totalling 250 fits\n",
      "[CV] END criterion=entropy, max_depth=80, max_features=1, min_samples_leaf=2, min_samples_split=4, n_estimators=260; total time=   2.3s\n",
      "[CV] END criterion=entropy, max_depth=80, max_features=1, min_samples_leaf=2, min_samples_split=4, n_estimators=260; total time=   2.3s\n",
      "[CV] END criterion=entropy, max_depth=80, max_features=1, min_samples_leaf=2, min_samples_split=4, n_estimators=260; total time=   2.3s\n",
      "[CV] END criterion=entropy, max_depth=80, max_features=1, min_samples_leaf=2, min_samples_split=4, n_estimators=260; total time=   2.3s\n",
      "[CV] END criterion=entropy, max_depth=80, max_features=1, min_samples_leaf=2, min_samples_split=4, n_estimators=260; total time=   2.4s\n",
      "[CV] END criterion=entropy, max_depth=60, max_features=4, min_samples_leaf=2, min_samples_split=6, n_estimators=10; total time=   0.2s\n",
      "[CV] END criterion=entropy, max_depth=60, max_features=4, min_samples_leaf=2, min_samples_split=6, n_estimators=10; total time=   0.2s\n",
      "[CV] END criterion=entropy, max_depth=60, max_features=4, min_samples_leaf=2, min_samples_split=6, n_estimators=10; total time=   0.2s\n",
      "[CV] END criterion=entropy, max_depth=60, max_features=4, min_samples_leaf=2, min_samples_split=6, n_estimators=10; total time=   0.2s\n",
      "[CV] END criterion=entropy, max_depth=60, max_features=4, min_samples_leaf=2, min_samples_split=6, n_estimators=10; total time=   0.2s\n",
      "[CV] END criterion=entropy, max_depth=90, max_features=2, min_samples_leaf=2, min_samples_split=8, n_estimators=410; total time=   4.5s\n",
      "[CV] END criterion=entropy, max_depth=90, max_features=2, min_samples_leaf=2, min_samples_split=8, n_estimators=410; total time=   4.5s\n",
      "[CV] END criterion=entropy, max_depth=90, max_features=2, min_samples_leaf=2, min_samples_split=8, n_estimators=410; total time=   4.5s\n",
      "[CV] END criterion=entropy, max_depth=90, max_features=2, min_samples_leaf=2, min_samples_split=8, n_estimators=410; total time=   4.4s\n",
      "[CV] END criterion=entropy, max_depth=90, max_features=2, min_samples_leaf=2, min_samples_split=8, n_estimators=410; total time=   4.4s\n",
      "[CV] END criterion=entropy, max_depth=80, max_features=6, min_samples_leaf=1, min_samples_split=8, n_estimators=110; total time=   2.7s\n",
      "[CV] END criterion=entropy, max_depth=80, max_features=6, min_samples_leaf=1, min_samples_split=8, n_estimators=110; total time=   2.8s\n",
      "[CV] END criterion=entropy, max_depth=80, max_features=6, min_samples_leaf=1, min_samples_split=8, n_estimators=110; total time=   2.7s\n",
      "[CV] END criterion=entropy, max_depth=80, max_features=6, min_samples_leaf=1, min_samples_split=8, n_estimators=110; total time=   2.8s\n",
      "[CV] END criterion=entropy, max_depth=80, max_features=6, min_samples_leaf=1, min_samples_split=8, n_estimators=110; total time=   2.7s\n",
      "[CV] END criterion=entropy, max_depth=90, max_features=1, min_samples_leaf=3, min_samples_split=2, n_estimators=460; total time=   3.4s\n",
      "[CV] END criterion=entropy, max_depth=90, max_features=1, min_samples_leaf=3, min_samples_split=2, n_estimators=460; total time=   3.4s\n",
      "[CV] END criterion=entropy, max_depth=90, max_features=1, min_samples_leaf=3, min_samples_split=2, n_estimators=460; total time=   3.4s\n",
      "[CV] END criterion=entropy, max_depth=90, max_features=1, min_samples_leaf=3, min_samples_split=2, n_estimators=460; total time=   3.5s\n",
      "[CV] END criterion=entropy, max_depth=90, max_features=1, min_samples_leaf=3, min_samples_split=2, n_estimators=460; total time=   3.4s\n",
      "[CV] END criterion=gini, max_depth=90, max_features=5, min_samples_leaf=2, min_samples_split=2, n_estimators=260; total time=   4.9s\n",
      "[CV] END criterion=gini, max_depth=90, max_features=5, min_samples_leaf=2, min_samples_split=2, n_estimators=260; total time=   4.9s\n",
      "[CV] END criterion=gini, max_depth=90, max_features=5, min_samples_leaf=2, min_samples_split=2, n_estimators=260; total time=   4.9s\n",
      "[CV] END criterion=gini, max_depth=90, max_features=5, min_samples_leaf=2, min_samples_split=2, n_estimators=260; total time=   4.9s\n",
      "[CV] END criterion=gini, max_depth=90, max_features=5, min_samples_leaf=2, min_samples_split=2, n_estimators=260; total time=   4.9s\n",
      "[CV] END criterion=entropy, max_depth=50, max_features=2, min_samples_leaf=3, min_samples_split=4, n_estimators=60; total time=   0.6s\n",
      "[CV] END criterion=entropy, max_depth=50, max_features=2, min_samples_leaf=3, min_samples_split=4, n_estimators=60; total time=   0.6s\n",
      "[CV] END criterion=entropy, max_depth=50, max_features=2, min_samples_leaf=3, min_samples_split=4, n_estimators=60; total time=   0.6s\n",
      "[CV] END criterion=entropy, max_depth=50, max_features=2, min_samples_leaf=3, min_samples_split=4, n_estimators=60; total time=   0.6s\n",
      "[CV] END criterion=entropy, max_depth=50, max_features=2, min_samples_leaf=3, min_samples_split=4, n_estimators=60; total time=   0.6s\n",
      "[CV] END criterion=entropy, max_depth=90, max_features=3, min_samples_leaf=1, min_samples_split=4, n_estimators=360; total time=   6.5s\n",
      "[CV] END criterion=entropy, max_depth=90, max_features=3, min_samples_leaf=1, min_samples_split=4, n_estimators=360; total time=   6.4s\n",
      "[CV] END criterion=entropy, max_depth=90, max_features=3, min_samples_leaf=1, min_samples_split=4, n_estimators=360; total time=   6.4s\n",
      "[CV] END criterion=entropy, max_depth=90, max_features=3, min_samples_leaf=1, min_samples_split=4, n_estimators=360; total time=   6.5s\n",
      "[CV] END criterion=entropy, max_depth=90, max_features=3, min_samples_leaf=1, min_samples_split=4, n_estimators=360; total time=   6.5s\n",
      "[CV] END criterion=entropy, max_depth=30, max_features=1, min_samples_leaf=2, min_samples_split=6, n_estimators=10; total time=   0.1s\n",
      "[CV] END criterion=entropy, max_depth=30, max_features=1, min_samples_leaf=2, min_samples_split=6, n_estimators=10; total time=   0.1s\n",
      "[CV] END criterion=entropy, max_depth=30, max_features=1, min_samples_leaf=2, min_samples_split=6, n_estimators=10; total time=   0.1s\n",
      "[CV] END criterion=entropy, max_depth=30, max_features=1, min_samples_leaf=2, min_samples_split=6, n_estimators=10; total time=   0.1s\n",
      "[CV] END criterion=entropy, max_depth=30, max_features=1, min_samples_leaf=2, min_samples_split=6, n_estimators=10; total time=   0.1s\n",
      "[CV] END criterion=entropy, max_depth=60, max_features=5, min_samples_leaf=3, min_samples_split=6, n_estimators=160; total time=   3.1s\n",
      "[CV] END criterion=entropy, max_depth=60, max_features=5, min_samples_leaf=3, min_samples_split=6, n_estimators=160; total time=   3.0s\n",
      "[CV] END criterion=entropy, max_depth=60, max_features=5, min_samples_leaf=3, min_samples_split=6, n_estimators=160; total time=   3.1s\n",
      "[CV] END criterion=entropy, max_depth=60, max_features=5, min_samples_leaf=3, min_samples_split=6, n_estimators=160; total time=   3.1s\n",
      "[CV] END criterion=entropy, max_depth=60, max_features=5, min_samples_leaf=3, min_samples_split=6, n_estimators=160; total time=   3.1s\n",
      "[CV] END criterion=gini, max_depth=80, max_features=3, min_samples_leaf=2, min_samples_split=8, n_estimators=260; total time=   3.3s\n",
      "[CV] END criterion=gini, max_depth=80, max_features=3, min_samples_leaf=2, min_samples_split=8, n_estimators=260; total time=   3.3s\n",
      "[CV] END criterion=gini, max_depth=80, max_features=3, min_samples_leaf=2, min_samples_split=8, n_estimators=260; total time=   3.6s\n",
      "[CV] END criterion=gini, max_depth=80, max_features=3, min_samples_leaf=2, min_samples_split=8, n_estimators=260; total time=   3.3s\n",
      "[CV] END criterion=gini, max_depth=80, max_features=3, min_samples_leaf=2, min_samples_split=8, n_estimators=260; total time=   3.3s\n",
      "[CV] END criterion=gini, max_depth=40, max_features=3, min_samples_leaf=2, min_samples_split=6, n_estimators=410; total time=   5.3s\n",
      "[CV] END criterion=gini, max_depth=40, max_features=3, min_samples_leaf=2, min_samples_split=6, n_estimators=410; total time=   5.3s\n",
      "[CV] END criterion=gini, max_depth=40, max_features=3, min_samples_leaf=2, min_samples_split=6, n_estimators=410; total time=   5.3s\n",
      "[CV] END criterion=gini, max_depth=40, max_features=3, min_samples_leaf=2, min_samples_split=6, n_estimators=410; total time=   5.3s\n",
      "[CV] END criterion=gini, max_depth=40, max_features=3, min_samples_leaf=2, min_samples_split=6, n_estimators=410; total time=   5.3s\n",
      "[CV] END criterion=gini, max_depth=40, max_features=4, min_samples_leaf=3, min_samples_split=8, n_estimators=60; total time=   0.9s\n"
     ]
    },
    {
     "name": "stdout",
     "output_type": "stream",
     "text": [
      "[CV] END criterion=gini, max_depth=40, max_features=4, min_samples_leaf=3, min_samples_split=8, n_estimators=60; total time=   0.9s\n",
      "[CV] END criterion=gini, max_depth=40, max_features=4, min_samples_leaf=3, min_samples_split=8, n_estimators=60; total time=   0.9s\n",
      "[CV] END criterion=gini, max_depth=40, max_features=4, min_samples_leaf=3, min_samples_split=8, n_estimators=60; total time=   0.9s\n",
      "[CV] END criterion=gini, max_depth=40, max_features=4, min_samples_leaf=3, min_samples_split=8, n_estimators=60; total time=   0.9s\n",
      "[CV] END criterion=gini, max_depth=30, max_features=1, min_samples_leaf=2, min_samples_split=2, n_estimators=160; total time=   1.3s\n",
      "[CV] END criterion=gini, max_depth=30, max_features=1, min_samples_leaf=2, min_samples_split=2, n_estimators=160; total time=   1.3s\n",
      "[CV] END criterion=gini, max_depth=30, max_features=1, min_samples_leaf=2, min_samples_split=2, n_estimators=160; total time=   1.3s\n",
      "[CV] END criterion=gini, max_depth=30, max_features=1, min_samples_leaf=2, min_samples_split=2, n_estimators=160; total time=   1.3s\n",
      "[CV] END criterion=gini, max_depth=30, max_features=1, min_samples_leaf=2, min_samples_split=2, n_estimators=160; total time=   1.3s\n",
      "[CV] END criterion=entropy, max_depth=50, max_features=6, min_samples_leaf=3, min_samples_split=2, n_estimators=410; total time=   9.1s\n",
      "[CV] END criterion=entropy, max_depth=50, max_features=6, min_samples_leaf=3, min_samples_split=2, n_estimators=410; total time=   9.1s\n",
      "[CV] END criterion=entropy, max_depth=50, max_features=6, min_samples_leaf=3, min_samples_split=2, n_estimators=410; total time=   9.1s\n",
      "[CV] END criterion=entropy, max_depth=50, max_features=6, min_samples_leaf=3, min_samples_split=2, n_estimators=410; total time=   9.1s\n",
      "[CV] END criterion=entropy, max_depth=50, max_features=6, min_samples_leaf=3, min_samples_split=2, n_estimators=410; total time=   9.1s\n",
      "[CV] END criterion=entropy, max_depth=10, max_features=1, min_samples_leaf=3, min_samples_split=6, n_estimators=460; total time=   2.2s\n",
      "[CV] END criterion=entropy, max_depth=10, max_features=1, min_samples_leaf=3, min_samples_split=6, n_estimators=460; total time=   2.2s\n",
      "[CV] END criterion=entropy, max_depth=10, max_features=1, min_samples_leaf=3, min_samples_split=6, n_estimators=460; total time=   2.3s\n",
      "[CV] END criterion=entropy, max_depth=10, max_features=1, min_samples_leaf=3, min_samples_split=6, n_estimators=460; total time=   2.1s\n",
      "[CV] END criterion=entropy, max_depth=10, max_features=1, min_samples_leaf=3, min_samples_split=6, n_estimators=460; total time=   2.2s\n",
      "[CV] END criterion=gini, max_depth=70, max_features=2, min_samples_leaf=3, min_samples_split=4, n_estimators=160; total time=   1.5s\n",
      "[CV] END criterion=gini, max_depth=70, max_features=2, min_samples_leaf=3, min_samples_split=4, n_estimators=160; total time=   1.5s\n",
      "[CV] END criterion=gini, max_depth=70, max_features=2, min_samples_leaf=3, min_samples_split=4, n_estimators=160; total time=   1.5s\n",
      "[CV] END criterion=gini, max_depth=70, max_features=2, min_samples_leaf=3, min_samples_split=4, n_estimators=160; total time=   1.5s\n",
      "[CV] END criterion=gini, max_depth=70, max_features=2, min_samples_leaf=3, min_samples_split=4, n_estimators=160; total time=   1.5s\n",
      "[CV] END criterion=entropy, max_depth=20, max_features=6, min_samples_leaf=2, min_samples_split=8, n_estimators=460; total time=   9.8s\n",
      "[CV] END criterion=entropy, max_depth=20, max_features=6, min_samples_leaf=2, min_samples_split=8, n_estimators=460; total time=   9.7s\n",
      "[CV] END criterion=entropy, max_depth=20, max_features=6, min_samples_leaf=2, min_samples_split=8, n_estimators=460; total time=   9.7s\n",
      "[CV] END criterion=entropy, max_depth=20, max_features=6, min_samples_leaf=2, min_samples_split=8, n_estimators=460; total time=   9.8s\n",
      "[CV] END criterion=entropy, max_depth=20, max_features=6, min_samples_leaf=2, min_samples_split=8, n_estimators=460; total time=   9.8s\n",
      "[CV] END criterion=entropy, max_depth=70, max_features=3, min_samples_leaf=3, min_samples_split=6, n_estimators=10; total time=   0.1s\n",
      "[CV] END criterion=entropy, max_depth=70, max_features=3, min_samples_leaf=3, min_samples_split=6, n_estimators=10; total time=   0.1s\n",
      "[CV] END criterion=entropy, max_depth=70, max_features=3, min_samples_leaf=3, min_samples_split=6, n_estimators=10; total time=   0.1s\n",
      "[CV] END criterion=entropy, max_depth=70, max_features=3, min_samples_leaf=3, min_samples_split=6, n_estimators=10; total time=   0.1s\n",
      "[CV] END criterion=entropy, max_depth=70, max_features=3, min_samples_leaf=3, min_samples_split=6, n_estimators=10; total time=   0.1s\n",
      "[CV] END criterion=entropy, max_depth=90, max_features=2, min_samples_leaf=3, min_samples_split=6, n_estimators=460; total time=   4.5s\n",
      "[CV] END criterion=entropy, max_depth=90, max_features=2, min_samples_leaf=3, min_samples_split=6, n_estimators=460; total time=   4.5s\n",
      "[CV] END criterion=entropy, max_depth=90, max_features=2, min_samples_leaf=3, min_samples_split=6, n_estimators=460; total time=   4.5s\n",
      "[CV] END criterion=entropy, max_depth=90, max_features=2, min_samples_leaf=3, min_samples_split=6, n_estimators=460; total time=   4.5s\n",
      "[CV] END criterion=entropy, max_depth=90, max_features=2, min_samples_leaf=3, min_samples_split=6, n_estimators=460; total time=   4.5s\n",
      "[CV] END criterion=entropy, max_depth=10, max_features=2, min_samples_leaf=2, min_samples_split=8, n_estimators=360; total time=   2.3s\n",
      "[CV] END criterion=entropy, max_depth=10, max_features=2, min_samples_leaf=2, min_samples_split=8, n_estimators=360; total time=   2.3s\n",
      "[CV] END criterion=entropy, max_depth=10, max_features=2, min_samples_leaf=2, min_samples_split=8, n_estimators=360; total time=   2.3s\n",
      "[CV] END criterion=entropy, max_depth=10, max_features=2, min_samples_leaf=2, min_samples_split=8, n_estimators=360; total time=   2.3s\n",
      "[CV] END criterion=entropy, max_depth=10, max_features=2, min_samples_leaf=2, min_samples_split=8, n_estimators=360; total time=   2.3s\n",
      "[CV] END criterion=entropy, max_depth=30, max_features=6, min_samples_leaf=1, min_samples_split=6, n_estimators=360; total time=   9.2s\n",
      "[CV] END criterion=entropy, max_depth=30, max_features=6, min_samples_leaf=1, min_samples_split=6, n_estimators=360; total time=   9.0s\n",
      "[CV] END criterion=entropy, max_depth=30, max_features=6, min_samples_leaf=1, min_samples_split=6, n_estimators=360; total time=   9.1s\n",
      "[CV] END criterion=entropy, max_depth=30, max_features=6, min_samples_leaf=1, min_samples_split=6, n_estimators=360; total time=   9.1s\n",
      "[CV] END criterion=entropy, max_depth=30, max_features=6, min_samples_leaf=1, min_samples_split=6, n_estimators=360; total time=   9.0s\n",
      "[CV] END criterion=gini, max_depth=50, max_features=4, min_samples_leaf=3, min_samples_split=6, n_estimators=210; total time=   3.1s\n",
      "[CV] END criterion=gini, max_depth=50, max_features=4, min_samples_leaf=3, min_samples_split=6, n_estimators=210; total time=   3.1s\n",
      "[CV] END criterion=gini, max_depth=50, max_features=4, min_samples_leaf=3, min_samples_split=6, n_estimators=210; total time=   3.1s\n",
      "[CV] END criterion=gini, max_depth=50, max_features=4, min_samples_leaf=3, min_samples_split=6, n_estimators=210; total time=   3.1s\n",
      "[CV] END criterion=gini, max_depth=50, max_features=4, min_samples_leaf=3, min_samples_split=6, n_estimators=210; total time=   3.1s\n",
      "[CV] END criterion=gini, max_depth=70, max_features=4, min_samples_leaf=3, min_samples_split=2, n_estimators=110; total time=   1.6s\n",
      "[CV] END criterion=gini, max_depth=70, max_features=4, min_samples_leaf=3, min_samples_split=2, n_estimators=110; total time=   1.6s\n",
      "[CV] END criterion=gini, max_depth=70, max_features=4, min_samples_leaf=3, min_samples_split=2, n_estimators=110; total time=   1.6s\n",
      "[CV] END criterion=gini, max_depth=70, max_features=4, min_samples_leaf=3, min_samples_split=2, n_estimators=110; total time=   1.6s\n",
      "[CV] END criterion=gini, max_depth=70, max_features=4, min_samples_leaf=3, min_samples_split=2, n_estimators=110; total time=   1.6s\n",
      "[CV] END criterion=entropy, max_depth=50, max_features=3, min_samples_leaf=1, min_samples_split=2, n_estimators=10; total time=   0.2s\n",
      "[CV] END criterion=entropy, max_depth=50, max_features=3, min_samples_leaf=1, min_samples_split=2, n_estimators=10; total time=   0.2s\n",
      "[CV] END criterion=entropy, max_depth=50, max_features=3, min_samples_leaf=1, min_samples_split=2, n_estimators=10; total time=   0.2s\n"
     ]
    },
    {
     "name": "stdout",
     "output_type": "stream",
     "text": [
      "[CV] END criterion=entropy, max_depth=50, max_features=3, min_samples_leaf=1, min_samples_split=2, n_estimators=10; total time=   0.2s\n",
      "[CV] END criterion=entropy, max_depth=50, max_features=3, min_samples_leaf=1, min_samples_split=2, n_estimators=10; total time=   0.2s\n",
      "[CV] END criterion=entropy, max_depth=80, max_features=5, min_samples_leaf=1, min_samples_split=4, n_estimators=310; total time=   7.3s\n",
      "[CV] END criterion=entropy, max_depth=80, max_features=5, min_samples_leaf=1, min_samples_split=4, n_estimators=310; total time=   7.3s\n",
      "[CV] END criterion=entropy, max_depth=80, max_features=5, min_samples_leaf=1, min_samples_split=4, n_estimators=310; total time=   7.3s\n",
      "[CV] END criterion=entropy, max_depth=80, max_features=5, min_samples_leaf=1, min_samples_split=4, n_estimators=310; total time=   7.3s\n",
      "[CV] END criterion=entropy, max_depth=80, max_features=5, min_samples_leaf=1, min_samples_split=4, n_estimators=310; total time=   7.2s\n",
      "[CV] END criterion=entropy, max_depth=50, max_features=2, min_samples_leaf=1, min_samples_split=4, n_estimators=360; total time=   5.5s\n",
      "[CV] END criterion=entropy, max_depth=50, max_features=2, min_samples_leaf=1, min_samples_split=4, n_estimators=360; total time=   5.5s\n",
      "[CV] END criterion=entropy, max_depth=50, max_features=2, min_samples_leaf=1, min_samples_split=4, n_estimators=360; total time=   5.5s\n",
      "[CV] END criterion=entropy, max_depth=50, max_features=2, min_samples_leaf=1, min_samples_split=4, n_estimators=360; total time=   5.6s\n",
      "[CV] END criterion=entropy, max_depth=50, max_features=2, min_samples_leaf=1, min_samples_split=4, n_estimators=360; total time=   5.5s\n",
      "[CV] END criterion=gini, max_depth=50, max_features=1, min_samples_leaf=1, min_samples_split=2, n_estimators=60; total time=   0.8s\n",
      "[CV] END criterion=gini, max_depth=50, max_features=1, min_samples_leaf=1, min_samples_split=2, n_estimators=60; total time=   0.8s\n",
      "[CV] END criterion=gini, max_depth=50, max_features=1, min_samples_leaf=1, min_samples_split=2, n_estimators=60; total time=   0.8s\n",
      "[CV] END criterion=gini, max_depth=50, max_features=1, min_samples_leaf=1, min_samples_split=2, n_estimators=60; total time=   0.8s\n",
      "[CV] END criterion=gini, max_depth=50, max_features=1, min_samples_leaf=1, min_samples_split=2, n_estimators=60; total time=   0.8s\n",
      "[CV] END criterion=entropy, max_depth=None, max_features=3, min_samples_leaf=1, min_samples_split=8, n_estimators=60; total time=   1.0s\n",
      "[CV] END criterion=entropy, max_depth=None, max_features=3, min_samples_leaf=1, min_samples_split=8, n_estimators=60; total time=   1.0s\n",
      "[CV] END criterion=entropy, max_depth=None, max_features=3, min_samples_leaf=1, min_samples_split=8, n_estimators=60; total time=   1.0s\n",
      "[CV] END criterion=entropy, max_depth=None, max_features=3, min_samples_leaf=1, min_samples_split=8, n_estimators=60; total time=   1.0s\n",
      "[CV] END criterion=entropy, max_depth=None, max_features=3, min_samples_leaf=1, min_samples_split=8, n_estimators=60; total time=   1.0s\n",
      "[CV] END criterion=gini, max_depth=80, max_features=1, min_samples_leaf=2, min_samples_split=8, n_estimators=10; total time=   0.1s\n",
      "[CV] END criterion=gini, max_depth=80, max_features=1, min_samples_leaf=2, min_samples_split=8, n_estimators=10; total time=   0.1s\n",
      "[CV] END criterion=gini, max_depth=80, max_features=1, min_samples_leaf=2, min_samples_split=8, n_estimators=10; total time=   0.1s\n",
      "[CV] END criterion=gini, max_depth=80, max_features=1, min_samples_leaf=2, min_samples_split=8, n_estimators=10; total time=   0.1s\n",
      "[CV] END criterion=gini, max_depth=80, max_features=1, min_samples_leaf=2, min_samples_split=8, n_estimators=10; total time=   0.1s\n",
      "[CV] END criterion=gini, max_depth=None, max_features=4, min_samples_leaf=3, min_samples_split=8, n_estimators=410; total time=   6.0s\n",
      "[CV] END criterion=gini, max_depth=None, max_features=4, min_samples_leaf=3, min_samples_split=8, n_estimators=410; total time=   6.0s\n",
      "[CV] END criterion=gini, max_depth=None, max_features=4, min_samples_leaf=3, min_samples_split=8, n_estimators=410; total time=   6.0s\n",
      "[CV] END criterion=gini, max_depth=None, max_features=4, min_samples_leaf=3, min_samples_split=8, n_estimators=410; total time=   6.0s\n",
      "[CV] END criterion=gini, max_depth=None, max_features=4, min_samples_leaf=3, min_samples_split=8, n_estimators=410; total time=   6.0s\n",
      "[CV] END criterion=gini, max_depth=30, max_features=1, min_samples_leaf=3, min_samples_split=8, n_estimators=60; total time=   0.4s\n",
      "[CV] END criterion=gini, max_depth=30, max_features=1, min_samples_leaf=3, min_samples_split=8, n_estimators=60; total time=   0.4s\n",
      "[CV] END criterion=gini, max_depth=30, max_features=1, min_samples_leaf=3, min_samples_split=8, n_estimators=60; total time=   0.4s\n",
      "[CV] END criterion=gini, max_depth=30, max_features=1, min_samples_leaf=3, min_samples_split=8, n_estimators=60; total time=   0.4s\n",
      "[CV] END criterion=gini, max_depth=30, max_features=1, min_samples_leaf=3, min_samples_split=8, n_estimators=60; total time=   0.4s\n",
      "[CV] END criterion=gini, max_depth=20, max_features=5, min_samples_leaf=1, min_samples_split=8, n_estimators=210; total time=   3.8s\n",
      "[CV] END criterion=gini, max_depth=20, max_features=5, min_samples_leaf=1, min_samples_split=8, n_estimators=210; total time=   3.7s\n",
      "[CV] END criterion=gini, max_depth=20, max_features=5, min_samples_leaf=1, min_samples_split=8, n_estimators=210; total time=   3.8s\n",
      "[CV] END criterion=gini, max_depth=20, max_features=5, min_samples_leaf=1, min_samples_split=8, n_estimators=210; total time=   3.8s\n",
      "[CV] END criterion=gini, max_depth=20, max_features=5, min_samples_leaf=1, min_samples_split=8, n_estimators=210; total time=   3.7s\n",
      "[CV] END criterion=gini, max_depth=60, max_features=2, min_samples_leaf=2, min_samples_split=8, n_estimators=110; total time=   1.1s\n",
      "[CV] END criterion=gini, max_depth=60, max_features=2, min_samples_leaf=2, min_samples_split=8, n_estimators=110; total time=   1.1s\n",
      "[CV] END criterion=gini, max_depth=60, max_features=2, min_samples_leaf=2, min_samples_split=8, n_estimators=110; total time=   1.1s\n",
      "[CV] END criterion=gini, max_depth=60, max_features=2, min_samples_leaf=2, min_samples_split=8, n_estimators=110; total time=   1.1s\n",
      "[CV] END criterion=gini, max_depth=60, max_features=2, min_samples_leaf=2, min_samples_split=8, n_estimators=110; total time=   1.2s\n",
      "[CV] END criterion=gini, max_depth=60, max_features=2, min_samples_leaf=2, min_samples_split=2, n_estimators=410; total time=   4.3s\n",
      "[CV] END criterion=gini, max_depth=60, max_features=2, min_samples_leaf=2, min_samples_split=2, n_estimators=410; total time=   4.3s\n",
      "[CV] END criterion=gini, max_depth=60, max_features=2, min_samples_leaf=2, min_samples_split=2, n_estimators=410; total time=   4.3s\n",
      "[CV] END criterion=gini, max_depth=60, max_features=2, min_samples_leaf=2, min_samples_split=2, n_estimators=410; total time=   4.3s\n",
      "[CV] END criterion=gini, max_depth=60, max_features=2, min_samples_leaf=2, min_samples_split=2, n_estimators=410; total time=   4.3s\n",
      "[CV] END criterion=gini, max_depth=30, max_features=1, min_samples_leaf=1, min_samples_split=2, n_estimators=60; total time=   0.7s\n",
      "[CV] END criterion=gini, max_depth=30, max_features=1, min_samples_leaf=1, min_samples_split=2, n_estimators=60; total time=   0.7s\n",
      "[CV] END criterion=gini, max_depth=30, max_features=1, min_samples_leaf=1, min_samples_split=2, n_estimators=60; total time=   0.7s\n",
      "[CV] END criterion=gini, max_depth=30, max_features=1, min_samples_leaf=1, min_samples_split=2, n_estimators=60; total time=   0.8s\n",
      "[CV] END criterion=gini, max_depth=30, max_features=1, min_samples_leaf=1, min_samples_split=2, n_estimators=60; total time=   0.7s\n",
      "[CV] END criterion=gini, max_depth=80, max_features=3, min_samples_leaf=3, min_samples_split=4, n_estimators=110; total time=   1.3s\n",
      "[CV] END criterion=gini, max_depth=80, max_features=3, min_samples_leaf=3, min_samples_split=4, n_estimators=110; total time=   1.3s\n",
      "[CV] END criterion=gini, max_depth=80, max_features=3, min_samples_leaf=3, min_samples_split=4, n_estimators=110; total time=   1.3s\n",
      "[CV] END criterion=gini, max_depth=80, max_features=3, min_samples_leaf=3, min_samples_split=4, n_estimators=110; total time=   1.3s\n",
      "[CV] END criterion=gini, max_depth=80, max_features=3, min_samples_leaf=3, min_samples_split=4, n_estimators=110; total time=   1.3s\n"
     ]
    },
    {
     "name": "stdout",
     "output_type": "stream",
     "text": [
      "[CV] END criterion=gini, max_depth=50, max_features=6, min_samples_leaf=3, min_samples_split=4, n_estimators=60; total time=   1.2s\n",
      "[CV] END criterion=gini, max_depth=50, max_features=6, min_samples_leaf=3, min_samples_split=4, n_estimators=60; total time=   1.2s\n",
      "[CV] END criterion=gini, max_depth=50, max_features=6, min_samples_leaf=3, min_samples_split=4, n_estimators=60; total time=   1.2s\n",
      "[CV] END criterion=gini, max_depth=50, max_features=6, min_samples_leaf=3, min_samples_split=4, n_estimators=60; total time=   1.2s\n",
      "[CV] END criterion=gini, max_depth=50, max_features=6, min_samples_leaf=3, min_samples_split=4, n_estimators=60; total time=   1.2s\n",
      "[CV] END criterion=entropy, max_depth=30, max_features=3, min_samples_leaf=1, min_samples_split=6, n_estimators=160; total time=   2.7s\n",
      "[CV] END criterion=entropy, max_depth=30, max_features=3, min_samples_leaf=1, min_samples_split=6, n_estimators=160; total time=   2.7s\n",
      "[CV] END criterion=entropy, max_depth=30, max_features=3, min_samples_leaf=1, min_samples_split=6, n_estimators=160; total time=   2.7s\n",
      "[CV] END criterion=entropy, max_depth=30, max_features=3, min_samples_leaf=1, min_samples_split=6, n_estimators=160; total time=   2.7s\n",
      "[CV] END criterion=entropy, max_depth=30, max_features=3, min_samples_leaf=1, min_samples_split=6, n_estimators=160; total time=   2.7s\n",
      "[CV] END criterion=gini, max_depth=30, max_features=6, min_samples_leaf=1, min_samples_split=2, n_estimators=310; total time=   7.4s\n",
      "[CV] END criterion=gini, max_depth=30, max_features=6, min_samples_leaf=1, min_samples_split=2, n_estimators=310; total time=   7.4s\n",
      "[CV] END criterion=gini, max_depth=30, max_features=6, min_samples_leaf=1, min_samples_split=2, n_estimators=310; total time=   7.4s\n",
      "[CV] END criterion=gini, max_depth=30, max_features=6, min_samples_leaf=1, min_samples_split=2, n_estimators=310; total time=   7.5s\n",
      "[CV] END criterion=gini, max_depth=30, max_features=6, min_samples_leaf=1, min_samples_split=2, n_estimators=310; total time=   7.4s\n",
      "[CV] END criterion=entropy, max_depth=60, max_features=5, min_samples_leaf=3, min_samples_split=2, n_estimators=10; total time=   0.2s\n",
      "[CV] END criterion=entropy, max_depth=60, max_features=5, min_samples_leaf=3, min_samples_split=2, n_estimators=10; total time=   0.2s\n",
      "[CV] END criterion=entropy, max_depth=60, max_features=5, min_samples_leaf=3, min_samples_split=2, n_estimators=10; total time=   0.2s\n",
      "[CV] END criterion=entropy, max_depth=60, max_features=5, min_samples_leaf=3, min_samples_split=2, n_estimators=10; total time=   0.2s\n",
      "[CV] END criterion=entropy, max_depth=60, max_features=5, min_samples_leaf=3, min_samples_split=2, n_estimators=10; total time=   0.2s\n",
      "[CV] END criterion=entropy, max_depth=50, max_features=2, min_samples_leaf=1, min_samples_split=2, n_estimators=260; total time=   4.3s\n",
      "[CV] END criterion=entropy, max_depth=50, max_features=2, min_samples_leaf=1, min_samples_split=2, n_estimators=260; total time=   4.3s\n",
      "[CV] END criterion=entropy, max_depth=50, max_features=2, min_samples_leaf=1, min_samples_split=2, n_estimators=260; total time=   4.3s\n",
      "[CV] END criterion=entropy, max_depth=50, max_features=2, min_samples_leaf=1, min_samples_split=2, n_estimators=260; total time=   4.3s\n",
      "[CV] END criterion=entropy, max_depth=50, max_features=2, min_samples_leaf=1, min_samples_split=2, n_estimators=260; total time=   4.3s\n",
      "[CV] END criterion=gini, max_depth=None, max_features=1, min_samples_leaf=1, min_samples_split=6, n_estimators=160; total time=   1.8s\n",
      "[CV] END criterion=gini, max_depth=None, max_features=1, min_samples_leaf=1, min_samples_split=6, n_estimators=160; total time=   1.8s\n",
      "[CV] END criterion=gini, max_depth=None, max_features=1, min_samples_leaf=1, min_samples_split=6, n_estimators=160; total time=   1.8s\n",
      "[CV] END criterion=gini, max_depth=None, max_features=1, min_samples_leaf=1, min_samples_split=6, n_estimators=160; total time=   1.9s\n",
      "[CV] END criterion=gini, max_depth=None, max_features=1, min_samples_leaf=1, min_samples_split=6, n_estimators=160; total time=   1.8s\n",
      "[CV] END criterion=gini, max_depth=60, max_features=3, min_samples_leaf=2, min_samples_split=2, n_estimators=310; total time=   4.1s\n",
      "[CV] END criterion=gini, max_depth=60, max_features=3, min_samples_leaf=2, min_samples_split=2, n_estimators=310; total time=   4.1s\n",
      "[CV] END criterion=gini, max_depth=60, max_features=3, min_samples_leaf=2, min_samples_split=2, n_estimators=310; total time=   4.1s\n",
      "[CV] END criterion=gini, max_depth=60, max_features=3, min_samples_leaf=2, min_samples_split=2, n_estimators=310; total time=   4.1s\n",
      "[CV] END criterion=gini, max_depth=60, max_features=3, min_samples_leaf=2, min_samples_split=2, n_estimators=310; total time=   4.1s\n",
      "[CV] END criterion=gini, max_depth=10, max_features=3, min_samples_leaf=3, min_samples_split=2, n_estimators=60; total time=   0.5s\n",
      "[CV] END criterion=gini, max_depth=10, max_features=3, min_samples_leaf=3, min_samples_split=2, n_estimators=60; total time=   0.5s\n",
      "[CV] END criterion=gini, max_depth=10, max_features=3, min_samples_leaf=3, min_samples_split=2, n_estimators=60; total time=   0.5s\n",
      "[CV] END criterion=gini, max_depth=10, max_features=3, min_samples_leaf=3, min_samples_split=2, n_estimators=60; total time=   0.5s\n",
      "[CV] END criterion=gini, max_depth=10, max_features=3, min_samples_leaf=3, min_samples_split=2, n_estimators=60; total time=   0.5s\n",
      "[CV] END criterion=gini, max_depth=90, max_features=1, min_samples_leaf=1, min_samples_split=8, n_estimators=260; total time=   2.9s\n",
      "[CV] END criterion=gini, max_depth=90, max_features=1, min_samples_leaf=1, min_samples_split=8, n_estimators=260; total time=   2.9s\n",
      "[CV] END criterion=gini, max_depth=90, max_features=1, min_samples_leaf=1, min_samples_split=8, n_estimators=260; total time=   2.9s\n",
      "[CV] END criterion=gini, max_depth=90, max_features=1, min_samples_leaf=1, min_samples_split=8, n_estimators=260; total time=   2.9s\n",
      "[CV] END criterion=gini, max_depth=90, max_features=1, min_samples_leaf=1, min_samples_split=8, n_estimators=260; total time=   2.8s\n",
      "[CV] END criterion=gini, max_depth=30, max_features=3, min_samples_leaf=3, min_samples_split=8, n_estimators=60; total time=   0.7s\n",
      "[CV] END criterion=gini, max_depth=30, max_features=3, min_samples_leaf=3, min_samples_split=8, n_estimators=60; total time=   0.7s\n",
      "[CV] END criterion=gini, max_depth=30, max_features=3, min_samples_leaf=3, min_samples_split=8, n_estimators=60; total time=   0.7s\n",
      "[CV] END criterion=gini, max_depth=30, max_features=3, min_samples_leaf=3, min_samples_split=8, n_estimators=60; total time=   0.7s\n",
      "[CV] END criterion=gini, max_depth=30, max_features=3, min_samples_leaf=3, min_samples_split=8, n_estimators=60; total time=   0.7s\n",
      "[CV] END criterion=gini, max_depth=70, max_features=1, min_samples_leaf=3, min_samples_split=6, n_estimators=60; total time=   0.4s\n",
      "[CV] END criterion=gini, max_depth=70, max_features=1, min_samples_leaf=3, min_samples_split=6, n_estimators=60; total time=   0.4s\n",
      "[CV] END criterion=gini, max_depth=70, max_features=1, min_samples_leaf=3, min_samples_split=6, n_estimators=60; total time=   0.4s\n",
      "[CV] END criterion=gini, max_depth=70, max_features=1, min_samples_leaf=3, min_samples_split=6, n_estimators=60; total time=   0.4s\n",
      "[CV] END criterion=gini, max_depth=70, max_features=1, min_samples_leaf=3, min_samples_split=6, n_estimators=60; total time=   0.4s\n",
      "[CV] END criterion=gini, max_depth=40, max_features=1, min_samples_leaf=3, min_samples_split=8, n_estimators=310; total time=   2.2s\n",
      "[CV] END criterion=gini, max_depth=40, max_features=1, min_samples_leaf=3, min_samples_split=8, n_estimators=310; total time=   2.2s\n",
      "[CV] END criterion=gini, max_depth=40, max_features=1, min_samples_leaf=3, min_samples_split=8, n_estimators=310; total time=   2.2s\n",
      "[CV] END criterion=gini, max_depth=40, max_features=1, min_samples_leaf=3, min_samples_split=8, n_estimators=310; total time=   2.2s\n",
      "[CV] END criterion=gini, max_depth=40, max_features=1, min_samples_leaf=3, min_samples_split=8, n_estimators=310; total time=   2.2s\n",
      "[CV] END criterion=entropy, max_depth=80, max_features=5, min_samples_leaf=1, min_samples_split=4, n_estimators=310; total time=   7.3s\n",
      "[CV] END criterion=entropy, max_depth=80, max_features=5, min_samples_leaf=1, min_samples_split=4, n_estimators=310; total time=   7.3s\n"
     ]
    },
    {
     "name": "stdout",
     "output_type": "stream",
     "text": [
      "[CV] END criterion=entropy, max_depth=80, max_features=5, min_samples_leaf=1, min_samples_split=4, n_estimators=310; total time=   7.3s\n",
      "[CV] END criterion=entropy, max_depth=80, max_features=5, min_samples_leaf=1, min_samples_split=4, n_estimators=310; total time=   7.3s\n",
      "[CV] END criterion=entropy, max_depth=80, max_features=5, min_samples_leaf=1, min_samples_split=4, n_estimators=310; total time=   7.3s\n",
      "Best parameters found:  {'criterion': 'entropy', 'max_depth': 80, 'max_features': 5, 'min_samples_leaf': 1, 'min_samples_split': 4, 'n_estimators': 310}\n"
     ]
    }
   ],
   "source": [
    "# Initialize the classifier\n",
    "rf = RandomForestClassifier(random_state=55)\n",
    "\n",
    "# Define the parameter space\n",
    "param_distributions = {\n",
    "    'max_depth':list(np.arange(10, 100, step=10)) + [None],\n",
    "    'n_estimators':np.arange(10, 500, step=50),\n",
    "    'max_features':randint(1,7),\n",
    "    'criterion':['gini','entropy'],\n",
    "    'min_samples_leaf':randint(1,4),\n",
    "    'min_samples_split':np.arange(2, 10, step=2)\n",
    "}\n",
    "\n",
    "# Set up the random search with cross-validation\n",
    "random_search = RandomizedSearchCV(rf, param_distributions=param_distributions, \n",
    "                                   n_iter=50, cv=5, verbose=2, random_state=55)\n",
    "\n",
    "# Fit the random search model\n",
    "random_search.fit(X_train, y_train)\n",
    "\n",
    "# Best parameters\n",
    "print(\"Best parameters found: \", random_search.best_params_)\n",
    "\n",
    "# Use the best estimator to make predictions\n",
    "best_rf = random_search.best_estimator_\n",
    "y_pred = best_rf.predict(X_test)"
   ]
  },
  {
   "cell_type": "markdown",
   "id": "48bfa8cc",
   "metadata": {},
   "source": [
    "Best parameters found:  {'criterion': 'entropy', 'max_depth': 80, 'max_features': 5, 'min_samples_leaf': 1, 'min_samples_split': 4, 'n_estimators': 310}"
   ]
  },
  {
   "cell_type": "markdown",
   "id": "ebb383ad",
   "metadata": {},
   "source": [
    "##### Check model accuracy with the best parameters"
   ]
  },
  {
   "cell_type": "code",
   "execution_count": 53,
   "id": "154e8c24",
   "metadata": {},
   "outputs": [
    {
     "name": "stdout",
     "output_type": "stream",
     "text": [
      "Accuracy: 0.5236654158092241\n"
     ]
    }
   ],
   "source": [
    "accuracy = best_rf.score(X_test, y_test)\n",
    "print(f\"Accuracy: {accuracy}\")"
   ]
  },
  {
   "cell_type": "markdown",
   "id": "75a02ff8",
   "metadata": {},
   "source": [
    "##### Perform a grid search"
   ]
  },
  {
   "cell_type": "code",
   "execution_count": 28,
   "id": "0806e11c",
   "metadata": {
    "scrolled": true
   },
   "outputs": [
    {
     "name": "stdout",
     "output_type": "stream",
     "text": [
      "Best parameters found:  {'criterion': 'entropy', 'max_depth': 70, 'max_features': 5, 'min_samples_split': 4, 'n_estimators': 290}\n",
      "Best score is: 0.7135979689813252\n"
     ]
    }
   ],
   "source": [
    "# Initialize the classifier\n",
    "rf = RandomForestClassifier(random_state=55)\n",
    "\n",
    "# Define the parameter grid\n",
    "param_grid = {\n",
    "    'criterion': ['entropy'],  # No change needed as it's categorical\n",
    "    'max_depth': [70, 80, 90],\n",
    "    'max_features': [4, 5, 6],\n",
    "    'min_samples_split': [3, 4, 5],\n",
    "    'n_estimators': [290, 310, 330]\n",
    "}\n",
    "\n",
    "# Set up the grid search\n",
    "grid_search = GridSearchCV(estimator=rf, param_grid=param_grid, cv=5, scoring='accuracy')\n",
    "\n",
    "# Fit the grid search to the data\n",
    "grid_search.fit(X_train, y_train)\n",
    "\n",
    "# Best parameters and score\n",
    "print(\"Best parameters found: \", grid_search.best_params_)\n",
    "print(\"Best score is: \"+str(grid_search.best_score_))\n",
    "\n",
    "# Use the best estimator to make predictions\n",
    "best_rf = grid_search.best_estimator_\n",
    "y_pred = best_rf.predict(X_test)"
   ]
  },
  {
   "cell_type": "markdown",
   "id": "68f3fb33",
   "metadata": {},
   "source": [
    "Best parameters found:  \n",
    "- 'criterion': 'entropy'\n",
    "- 'max_depth': 70\n",
    "- 'max_features': 5\n",
    "- 'min_samples_split': 4\n",
    "- 'n_estimators': 290"
   ]
  },
  {
   "cell_type": "markdown",
   "id": "369e890b",
   "metadata": {},
   "source": [
    "##### Random Forest Model with new parameters"
   ]
  },
  {
   "cell_type": "code",
   "execution_count": 35,
   "id": "7a7bfad6",
   "metadata": {
    "scrolled": false
   },
   "outputs": [
    {
     "name": "stdout",
     "output_type": "stream",
     "text": [
      "Train score: 0.9991223025937471\n",
      "Test score: 0.5235443650889723\n"
     ]
    }
   ],
   "source": [
    "params = {\n",
    "    'criterion': 'entropy',\n",
    "    'max_depth': 70,  \n",
    "    'max_features': 5,  \n",
    "    'min_samples_split': 4,  \n",
    "    'n_estimators': 290  \n",
    "}\n",
    "\n",
    "# Initialize the RandomForestClassifier with these parameters\n",
    "rf_model = RandomForestClassifier(**params, random_state=55)\n",
    "\n",
    "# Fit the model to your training data (assuming you have X_train and y_train)\n",
    "rf_model.fit(X_train, y_train)\n",
    "\n",
    "# Use rf_model to make predictions \n",
    "y_pred = rf_model.predict(X_test)\n",
    "\n",
    "print(f'Train score: {rf_model.score(X_train, y_train)}')\n",
    "print(f'Test score: {rf_model.score(X_test, y_test)}')"
   ]
  },
  {
   "cell_type": "markdown",
   "id": "11e07ef1",
   "metadata": {},
   "source": [
    "##### Classification Report & Confusion Matrix"
   ]
  },
  {
   "cell_type": "code",
   "execution_count": 36,
   "id": "6a614843",
   "metadata": {
    "scrolled": false
   },
   "outputs": [
    {
     "name": "stdout",
     "output_type": "stream",
     "text": [
      "              precision    recall  f1-score   support\n",
      "\n",
      "           0       0.71      0.01      0.03      3968\n",
      "           1       0.52      0.99      0.68      4293\n",
      "\n",
      "    accuracy                           0.52      8261\n",
      "   macro avg       0.62      0.50      0.36      8261\n",
      "weighted avg       0.61      0.52      0.37      8261\n",
      "\n"
     ]
    },
    {
     "data": {
      "image/png": "[encoded data removed]",
      "text/plain": [
       "<Figure size 1000x500 with 2 Axes>"
      ]
     },
     "metadata": {},
     "output_type": "display_data"
    }
   ],
   "source": [
    "# Classification report\n",
    "print(classification_report(y_test, y_pred))\n",
    "\n",
    "# Generate the confusion matrix\n",
    "conf_matrix = confusion_matrix(y_test, y_pred)\n",
    "\n",
    "# Confusion matrix heatmap\n",
    "plt.figure(figsize=(10, 5))\n",
    "sns.heatmap(conf_matrix, annot=True, fmt='g', cmap='Blues') \n",
    "plt.title('Confusion Matrix')\n",
    "plt.xlabel('Predicted')\n",
    "plt.ylabel('Actual')\n",
    "plt.show()"
   ]
  },
  {
   "cell_type": "markdown",
   "id": "6db978ae",
   "metadata": {},
   "source": [
    "##### Feature importance"
   ]
  },
  {
   "cell_type": "code",
   "execution_count": 41,
   "id": "d3b85150",
   "metadata": {},
   "outputs": [
    {
     "name": "stdout",
     "output_type": "stream",
     "text": [
      "Feature Importances: [0.14213935 0.13242361 0.12558194 0.10819597 0.07616188 0.02643049\n",
      " 0.1122876  0.01272878 0.01087062 0.0132024  0.00824118 0.00958079\n",
      " 0.01028406 0.01222163 0.00545296 0.00624254 0.01100734 0.01415404\n",
      " 0.01012358 0.0093543  0.00376903 0.01151264 0.00760693 0.00747006\n",
      " 0.00623425 0.01207971 0.00509909 0.01321768 0.00375301 0.00804221\n",
      " 0.01289445 0.00916618 0.00538987 0.00571606 0.00579329 0.00721224\n",
      " 0.00557982 0.01277842]\n"
     ]
    }
   ],
   "source": [
    "feature_importances = rf_model.feature_importances_\n",
    "print(\"Feature Importances:\", feature_importances)"
   ]
  },
  {
   "cell_type": "code",
   "execution_count": 42,
   "id": "ee396fe2",
   "metadata": {
    "scrolled": false
   },
   "outputs": [
    {
     "data": {
      "image/png": "[encoded data removed]",
      "text/plain": [
       "<Figure size 1000x600 with 1 Axes>"
      ]
     },
     "metadata": {},
     "output_type": "display_data"
    }
   ],
   "source": [
    "feature_names = X_train.columns if hasattr(X_train, 'columns') else np.arange(X_train.shape[1])\n",
    "\n",
    "# Sorting the features with their importance\n",
    "sorted_idx = np.argsort(feature_importances)[-20:]  # Get indices of top 20 features\n",
    "sorted_importances = feature_importances[sorted_idx]\n",
    "sorted_features = [feature_names[i] for i in sorted_idx]\n",
    "\n",
    "# Creating the plot\n",
    "plt.figure(figsize=(10, 6))\n",
    "plt.barh(sorted_features, sorted_importances)\n",
    "plt.xlabel(\"Feature Importance\")\n",
    "plt.ylabel(\"Feature\")\n",
    "plt.title(\"Top 20 Features in RandomForest Model\")\n",
    "plt.show()"
   ]
  },
  {
   "cell_type": "markdown",
   "id": "db5f4701",
   "metadata": {},
   "source": [
    "<a id = 'summary'></a>\n",
    "## Summary & Insights\n"
   ]
  },
  {
   "cell_type": "markdown",
   "id": "febb903f",
   "metadata": {},
   "source": [
    "[Back to the top](#title)"
   ]
  }
 ],
 "metadata": {
  "kernelspec": {
   "display_name": "Python 3 (ipykernel)",
   "language": "python",
   "name": "python3"
  },
  "language_info": {
   "codemirror_mode": {
    "name": "ipython",
    "version": 3
   },
   "file_extension": ".py",
   "mimetype": "text/x-python",
   "name": "python",
   "nbconvert_exporter": "python",
   "pygments_lexer": "ipython3",
   "version": "3.11.5"
  }
 },
 "nbformat": 4,
 "nbformat_minor": 5
}
