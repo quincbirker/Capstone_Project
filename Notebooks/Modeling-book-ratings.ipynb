{
 "cells": [
  {
   "cell_type": "code",
   "execution_count": 1,
   "id": "aafa0859",
   "metadata": {},
   "outputs": [],
   "source": [
    "# import libraries:\n",
    "import pandas as pd\n",
    "import numpy as np\n",
    "import matplotlib.pyplot as plt\n",
    "import seaborn as sns\n",
    "import plotly.express as px"
   ]
  },
  {
   "cell_type": "code",
   "execution_count": 11,
   "id": "c9d85491",
   "metadata": {},
   "outputs": [],
   "source": [
    "# Read in the training dataset\n",
    "X_train = pd.read_csv('data/X_train_df_final.csv', index_col=0)\n",
    "y_train = pd.read_csv('data/y_train.csv', index_col=0)\n",
    "\n",
    "# Read in the testing dataset\n",
    "X_test = pd.read_csv('data/X_test_df_final.csv', index_col=0)\n",
    "y_test = pd.read_csv('data/y_test.csv', index_col=0)"
   ]
  },
  {
   "cell_type": "markdown",
   "id": "c73dc4f0",
   "metadata": {},
   "source": [
    "##### Sanity check training dataset"
   ]
  },
  {
   "cell_type": "code",
   "execution_count": 7,
   "id": "e6fe03d0",
   "metadata": {
    "scrolled": false
   },
   "outputs": [
    {
     "data": {
      "text/html": [
       "<div>\n",
       "<style scoped>\n",
       "    .dataframe tbody tr th:only-of-type {\n",
       "        vertical-align: middle;\n",
       "    }\n",
       "\n",
       "    .dataframe tbody tr th {\n",
       "        vertical-align: top;\n",
       "    }\n",
       "\n",
       "    .dataframe thead th {\n",
       "        text-align: right;\n",
       "    }\n",
       "</style>\n",
       "<table border=\"1\" class=\"dataframe\">\n",
       "  <thead>\n",
       "    <tr style=\"text-align: right;\">\n",
       "      <th></th>\n",
       "      <th>pages</th>\n",
       "      <th>numRatings</th>\n",
       "      <th>bbeScore</th>\n",
       "      <th>year</th>\n",
       "      <th>month</th>\n",
       "      <th>series_bool</th>\n",
       "      <th>genre_count</th>\n",
       "      <th>Adult</th>\n",
       "      <th>Adventure</th>\n",
       "      <th>Audiobook</th>\n",
       "      <th>...</th>\n",
       "      <th>Other</th>\n",
       "      <th>Paranormal</th>\n",
       "      <th>Romance</th>\n",
       "      <th>Science Fiction</th>\n",
       "      <th>Science Fiction Fantasy</th>\n",
       "      <th>Supernatural</th>\n",
       "      <th>Suspense</th>\n",
       "      <th>Thriller</th>\n",
       "      <th>Urban Fantasy</th>\n",
       "      <th>Young Adult</th>\n",
       "    </tr>\n",
       "  </thead>\n",
       "  <tbody>\n",
       "    <tr>\n",
       "      <th>35783</th>\n",
       "      <td>22.0</td>\n",
       "      <td>666</td>\n",
       "      <td>89</td>\n",
       "      <td>1974</td>\n",
       "      <td>1</td>\n",
       "      <td>0</td>\n",
       "      <td>52</td>\n",
       "      <td>0</td>\n",
       "      <td>0</td>\n",
       "      <td>0</td>\n",
       "      <td>...</td>\n",
       "      <td>1</td>\n",
       "      <td>0</td>\n",
       "      <td>0</td>\n",
       "      <td>0</td>\n",
       "      <td>0</td>\n",
       "      <td>0</td>\n",
       "      <td>0</td>\n",
       "      <td>0</td>\n",
       "      <td>0</td>\n",
       "      <td>0</td>\n",
       "    </tr>\n",
       "    <tr>\n",
       "      <th>39773</th>\n",
       "      <td>176.0</td>\n",
       "      <td>161</td>\n",
       "      <td>83</td>\n",
       "      <td>1983</td>\n",
       "      <td>1</td>\n",
       "      <td>0</td>\n",
       "      <td>95</td>\n",
       "      <td>0</td>\n",
       "      <td>0</td>\n",
       "      <td>0</td>\n",
       "      <td>...</td>\n",
       "      <td>1</td>\n",
       "      <td>0</td>\n",
       "      <td>0</td>\n",
       "      <td>0</td>\n",
       "      <td>0</td>\n",
       "      <td>0</td>\n",
       "      <td>0</td>\n",
       "      <td>0</td>\n",
       "      <td>0</td>\n",
       "      <td>0</td>\n",
       "    </tr>\n",
       "    <tr>\n",
       "      <th>51074</th>\n",
       "      <td>339.0</td>\n",
       "      <td>2535</td>\n",
       "      <td>24</td>\n",
       "      <td>2014</td>\n",
       "      <td>5</td>\n",
       "      <td>1</td>\n",
       "      <td>171</td>\n",
       "      <td>0</td>\n",
       "      <td>0</td>\n",
       "      <td>0</td>\n",
       "      <td>...</td>\n",
       "      <td>1</td>\n",
       "      <td>0</td>\n",
       "      <td>1</td>\n",
       "      <td>0</td>\n",
       "      <td>0</td>\n",
       "      <td>0</td>\n",
       "      <td>0</td>\n",
       "      <td>0</td>\n",
       "      <td>0</td>\n",
       "      <td>1</td>\n",
       "    </tr>\n",
       "    <tr>\n",
       "      <th>7233</th>\n",
       "      <td>201.0</td>\n",
       "      <td>17367</td>\n",
       "      <td>370</td>\n",
       "      <td>2009</td>\n",
       "      <td>7</td>\n",
       "      <td>0</td>\n",
       "      <td>139</td>\n",
       "      <td>0</td>\n",
       "      <td>0</td>\n",
       "      <td>0</td>\n",
       "      <td>...</td>\n",
       "      <td>1</td>\n",
       "      <td>0</td>\n",
       "      <td>0</td>\n",
       "      <td>1</td>\n",
       "      <td>0</td>\n",
       "      <td>0</td>\n",
       "      <td>0</td>\n",
       "      <td>0</td>\n",
       "      <td>0</td>\n",
       "      <td>0</td>\n",
       "    </tr>\n",
       "    <tr>\n",
       "      <th>6868</th>\n",
       "      <td>224.0</td>\n",
       "      <td>94434</td>\n",
       "      <td>389</td>\n",
       "      <td>2016</td>\n",
       "      <td>11</td>\n",
       "      <td>0</td>\n",
       "      <td>125</td>\n",
       "      <td>1</td>\n",
       "      <td>0</td>\n",
       "      <td>1</td>\n",
       "      <td>...</td>\n",
       "      <td>1</td>\n",
       "      <td>0</td>\n",
       "      <td>0</td>\n",
       "      <td>0</td>\n",
       "      <td>0</td>\n",
       "      <td>0</td>\n",
       "      <td>0</td>\n",
       "      <td>0</td>\n",
       "      <td>0</td>\n",
       "      <td>0</td>\n",
       "    </tr>\n",
       "  </tbody>\n",
       "</table>\n",
       "<p>5 rows × 38 columns</p>\n",
       "</div>"
      ],
      "text/plain": [
       "       pages  numRatings  bbeScore  year  month  series_bool  genre_count  \\\n",
       "35783   22.0         666        89  1974      1            0           52   \n",
       "39773  176.0         161        83  1983      1            0           95   \n",
       "51074  339.0        2535        24  2014      5            1          171   \n",
       "7233   201.0       17367       370  2009      7            0          139   \n",
       "6868   224.0       94434       389  2016     11            0          125   \n",
       "\n",
       "       Adult  Adventure  Audiobook  ...  Other  Paranormal  Romance  \\\n",
       "35783      0          0          0  ...      1           0        0   \n",
       "39773      0          0          0  ...      1           0        0   \n",
       "51074      0          0          0  ...      1           0        1   \n",
       "7233       0          0          0  ...      1           0        0   \n",
       "6868       1          0          1  ...      1           0        0   \n",
       "\n",
       "       Science Fiction  Science Fiction Fantasy  Supernatural  Suspense  \\\n",
       "35783                0                        0             0         0   \n",
       "39773                0                        0             0         0   \n",
       "51074                0                        0             0         0   \n",
       "7233                 1                        0             0         0   \n",
       "6868                 0                        0             0         0   \n",
       "\n",
       "       Thriller  Urban Fantasy  Young Adult  \n",
       "35783         0              0            0  \n",
       "39773         0              0            0  \n",
       "51074         0              0            1  \n",
       "7233          0              0            0  \n",
       "6868          0              0            0  \n",
       "\n",
       "[5 rows x 38 columns]"
      ]
     },
     "execution_count": 7,
     "metadata": {},
     "output_type": "execute_result"
    }
   ],
   "source": [
    "X_train.head()"
   ]
  },
  {
   "cell_type": "code",
   "execution_count": 9,
   "id": "2b7368af",
   "metadata": {
    "scrolled": false
   },
   "outputs": [
    {
     "data": {
      "text/plain": [
       "(33041, 38)"
      ]
     },
     "execution_count": 9,
     "metadata": {},
     "output_type": "execute_result"
    }
   ],
   "source": [
    "X_train.shape"
   ]
  },
  {
   "cell_type": "code",
   "execution_count": 12,
   "id": "534797ea",
   "metadata": {},
   "outputs": [
    {
     "data": {
      "text/html": [
       "<div>\n",
       "<style scoped>\n",
       "    .dataframe tbody tr th:only-of-type {\n",
       "        vertical-align: middle;\n",
       "    }\n",
       "\n",
       "    .dataframe tbody tr th {\n",
       "        vertical-align: top;\n",
       "    }\n",
       "\n",
       "    .dataframe thead th {\n",
       "        text-align: right;\n",
       "    }\n",
       "</style>\n",
       "<table border=\"1\" class=\"dataframe\">\n",
       "  <thead>\n",
       "    <tr style=\"text-align: right;\">\n",
       "      <th></th>\n",
       "      <th>rating</th>\n",
       "    </tr>\n",
       "  </thead>\n",
       "  <tbody>\n",
       "    <tr>\n",
       "      <th>35783</th>\n",
       "      <td>1</td>\n",
       "    </tr>\n",
       "    <tr>\n",
       "      <th>39773</th>\n",
       "      <td>0</td>\n",
       "    </tr>\n",
       "    <tr>\n",
       "      <th>51074</th>\n",
       "      <td>0</td>\n",
       "    </tr>\n",
       "    <tr>\n",
       "      <th>7233</th>\n",
       "      <td>1</td>\n",
       "    </tr>\n",
       "    <tr>\n",
       "      <th>6868</th>\n",
       "      <td>0</td>\n",
       "    </tr>\n",
       "  </tbody>\n",
       "</table>\n",
       "</div>"
      ],
      "text/plain": [
       "       rating\n",
       "35783       1\n",
       "39773       0\n",
       "51074       0\n",
       "7233        1\n",
       "6868        0"
      ]
     },
     "execution_count": 12,
     "metadata": {},
     "output_type": "execute_result"
    }
   ],
   "source": [
    "y_train.head()"
   ]
  },
  {
   "cell_type": "code",
   "execution_count": 13,
   "id": "2ad8aebe",
   "metadata": {},
   "outputs": [
    {
     "data": {
      "text/plain": [
       "(33041, 1)"
      ]
     },
     "execution_count": 13,
     "metadata": {},
     "output_type": "execute_result"
    }
   ],
   "source": [
    "y_train.shape"
   ]
  },
  {
   "cell_type": "markdown",
   "id": "97305ed4",
   "metadata": {},
   "source": [
    "##### Sanity check testing dataset"
   ]
  },
  {
   "cell_type": "code",
   "execution_count": 14,
   "id": "aa25df00",
   "metadata": {},
   "outputs": [
    {
     "data": {
      "text/html": [
       "<div>\n",
       "<style scoped>\n",
       "    .dataframe tbody tr th:only-of-type {\n",
       "        vertical-align: middle;\n",
       "    }\n",
       "\n",
       "    .dataframe tbody tr th {\n",
       "        vertical-align: top;\n",
       "    }\n",
       "\n",
       "    .dataframe thead th {\n",
       "        text-align: right;\n",
       "    }\n",
       "</style>\n",
       "<table border=\"1\" class=\"dataframe\">\n",
       "  <thead>\n",
       "    <tr style=\"text-align: right;\">\n",
       "      <th></th>\n",
       "      <th>pages</th>\n",
       "      <th>numRatings</th>\n",
       "      <th>bbeScore</th>\n",
       "      <th>year</th>\n",
       "      <th>month</th>\n",
       "      <th>series_bool</th>\n",
       "      <th>genre_count</th>\n",
       "      <th>Adult</th>\n",
       "      <th>Adventure</th>\n",
       "      <th>Audiobook</th>\n",
       "      <th>...</th>\n",
       "      <th>Other</th>\n",
       "      <th>Paranormal</th>\n",
       "      <th>Romance</th>\n",
       "      <th>Science Fiction</th>\n",
       "      <th>Science Fiction Fantasy</th>\n",
       "      <th>Supernatural</th>\n",
       "      <th>Suspense</th>\n",
       "      <th>Thriller</th>\n",
       "      <th>Urban Fantasy</th>\n",
       "      <th>Young Adult</th>\n",
       "    </tr>\n",
       "  </thead>\n",
       "  <tbody>\n",
       "    <tr>\n",
       "      <th>33489</th>\n",
       "      <td>346.0</td>\n",
       "      <td>1864</td>\n",
       "      <td>92</td>\n",
       "      <td>2015</td>\n",
       "      <td>9</td>\n",
       "      <td>1</td>\n",
       "      <td>147</td>\n",
       "      <td>0</td>\n",
       "      <td>0</td>\n",
       "      <td>0</td>\n",
       "      <td>...</td>\n",
       "      <td>1</td>\n",
       "      <td>0</td>\n",
       "      <td>0</td>\n",
       "      <td>0</td>\n",
       "      <td>0</td>\n",
       "      <td>0</td>\n",
       "      <td>0</td>\n",
       "      <td>0</td>\n",
       "      <td>0</td>\n",
       "      <td>0</td>\n",
       "    </tr>\n",
       "    <tr>\n",
       "      <th>12086</th>\n",
       "      <td>160.0</td>\n",
       "      <td>12646</td>\n",
       "      <td>194</td>\n",
       "      <td>2002</td>\n",
       "      <td>1</td>\n",
       "      <td>1</td>\n",
       "      <td>140</td>\n",
       "      <td>0</td>\n",
       "      <td>0</td>\n",
       "      <td>0</td>\n",
       "      <td>...</td>\n",
       "      <td>1</td>\n",
       "      <td>0</td>\n",
       "      <td>0</td>\n",
       "      <td>0</td>\n",
       "      <td>0</td>\n",
       "      <td>0</td>\n",
       "      <td>0</td>\n",
       "      <td>0</td>\n",
       "      <td>0</td>\n",
       "      <td>0</td>\n",
       "    </tr>\n",
       "    <tr>\n",
       "      <th>8714</th>\n",
       "      <td>513.0</td>\n",
       "      <td>62049</td>\n",
       "      <td>289</td>\n",
       "      <td>2019</td>\n",
       "      <td>9</td>\n",
       "      <td>1</td>\n",
       "      <td>131</td>\n",
       "      <td>0</td>\n",
       "      <td>0</td>\n",
       "      <td>0</td>\n",
       "      <td>...</td>\n",
       "      <td>1</td>\n",
       "      <td>0</td>\n",
       "      <td>0</td>\n",
       "      <td>0</td>\n",
       "      <td>0</td>\n",
       "      <td>0</td>\n",
       "      <td>0</td>\n",
       "      <td>0</td>\n",
       "      <td>0</td>\n",
       "      <td>0</td>\n",
       "    </tr>\n",
       "    <tr>\n",
       "      <th>36527</th>\n",
       "      <td>432.0</td>\n",
       "      <td>3347</td>\n",
       "      <td>88</td>\n",
       "      <td>2012</td>\n",
       "      <td>3</td>\n",
       "      <td>0</td>\n",
       "      <td>127</td>\n",
       "      <td>0</td>\n",
       "      <td>0</td>\n",
       "      <td>0</td>\n",
       "      <td>...</td>\n",
       "      <td>1</td>\n",
       "      <td>0</td>\n",
       "      <td>0</td>\n",
       "      <td>0</td>\n",
       "      <td>0</td>\n",
       "      <td>0</td>\n",
       "      <td>0</td>\n",
       "      <td>0</td>\n",
       "      <td>0</td>\n",
       "      <td>0</td>\n",
       "    </tr>\n",
       "    <tr>\n",
       "      <th>12745</th>\n",
       "      <td>345.0</td>\n",
       "      <td>115</td>\n",
       "      <td>190</td>\n",
       "      <td>2014</td>\n",
       "      <td>6</td>\n",
       "      <td>1</td>\n",
       "      <td>65</td>\n",
       "      <td>0</td>\n",
       "      <td>0</td>\n",
       "      <td>0</td>\n",
       "      <td>...</td>\n",
       "      <td>1</td>\n",
       "      <td>0</td>\n",
       "      <td>0</td>\n",
       "      <td>0</td>\n",
       "      <td>0</td>\n",
       "      <td>0</td>\n",
       "      <td>0</td>\n",
       "      <td>0</td>\n",
       "      <td>0</td>\n",
       "      <td>0</td>\n",
       "    </tr>\n",
       "  </tbody>\n",
       "</table>\n",
       "<p>5 rows × 38 columns</p>\n",
       "</div>"
      ],
      "text/plain": [
       "       pages  numRatings  bbeScore  year  month  series_bool  genre_count  \\\n",
       "33489  346.0        1864        92  2015      9            1          147   \n",
       "12086  160.0       12646       194  2002      1            1          140   \n",
       "8714   513.0       62049       289  2019      9            1          131   \n",
       "36527  432.0        3347        88  2012      3            0          127   \n",
       "12745  345.0         115       190  2014      6            1           65   \n",
       "\n",
       "       Adult  Adventure  Audiobook  ...  Other  Paranormal  Romance  \\\n",
       "33489      0          0          0  ...      1           0        0   \n",
       "12086      0          0          0  ...      1           0        0   \n",
       "8714       0          0          0  ...      1           0        0   \n",
       "36527      0          0          0  ...      1           0        0   \n",
       "12745      0          0          0  ...      1           0        0   \n",
       "\n",
       "       Science Fiction  Science Fiction Fantasy  Supernatural  Suspense  \\\n",
       "33489                0                        0             0         0   \n",
       "12086                0                        0             0         0   \n",
       "8714                 0                        0             0         0   \n",
       "36527                0                        0             0         0   \n",
       "12745                0                        0             0         0   \n",
       "\n",
       "       Thriller  Urban Fantasy  Young Adult  \n",
       "33489         0              0            0  \n",
       "12086         0              0            0  \n",
       "8714          0              0            0  \n",
       "36527         0              0            0  \n",
       "12745         0              0            0  \n",
       "\n",
       "[5 rows x 38 columns]"
      ]
     },
     "execution_count": 14,
     "metadata": {},
     "output_type": "execute_result"
    }
   ],
   "source": [
    "X_test.head()"
   ]
  },
  {
   "cell_type": "code",
   "execution_count": 15,
   "id": "5dd0d236",
   "metadata": {},
   "outputs": [
    {
     "data": {
      "text/plain": [
       "(8261, 38)"
      ]
     },
     "execution_count": 15,
     "metadata": {},
     "output_type": "execute_result"
    }
   ],
   "source": [
    "X_test.shape"
   ]
  },
  {
   "cell_type": "code",
   "execution_count": 16,
   "id": "29323d76",
   "metadata": {},
   "outputs": [
    {
     "data": {
      "text/html": [
       "<div>\n",
       "<style scoped>\n",
       "    .dataframe tbody tr th:only-of-type {\n",
       "        vertical-align: middle;\n",
       "    }\n",
       "\n",
       "    .dataframe tbody tr th {\n",
       "        vertical-align: top;\n",
       "    }\n",
       "\n",
       "    .dataframe thead th {\n",
       "        text-align: right;\n",
       "    }\n",
       "</style>\n",
       "<table border=\"1\" class=\"dataframe\">\n",
       "  <thead>\n",
       "    <tr style=\"text-align: right;\">\n",
       "      <th></th>\n",
       "      <th>rating</th>\n",
       "    </tr>\n",
       "  </thead>\n",
       "  <tbody>\n",
       "    <tr>\n",
       "      <th>33489</th>\n",
       "      <td>1</td>\n",
       "    </tr>\n",
       "    <tr>\n",
       "      <th>12086</th>\n",
       "      <td>0</td>\n",
       "    </tr>\n",
       "    <tr>\n",
       "      <th>8714</th>\n",
       "      <td>1</td>\n",
       "    </tr>\n",
       "    <tr>\n",
       "      <th>36527</th>\n",
       "      <td>1</td>\n",
       "    </tr>\n",
       "    <tr>\n",
       "      <th>12745</th>\n",
       "      <td>0</td>\n",
       "    </tr>\n",
       "  </tbody>\n",
       "</table>\n",
       "</div>"
      ],
      "text/plain": [
       "       rating\n",
       "33489       1\n",
       "12086       0\n",
       "8714        1\n",
       "36527       1\n",
       "12745       0"
      ]
     },
     "execution_count": 16,
     "metadata": {},
     "output_type": "execute_result"
    }
   ],
   "source": [
    "y_test.head()"
   ]
  },
  {
   "cell_type": "code",
   "execution_count": 17,
   "id": "083b4d76",
   "metadata": {
    "scrolled": true
   },
   "outputs": [
    {
     "data": {
      "text/plain": [
       "(8261, 1)"
      ]
     },
     "execution_count": 17,
     "metadata": {},
     "output_type": "execute_result"
    }
   ],
   "source": [
    "y_test.shape"
   ]
  },
  {
   "cell_type": "markdown",
   "id": "808f3967",
   "metadata": {},
   "source": [
    "<a id = 'base_model'></a>\n",
    "## Baseline Modeling\n",
    "\n",
    "The baseline will be a logistic regression model. This will be used for future testing in how other models perform.\n",
    "\n",
    "The model will predict whether a book has a good rating (1) or a bad rating (0).<a id = 'base_model'></a>\n"
   ]
  },
  {
   "cell_type": "markdown",
   "id": "2be6570d",
   "metadata": {},
   "source": [
    "##### Scale the data\n",
    "\n",
    "Since the majority of columns are binary, only the non-binary columns will be scaled. \n",
    "First, seperate the binary from non-binary columns and then apply the standard scaler to only the non-binary columns. "
   ]
  },
  {
   "cell_type": "code",
   "execution_count": 21,
   "id": "738b65e7",
   "metadata": {
    "scrolled": true
   },
   "outputs": [],
   "source": [
    "from sklearn.preprocessing import StandardScaler\n",
    "\n",
    "# Identify non-binary columns\n",
    "# non_binary_cols = [col for col in X_train_df_final.columns if len(X_train_df_final[col].unique()) > 2]\n",
    "non_binary_cols = ['pages', 'numRatings', 'bbeScore', 'year', 'month']\n",
    "\n",
    "# Initialize the StandardScaler\n",
    "scaler = StandardScaler()\n",
    "\n",
    "# Scale only non-binary columns\n",
    "X_train_scaled = X_train.copy()\n",
    "X_test_scaled = X_test.copy()\n",
    "\n",
    "X_train_scaled[non_binary_cols] = scaler.fit_transform(X_train[non_binary_cols])\n",
    "X_test_scaled[non_binary_cols] = scaler.transform(X_test[non_binary_cols])"
   ]
  },
  {
   "cell_type": "code",
   "execution_count": 22,
   "id": "ae7e756f",
   "metadata": {},
   "outputs": [
    {
     "name": "stderr",
     "output_type": "stream",
     "text": [
      "/Users/quincibirker/anaconda3/lib/python3.11/site-packages/sklearn/utils/validation.py:1184: DataConversionWarning: A column-vector y was passed when a 1d array was expected. Please change the shape of y to (n_samples, ), for example using ravel().\n",
      "  y = column_or_1d(y, warn=True)\n"
     ]
    },
    {
     "name": "stdout",
     "output_type": "stream",
     "text": [
      "Train score: 0.6415665385430223\n",
      "Test score: 0.517491829076383\n"
     ]
    },
    {
     "name": "stderr",
     "output_type": "stream",
     "text": [
      "/Users/quincibirker/anaconda3/lib/python3.11/site-packages/sklearn/linear_model/_logistic.py:460: ConvergenceWarning: lbfgs failed to converge (status=1):\n",
      "STOP: TOTAL NO. of ITERATIONS REACHED LIMIT.\n",
      "\n",
      "Increase the number of iterations (max_iter) or scale the data as shown in:\n",
      "    https://scikit-learn.org/stable/modules/preprocessing.html\n",
      "Please also refer to the documentation for alternative solver options:\n",
      "    https://scikit-learn.org/stable/modules/linear_model.html#logistic-regression\n",
      "  n_iter_i = _check_optimize_result(\n"
     ]
    }
   ],
   "source": [
    "# Import logisitc regression\n",
    "from sklearn.linear_model import LogisticRegression\n",
    "\n",
    "# Instantiate and fit logisitc regression\n",
    "logreg = LogisticRegression()\n",
    "logreg.fit(X_train_scaled, y_train)\n",
    "\n",
    "# Train and test scores\n",
    "print(f'Train score: {logreg.score(X_train_scaled, y_train)}')\n",
    "print(f'Test score: {logreg.score(X_test_scaled, y_test)}')"
   ]
  },
  {
   "cell_type": "markdown",
   "id": "f764b131",
   "metadata": {},
   "source": [
    "The baseline logisitc regression has a train score of 64 percent and a test score of 52 percent. There seems to be overfitting and the overall test accuracy is not strong. This will still be used as a baseline and hopefully testing out different models will improve the prediction accuracy for the test set."
   ]
  },
  {
   "cell_type": "code",
   "execution_count": 26,
   "id": "f238b56f",
   "metadata": {},
   "outputs": [
    {
     "data": {
      "text/html": [
       "<div>\n",
       "<style scoped>\n",
       "    .dataframe tbody tr th:only-of-type {\n",
       "        vertical-align: middle;\n",
       "    }\n",
       "\n",
       "    .dataframe tbody tr th {\n",
       "        vertical-align: top;\n",
       "    }\n",
       "\n",
       "    .dataframe thead th {\n",
       "        text-align: right;\n",
       "    }\n",
       "</style>\n",
       "<table border=\"1\" class=\"dataframe\">\n",
       "  <thead>\n",
       "    <tr style=\"text-align: right;\">\n",
       "      <th></th>\n",
       "      <th>Feature</th>\n",
       "      <th>Coefficient</th>\n",
       "      <th>Odds_ratio</th>\n",
       "    </tr>\n",
       "  </thead>\n",
       "  <tbody>\n",
       "    <tr>\n",
       "      <th>5</th>\n",
       "      <td>series_bool</td>\n",
       "      <td>0.833176</td>\n",
       "      <td>2.300613</td>\n",
       "    </tr>\n",
       "    <tr>\n",
       "      <th>0</th>\n",
       "      <td>pages</td>\n",
       "      <td>0.489714</td>\n",
       "      <td>1.631849</td>\n",
       "    </tr>\n",
       "    <tr>\n",
       "      <th>11</th>\n",
       "      <td>Childrens</td>\n",
       "      <td>0.449391</td>\n",
       "      <td>1.567357</td>\n",
       "    </tr>\n",
       "    <tr>\n",
       "      <th>12</th>\n",
       "      <td>Classics</td>\n",
       "      <td>0.398184</td>\n",
       "      <td>1.489119</td>\n",
       "    </tr>\n",
       "    <tr>\n",
       "      <th>14</th>\n",
       "      <td>Contemporary Romance</td>\n",
       "      <td>0.301780</td>\n",
       "      <td>1.352264</td>\n",
       "    </tr>\n",
       "    <tr>\n",
       "      <th>34</th>\n",
       "      <td>Suspense</td>\n",
       "      <td>0.192391</td>\n",
       "      <td>1.212144</td>\n",
       "    </tr>\n",
       "    <tr>\n",
       "      <th>28</th>\n",
       "      <td>Other</td>\n",
       "      <td>0.185002</td>\n",
       "      <td>1.203220</td>\n",
       "    </tr>\n",
       "    <tr>\n",
       "      <th>1</th>\n",
       "      <td>numRatings</td>\n",
       "      <td>0.137388</td>\n",
       "      <td>1.147273</td>\n",
       "    </tr>\n",
       "    <tr>\n",
       "      <th>3</th>\n",
       "      <td>year</td>\n",
       "      <td>0.103011</td>\n",
       "      <td>1.108504</td>\n",
       "    </tr>\n",
       "    <tr>\n",
       "      <th>26</th>\n",
       "      <td>Nonfiction</td>\n",
       "      <td>0.057649</td>\n",
       "      <td>1.059343</td>\n",
       "    </tr>\n",
       "    <tr>\n",
       "      <th>4</th>\n",
       "      <td>month</td>\n",
       "      <td>0.024117</td>\n",
       "      <td>1.024410</td>\n",
       "    </tr>\n",
       "    <tr>\n",
       "      <th>8</th>\n",
       "      <td>Adventure</td>\n",
       "      <td>0.002983</td>\n",
       "      <td>1.002987</td>\n",
       "    </tr>\n",
       "    <tr>\n",
       "      <th>6</th>\n",
       "      <td>genre_count</td>\n",
       "      <td>-0.000268</td>\n",
       "      <td>0.999732</td>\n",
       "    </tr>\n",
       "    <tr>\n",
       "      <th>24</th>\n",
       "      <td>Middle Grade</td>\n",
       "      <td>-0.004176</td>\n",
       "      <td>0.995833</td>\n",
       "    </tr>\n",
       "    <tr>\n",
       "      <th>9</th>\n",
       "      <td>Audiobook</td>\n",
       "      <td>-0.032704</td>\n",
       "      <td>0.967825</td>\n",
       "    </tr>\n",
       "    <tr>\n",
       "      <th>2</th>\n",
       "      <td>bbeScore</td>\n",
       "      <td>-0.039091</td>\n",
       "      <td>0.961663</td>\n",
       "    </tr>\n",
       "    <tr>\n",
       "      <th>16</th>\n",
       "      <td>Fantasy</td>\n",
       "      <td>-0.048065</td>\n",
       "      <td>0.953072</td>\n",
       "    </tr>\n",
       "    <tr>\n",
       "      <th>20</th>\n",
       "      <td>History</td>\n",
       "      <td>-0.053992</td>\n",
       "      <td>0.947439</td>\n",
       "    </tr>\n",
       "    <tr>\n",
       "      <th>36</th>\n",
       "      <td>Urban Fantasy</td>\n",
       "      <td>-0.088320</td>\n",
       "      <td>0.915468</td>\n",
       "    </tr>\n",
       "    <tr>\n",
       "      <th>15</th>\n",
       "      <td>Crime</td>\n",
       "      <td>-0.104652</td>\n",
       "      <td>0.900638</td>\n",
       "    </tr>\n",
       "    <tr>\n",
       "      <th>23</th>\n",
       "      <td>Magic</td>\n",
       "      <td>-0.131183</td>\n",
       "      <td>0.877058</td>\n",
       "    </tr>\n",
       "    <tr>\n",
       "      <th>18</th>\n",
       "      <td>Historical</td>\n",
       "      <td>-0.144028</td>\n",
       "      <td>0.865864</td>\n",
       "    </tr>\n",
       "    <tr>\n",
       "      <th>30</th>\n",
       "      <td>Romance</td>\n",
       "      <td>-0.149821</td>\n",
       "      <td>0.860862</td>\n",
       "    </tr>\n",
       "    <tr>\n",
       "      <th>33</th>\n",
       "      <td>Supernatural</td>\n",
       "      <td>-0.159663</td>\n",
       "      <td>0.852431</td>\n",
       "    </tr>\n",
       "    <tr>\n",
       "      <th>21</th>\n",
       "      <td>Humor</td>\n",
       "      <td>-0.160885</td>\n",
       "      <td>0.851390</td>\n",
       "    </tr>\n",
       "    <tr>\n",
       "      <th>7</th>\n",
       "      <td>Adult</td>\n",
       "      <td>-0.180769</td>\n",
       "      <td>0.834628</td>\n",
       "    </tr>\n",
       "    <tr>\n",
       "      <th>29</th>\n",
       "      <td>Paranormal</td>\n",
       "      <td>-0.242949</td>\n",
       "      <td>0.784312</td>\n",
       "    </tr>\n",
       "    <tr>\n",
       "      <th>32</th>\n",
       "      <td>Science Fiction Fantasy</td>\n",
       "      <td>-0.255697</td>\n",
       "      <td>0.774377</td>\n",
       "    </tr>\n",
       "    <tr>\n",
       "      <th>17</th>\n",
       "      <td>Fiction</td>\n",
       "      <td>-0.292301</td>\n",
       "      <td>0.746544</td>\n",
       "    </tr>\n",
       "    <tr>\n",
       "      <th>19</th>\n",
       "      <td>Historical Fiction</td>\n",
       "      <td>-0.302840</td>\n",
       "      <td>0.738717</td>\n",
       "    </tr>\n",
       "    <tr>\n",
       "      <th>22</th>\n",
       "      <td>Literature</td>\n",
       "      <td>-0.314222</td>\n",
       "      <td>0.730357</td>\n",
       "    </tr>\n",
       "    <tr>\n",
       "      <th>13</th>\n",
       "      <td>Contemporary</td>\n",
       "      <td>-0.344241</td>\n",
       "      <td>0.708758</td>\n",
       "    </tr>\n",
       "    <tr>\n",
       "      <th>35</th>\n",
       "      <td>Thriller</td>\n",
       "      <td>-0.385717</td>\n",
       "      <td>0.679963</td>\n",
       "    </tr>\n",
       "    <tr>\n",
       "      <th>37</th>\n",
       "      <td>Young Adult</td>\n",
       "      <td>-0.404728</td>\n",
       "      <td>0.667158</td>\n",
       "    </tr>\n",
       "    <tr>\n",
       "      <th>31</th>\n",
       "      <td>Science Fiction</td>\n",
       "      <td>-0.485540</td>\n",
       "      <td>0.615365</td>\n",
       "    </tr>\n",
       "    <tr>\n",
       "      <th>27</th>\n",
       "      <td>Novels</td>\n",
       "      <td>-0.527145</td>\n",
       "      <td>0.590288</td>\n",
       "    </tr>\n",
       "    <tr>\n",
       "      <th>25</th>\n",
       "      <td>Mystery</td>\n",
       "      <td>-0.616354</td>\n",
       "      <td>0.539909</td>\n",
       "    </tr>\n",
       "    <tr>\n",
       "      <th>10</th>\n",
       "      <td>Chick Lit</td>\n",
       "      <td>-0.708878</td>\n",
       "      <td>0.492196</td>\n",
       "    </tr>\n",
       "  </tbody>\n",
       "</table>\n",
       "</div>"
      ],
      "text/plain": [
       "                    Feature  Coefficient  Odds_ratio\n",
       "5               series_bool     0.833176    2.300613\n",
       "0                     pages     0.489714    1.631849\n",
       "11                Childrens     0.449391    1.567357\n",
       "12                 Classics     0.398184    1.489119\n",
       "14     Contemporary Romance     0.301780    1.352264\n",
       "34                 Suspense     0.192391    1.212144\n",
       "28                    Other     0.185002    1.203220\n",
       "1                numRatings     0.137388    1.147273\n",
       "3                      year     0.103011    1.108504\n",
       "26               Nonfiction     0.057649    1.059343\n",
       "4                     month     0.024117    1.024410\n",
       "8                 Adventure     0.002983    1.002987\n",
       "6               genre_count    -0.000268    0.999732\n",
       "24             Middle Grade    -0.004176    0.995833\n",
       "9                 Audiobook    -0.032704    0.967825\n",
       "2                  bbeScore    -0.039091    0.961663\n",
       "16                  Fantasy    -0.048065    0.953072\n",
       "20                  History    -0.053992    0.947439\n",
       "36            Urban Fantasy    -0.088320    0.915468\n",
       "15                    Crime    -0.104652    0.900638\n",
       "23                    Magic    -0.131183    0.877058\n",
       "18               Historical    -0.144028    0.865864\n",
       "30                  Romance    -0.149821    0.860862\n",
       "33             Supernatural    -0.159663    0.852431\n",
       "21                    Humor    -0.160885    0.851390\n",
       "7                     Adult    -0.180769    0.834628\n",
       "29               Paranormal    -0.242949    0.784312\n",
       "32  Science Fiction Fantasy    -0.255697    0.774377\n",
       "17                  Fiction    -0.292301    0.746544\n",
       "19       Historical Fiction    -0.302840    0.738717\n",
       "22               Literature    -0.314222    0.730357\n",
       "13             Contemporary    -0.344241    0.708758\n",
       "35                 Thriller    -0.385717    0.679963\n",
       "37              Young Adult    -0.404728    0.667158\n",
       "31          Science Fiction    -0.485540    0.615365\n",
       "27                   Novels    -0.527145    0.590288\n",
       "25                  Mystery    -0.616354    0.539909\n",
       "10                Chick Lit    -0.708878    0.492196"
      ]
     },
     "execution_count": 26,
     "metadata": {},
     "output_type": "execute_result"
    }
   ],
   "source": [
    "# Extract the coefficients\n",
    "coefficients = logreg.coef_[0]\n",
    "\n",
    "# Calculate the odds ratios\n",
    "odds_ratio = np.exp(coefficients)\n",
    "\n",
    "# Get the feature names\n",
    "feature_names = X_train.columns\n",
    "\n",
    "# Create a DataFrame with feature names and their corresponding coefficients and odds ratios\n",
    "feature_coefficients = pd.DataFrame({\n",
    "    'Feature': feature_names,\n",
    "    'Coefficient': coefficients,\n",
    "    'Odds_ratio': odds_ratio\n",
    "})\n",
    "\n",
    "# Sort the coefficients from highest to lowest\n",
    "feature_coefficients = feature_coefficients.sort_values(by='Coefficient', ascending=False)\n",
    "\n",
    "# Display \n",
    "feature_coefficients"
   ]
  },
  {
   "cell_type": "markdown",
   "id": "718e68e2",
   "metadata": {},
   "source": [
    "Highest odds ratio:\n",
    "- The series columns has the highest coefficient of around 0.83. If the book is in a series, it has 2.3 times better odds to have a good review than if it's not in a series.\n",
    "- From the genres columns, Childrens, Classocs and Contemporary Romance have the highest odds ratios.\n",
    "\n",
    "Lowest odds ratio:\n",
    "- From the genres columns, Chick Lit has the highest negative correlation of around -0.71 and Mystery being second with around -0.62\n",
    "\n",
    "Notes:\n",
    "- In future, the genres could be filtered through a bit more. For example, in the top 30 genres, there is Historical, Historical Fiction, and History. These could be put into a single category to allow for other genres."
   ]
  },
  {
   "cell_type": "markdown",
   "id": "b37513cb",
   "metadata": {},
   "source": [
    "##### Confusion Matrix"
   ]
  },
  {
   "cell_type": "code",
   "execution_count": null,
   "id": "76ca750a",
   "metadata": {},
   "outputs": [],
   "source": []
  },
  {
   "cell_type": "code",
   "execution_count": null,
   "id": "7658d624",
   "metadata": {},
   "outputs": [],
   "source": []
  },
  {
   "cell_type": "markdown",
   "id": "c8243235",
   "metadata": {},
   "source": [
    "##### Model Summary\n",
    "\n",
    "|    | Model Type          | Train Accuracy | Test Accuracy | Parameters | Notes    |\n",
    "|----|---------------------|----------------|---------------|------------|----------|\n",
    "| 1. | Logistic Regression | 62 %           | 52 %          | None       | Baseline |"
   ]
  },
  {
   "cell_type": "markdown",
   "id": "5670650f",
   "metadata": {},
   "source": [
    "## Decision Tree Classifier"
   ]
  },
  {
   "cell_type": "markdown",
   "id": "d271c5b2",
   "metadata": {},
   "source": [
    "##### Baseline DTC Model"
   ]
  },
  {
   "cell_type": "code",
   "execution_count": 28,
   "id": "82691f1f",
   "metadata": {},
   "outputs": [
    {
     "name": "stdout",
     "output_type": "stream",
     "text": [
      "Train score: 1.0\n",
      "Test score: 0.5322600169471008\n"
     ]
    }
   ],
   "source": [
    "from sklearn.tree import DecisionTreeClassifier\n",
    "\n",
    "dtc = DecisionTreeClassifier()\n",
    "dtc.fit(X_train, y_train)\n",
    "\n",
    "print(f'Train score: {dtc.score(X_train, y_train)}')\n",
    "print(f'Test score: {dtc.score(X_test, y_test)}')"
   ]
  },
  {
   "cell_type": "markdown",
   "id": "997fd6eb",
   "metadata": {},
   "source": [
    "The baseline model is over fitting a lot, with a gap of almost 50 percent. The next step is to use hyper parameters to see if we can obtain a better test score."
   ]
  },
  {
   "cell_type": "markdown",
   "id": "324eb667",
   "metadata": {},
   "source": [
    "##### Model Summary\n",
    "\n",
    "|    | Model Type               | Train Accuracy | Test Accuracy | Parameters | Notes    |\n",
    "|----|--------------------------|----------------|---------------|------------|----------|\n",
    "| 1. | Logistic Regression      | 62 %           | 52 %          | None       | Baseline |\n",
    "| 2. | Decision Tree Classifier | 100 %          | 53 %          | None       | Baseline |"
   ]
  },
  {
   "cell_type": "code",
   "execution_count": null,
   "id": "ed195f9b",
   "metadata": {},
   "outputs": [],
   "source": []
  },
  {
   "cell_type": "code",
   "execution_count": null,
   "id": "c661a8c6",
   "metadata": {},
   "outputs": [],
   "source": []
  },
  {
   "cell_type": "code",
   "execution_count": null,
   "id": "5014a38b",
   "metadata": {},
   "outputs": [],
   "source": [
    "# Create a pipeline\n",
    "estimators = [ \n",
    "    ('PCA', PCA(n_components=20)),\n",
    "    ('dt_model', DecisionTreeClassifier())\n",
    "]\n",
    "\n",
    "pipe = Pipeline(estimators)"
   ]
  },
  {
   "cell_type": "code",
   "execution_count": null,
   "id": "78505461",
   "metadata": {},
   "outputs": [],
   "source": [
    "# Create parameters\n",
    "params = {'dt_model__max_depth': [3, 6, 9],\n",
    "          'dt_model__min_samples_leaf' : [3, 6, 9],\n",
    "          'dt_model__criterion': ['gini', 'entropy'],\n",
    "         }\n",
    "\n",
    "grid_search = GridSearchCV(pipe, param_grid=params, cv=5)"
   ]
  },
  {
   "cell_type": "code",
   "execution_count": null,
   "id": "49417052",
   "metadata": {},
   "outputs": [],
   "source": [
    "# Scoring the test set\n",
    "pipe.fit(X_train_df, y_train)\n",
    "\n",
    "print(f'Test score: {pipe.score(X_test_df, y_test)}')"
   ]
  },
  {
   "cell_type": "code",
   "execution_count": null,
   "id": "3523b485",
   "metadata": {},
   "outputs": [],
   "source": [
    "# Fit the pipeline with the best parameters on the entire training set\n",
    "grid = GridSearchCV(pipe, params, cv=5)\n",
    "\n",
    "fittedgrid = grid_search.fit(X_train_df, y_train)"
   ]
  },
  {
   "cell_type": "code",
   "execution_count": null,
   "id": "a1a203a3",
   "metadata": {},
   "outputs": [],
   "source": []
  },
  {
   "cell_type": "code",
   "execution_count": null,
   "id": "20dafed3",
   "metadata": {},
   "outputs": [],
   "source": []
  },
  {
   "cell_type": "code",
   "execution_count": null,
   "id": "71389e96",
   "metadata": {},
   "outputs": [],
   "source": []
  },
  {
   "cell_type": "markdown",
   "id": "85e1a8a9",
   "metadata": {},
   "source": [
    "## Random Forest"
   ]
  },
  {
   "cell_type": "markdown",
   "id": "a5ce30dd",
   "metadata": {},
   "source": [
    "##### Parameter Optimization"
   ]
  },
  {
   "cell_type": "markdown",
   "id": "83eb3a85",
   "metadata": {},
   "source": [
    "##### Confusion Matrix"
   ]
  },
  {
   "cell_type": "markdown",
   "id": "35d6cce8",
   "metadata": {},
   "source": [
    "##### Classification Report\n",
    "\n",
    "Precision\n",
    "\n",
    "Recall"
   ]
  },
  {
   "cell_type": "markdown",
   "id": "95c496fb",
   "metadata": {},
   "source": [
    "## XG Boost"
   ]
  },
  {
   "cell_type": "markdown",
   "id": "183a3539",
   "metadata": {},
   "source": [
    "##### Parameter Optimization"
   ]
  },
  {
   "cell_type": "markdown",
   "id": "55bd56a9",
   "metadata": {},
   "source": [
    "##### Confusion Matrix"
   ]
  },
  {
   "cell_type": "markdown",
   "id": "1e2fd686",
   "metadata": {},
   "source": [
    "##### Classification Report\n",
    "\n",
    "Precision\n",
    "\n",
    "Recall"
   ]
  },
  {
   "cell_type": "markdown",
   "id": "6f15c86e",
   "metadata": {},
   "source": [
    "## "
   ]
  },
  {
   "cell_type": "markdown",
   "id": "ef23699d",
   "metadata": {},
   "source": [
    "Actionable insights:\n",
    "- Which genres have highest coefficients? "
   ]
  },
  {
   "cell_type": "markdown",
   "id": "3b45e547",
   "metadata": {},
   "source": [
    "Future Ideas:\n",
    "- Count vectorizing the description - interesting key words\n",
    "    "
   ]
  },
  {
   "cell_type": "markdown",
   "id": "73a9b2b1",
   "metadata": {},
   "source": [
    "Other:\n",
    "- I"
   ]
  }
 ],
 "metadata": {
  "kernelspec": {
   "display_name": "Python 3 (ipykernel)",
   "language": "python",
   "name": "python3"
  },
  "language_info": {
   "codemirror_mode": {
    "name": "ipython",
    "version": 3
   },
   "file_extension": ".py",
   "mimetype": "text/x-python",
   "name": "python",
   "nbconvert_exporter": "python",
   "pygments_lexer": "ipython3",
   "version": "3.11.5"
  }
 },
 "nbformat": 4,
 "nbformat_minor": 5
}
